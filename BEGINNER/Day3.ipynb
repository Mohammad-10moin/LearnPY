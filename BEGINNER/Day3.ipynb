{
 "cells": [
  {
   "cell_type": "markdown",
   "id": "8ae5d6ae-4789-4289-8777-6383d048530b",
   "metadata": {},
   "source": [
    "### Arithmetic Operators"
   ]
  },
  {
   "cell_type": "code",
   "execution_count": 1,
   "id": "dae6bcff-8608-4773-8332-e61bd45f3d6e",
   "metadata": {},
   "outputs": [
    {
     "name": "stdout",
     "output_type": "stream",
     "text": [
      "5\n",
      "1\n",
      "6\n",
      "1.5\n",
      "1\n",
      "9\n",
      "1\n"
     ]
    }
   ],
   "source": [
    "print(3+2)\n",
    "print(3-2)\n",
    "print(3*2)\n",
    "print(3/2)\n",
    "# // operator removes the decimal points from the result of division\n",
    "print(3//2)\n",
    "# ** operator is the power operator in python\n",
    "print(3**2)\n",
    "# % modulo operator\n",
    "print(3%2)\n"
   ]
  },
  {
   "cell_type": "markdown",
   "id": "97af016a-f961-4476-9348-7b99eedb8ed8",
   "metadata": {},
   "source": [
    "### TypeCasting\n",
    "#### 1.implicit\n",
    "#### 2.explicit"
   ]
  },
  {
   "cell_type": "code",
   "execution_count": 4,
   "id": "3c97ce0d-3a5f-4666-a0c9-dd84c899d28b",
   "metadata": {},
   "outputs": [
    {
     "name": "stdout",
     "output_type": "stream",
     "text": [
      "92\n",
      "11\n"
     ]
    }
   ],
   "source": [
    "# explicit typeCasting\n",
    "a=\"9\"\n",
    "b=\"2\"\n",
    "print(a+b)\n",
    "print(int(a)+int(b))"
   ]
  },
  {
   "cell_type": "code",
   "execution_count": 9,
   "id": "39812f1b-7b67-4f4c-b267-17bb3054baf7",
   "metadata": {},
   "outputs": [
    {
     "name": "stdout",
     "output_type": "stream",
     "text": [
      "4.4\n"
     ]
    }
   ],
   "source": [
    "#implicit Conversion\n",
    "c=2.4\n",
    "d=2\n",
    "print(c+d)"
   ]
  },
  {
   "cell_type": "markdown",
   "id": "43921a02-6b4f-42f7-9ccc-beeb6ee44d03",
   "metadata": {},
   "source": [
    "### User Input"
   ]
  },
  {
   "cell_type": "code",
   "execution_count": 10,
   "id": "e9e7bdc8-8b24-417f-964c-208d6dd742c2",
   "metadata": {},
   "outputs": [
    {
     "name": "stdin",
     "output_type": "stream",
     "text": [
      "enter number a :  10\n"
     ]
    }
   ],
   "source": [
    "a=int(input(\"enter number a : \" ))"
   ]
  },
  {
   "cell_type": "code",
   "execution_count": 13,
   "id": "e9da754a-a4e5-4409-a412-d9320794c852",
   "metadata": {},
   "outputs": [
    {
     "name": "stdin",
     "output_type": "stream",
     "text": [
      "enter what you wish  23wesd\n"
     ]
    },
    {
     "name": "stdout",
     "output_type": "stream",
     "text": [
      "23wesd\n"
     ]
    }
   ],
   "source": [
    "b=input(\"enter what you wish \")\n",
    "print(b)"
   ]
  },
  {
   "cell_type": "code",
   "execution_count": null,
   "id": "7c3447c0-1e65-4f1b-bc75-72a9298e17ca",
   "metadata": {},
   "outputs": [],
   "source": []
  }
 ],
 "metadata": {
  "kernelspec": {
   "display_name": "Python 3 (ipykernel)",
   "language": "python",
   "name": "python3"
  },
  "language_info": {
   "codemirror_mode": {
    "name": "ipython",
    "version": 3
   },
   "file_extension": ".py",
   "mimetype": "text/x-python",
   "name": "python",
   "nbconvert_exporter": "python",
   "pygments_lexer": "ipython3",
   "version": "3.12.0"
  }
 },
 "nbformat": 4,
 "nbformat_minor": 5
}
