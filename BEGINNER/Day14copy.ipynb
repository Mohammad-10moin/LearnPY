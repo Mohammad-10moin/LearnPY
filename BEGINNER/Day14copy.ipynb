{
 "cells": [
  {
   "cell_type": "code",
   "execution_count": 1,
   "id": "50a4e817-df73-40f8-9220-789b625677e4",
   "metadata": {},
   "outputs": [
    {
     "name": "stderr",
     "output_type": "stream",
     "text": [
      "usage: ipykernel_launcher.py [-h] [-o OUTPUT] url\n",
      "ipykernel_launcher.py: error: unrecognized arguments: -f\n"
     ]
    },
    {
     "ename": "SystemExit",
     "evalue": "2",
     "output_type": "error",
     "traceback": [
      "An exception has occurred, use %tb to see the full traceback.\n",
      "\u001b[1;31mSystemExit\u001b[0m\u001b[1;31m:\u001b[0m 2\n"
     ]
    },
    {
     "name": "stderr",
     "output_type": "stream",
     "text": [
      "C:\\Users\\DELL\\AppData\\Roaming\\Python\\Python312\\site-packages\\IPython\\core\\interactiveshell.py:3558: UserWarning: To exit: use 'exit', 'quit', or Ctrl-D.\n",
      "  warn(\"To exit: use 'exit', 'quit', or Ctrl-D.\", stacklevel=1)\n"
     ]
    }
   ],
   "source": [
    "import argparse\n",
    "import requests\n",
    "def download_file(url,local_filename):\n",
    "    if local_filename is None:\n",
    "        local_filename=url.split(\"/\")[-1]\n",
    "    with requests.get(url,stream=True ) as r:\n",
    "        r.raise_for_status()\n",
    "        with open(local_filename,'wb') as f:\n",
    "            for chunk in r.iter_content(chunk_size=8192):\n",
    "                f.write(chunk)\n",
    "    return local_filename\n",
    "parser=argparse.ArgumentParser()\n",
    "\n",
    "parser.add_argument(\"url\",help=\"url of the file to download\")\n",
    "\n",
    "parser.add_argument(\"-o\",\"--output\",help=\"Name of the file\",default=None)\n",
    "args=parser.parse_args()\n",
    "\n",
    "print(args.url)\n",
    "print(args.output, type(args.output))\n",
    "download_file(args.url,args.output)"
   ]
  },
  {
   "cell_type": "markdown",
   "id": "3783880b-38c4-4fe0-a1e5-eeeb0a9004b6",
   "metadata": {},
   "source": [
    "### Walrus Operator -from py3.8"
   ]
  },
  {
   "cell_type": "code",
   "execution_count": 1,
   "id": "604f5687-ff97-4316-a88e-4176b5f8e892",
   "metadata": {},
   "outputs": [
    {
     "ename": "TypeError",
     "evalue": "'a' is an invalid keyword argument for print()",
     "output_type": "error",
     "traceback": [
      "\u001b[1;31m---------------------------------------------------------------------------\u001b[0m",
      "\u001b[1;31mTypeError\u001b[0m                                 Traceback (most recent call last)",
      "Cell \u001b[1;32mIn[1], line 3\u001b[0m\n\u001b[0;32m      1\u001b[0m \u001b[38;5;66;03m# without walrus operator\u001b[39;00m\n\u001b[0;32m      2\u001b[0m a\u001b[38;5;241m=\u001b[39m\u001b[38;5;28;01mTrue\u001b[39;00m\n\u001b[1;32m----> 3\u001b[0m \u001b[38;5;28;43mprint\u001b[39;49m\u001b[43m(\u001b[49m\u001b[43ma\u001b[49m\u001b[38;5;241;43m=\u001b[39;49m\u001b[38;5;28;43;01mFalse\u001b[39;49;00m\u001b[43m)\u001b[49m\n",
      "\u001b[1;31mTypeError\u001b[0m: 'a' is an invalid keyword argument for print()"
     ]
    }
   ],
   "source": [
    "# without walrus operator\n",
    "a=True\n",
    "print(a=False)"
   ]
  },
  {
   "cell_type": "code",
   "execution_count": 2,
   "id": "54fa9d92-da74-4cc0-b0b3-e03f5ee468c8",
   "metadata": {},
   "outputs": [
    {
     "name": "stdout",
     "output_type": "stream",
     "text": [
      "False\n"
     ]
    }
   ],
   "source": [
    "# with walrus operator\n",
    "a=True\n",
    "print(a:=False)"
   ]
  },
  {
   "cell_type": "code",
   "execution_count": 3,
   "id": "879ea92b-bb2d-48b6-993a-4e224578b16a",
   "metadata": {},
   "outputs": [
    {
     "data": {
      "text/plain": [
       "'Here := is used to assign a value in a statement'"
      ]
     },
     "execution_count": 3,
     "metadata": {},
     "output_type": "execute_result"
    }
   ],
   "source": [
    "'''Here := is used to assign a value in a statement'''"
   ]
  },
  {
   "cell_type": "code",
   "execution_count": 4,
   "id": "ae603ecc-6f4d-4a3c-b47d-c8cc1bb93fd5",
   "metadata": {},
   "outputs": [
    {
     "name": "stdout",
     "output_type": "stream",
     "text": [
      "9\n",
      "8\n",
      "7\n",
      "6\n",
      "5\n",
      "4\n",
      "3\n",
      "2\n",
      "1\n"
     ]
    }
   ],
   "source": [
    "m=[1,2,3,4,5,6,7,8,9]\n",
    "while(n:=len(m))>0:\n",
    "    print(m.pop())"
   ]
  },
  {
   "cell_type": "markdown",
   "id": "434cfa39-b55c-4944-9f7b-454bd70f2674",
   "metadata": {},
   "source": [
    "### shutil"
   ]
  },
  {
   "cell_type": "code",
   "execution_count": 6,
   "id": "f8658a97-aad3-4ea6-a8c8-6960a84f7d95",
   "metadata": {},
   "outputs": [],
   "source": [
    "import shutil\n",
    "shut"
   ]
  },
  {
   "cell_type": "code",
   "execution_count": null,
   "id": "be310e3f-db1f-4547-82f7-434c19ece296",
   "metadata": {},
   "outputs": [],
   "source": []
  }
 ],
 "metadata": {
  "kernelspec": {
   "display_name": "Python 3 (ipykernel)",
   "language": "python",
   "name": "python3"
  },
  "language_info": {
   "codemirror_mode": {
    "name": "ipython",
    "version": 3
   },
   "file_extension": ".py",
   "mimetype": "text/x-python",
   "name": "python",
   "nbconvert_exporter": "python",
   "pygments_lexer": "ipython3",
   "version": "3.12.0"
  }
 },
 "nbformat": 4,
 "nbformat_minor": 5
}
