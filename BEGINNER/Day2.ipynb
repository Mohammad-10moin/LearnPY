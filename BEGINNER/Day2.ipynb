{
 "cells": [
  {
   "cell_type": "code",
   "execution_count": 4,
   "id": "bd42a2d6-cef5-4a77-a803-11c416ce0094",
   "metadata": {},
   "outputs": [
    {
     "name": "stdout",
     "output_type": "stream",
     "text": [
      "hello this is day  2\n"
     ]
    }
   ],
   "source": [
    "print(\"hello this is day \" ,2)"
   ]
  },
  {
   "cell_type": "code",
   "execution_count": 3,
   "id": "e3b1b7f5-0041-426d-82e8-b50e8c70bc63",
   "metadata": {},
   "outputs": [
    {
     "data": {
      "text/plain": [
       "10"
      ]
     },
     "execution_count": 3,
     "metadata": {},
     "output_type": "execute_result"
    }
   ],
   "source": [
    "5+5"
   ]
  },
  {
   "cell_type": "markdown",
   "id": "bfd7e2b7-40bc-497e-ba6c-4ec2942b4df3",
   "metadata": {},
   "source": [
    "### escape sequence character"
   ]
  },
  {
   "cell_type": "code",
   "execution_count": 6,
   "id": "9c115470-71f1-4734-a2be-1857f6c5ab7a",
   "metadata": {},
   "outputs": [
    {
     "name": "stdout",
     "output_type": "stream",
     "text": [
      "MY name is MOHAMMAD MOEENUDDIN \n",
      " I want to learn python.\n"
     ]
    }
   ],
   "source": [
    "print(\"MY name is MOHAMMAD MOEENUDDIN \\n I want to learn python.\")"
   ]
  },
  {
   "cell_type": "code",
   "execution_count": 14,
   "id": "fb4a27bf-8275-467e-91d5-309410d5b472",
   "metadata": {},
   "outputs": [
    {
     "name": "stdout",
     "output_type": "stream",
     "text": [
      "using tab\tspace\n"
     ]
    }
   ],
   "source": [
    "print(\"using tab\\tspace\")"
   ]
  },
  {
   "cell_type": "markdown",
   "id": "e138b1a0-4a74-44d3-b122-65e5cd8c3cd6",
   "metadata": {},
   "source": [
    "### comments"
   ]
  },
  {
   "cell_type": "code",
   "execution_count": 8,
   "id": "0cc27c77-bb98-46cc-8678-6b37d68d68fd",
   "metadata": {},
   "outputs": [],
   "source": [
    "# lets see how to write a comment"
   ]
  },
  {
   "cell_type": "code",
   "execution_count": 9,
   "id": "b7d030bc-9da0-49ee-b928-3ee51eaf2070",
   "metadata": {},
   "outputs": [
    {
     "data": {
      "text/plain": [
       "'Using triple single quotes we can write multiline comments\\nand you see this by running these lines of code .'"
      ]
     },
     "execution_count": 9,
     "metadata": {},
     "output_type": "execute_result"
    }
   ],
   "source": [
    "'''Using triple single quotes we can write multiline comments\n",
    "and you see this by running these lines of code .'''"
   ]
  },
  {
   "cell_type": "code",
   "execution_count": 11,
   "id": "2529adc7-2a41-43a4-add4-847531c4926f",
   "metadata": {},
   "outputs": [
    {
     "data": {
      "text/plain": [
       "'Hello Moin'"
      ]
     },
     "execution_count": 11,
     "metadata": {},
     "output_type": "execute_result"
    }
   ],
   "source": [
    "'''Hello Moin'''"
   ]
  },
  {
   "cell_type": "markdown",
   "id": "52f8fb6d-f377-435d-8afb-7bd0ec668025",
   "metadata": {},
   "source": [
    "Here we can see that using triple single quotes we are also able print the multi line comments "
   ]
  },
  {
   "cell_type": "code",
   "execution_count": 13,
   "id": "ab9a455c-7675-48fd-9ce2-b401cd32f055",
   "metadata": {},
   "outputs": [
    {
     "data": {
      "text/plain": [
       "'Using triple double quotes we can write multiline comments\\nand you see this by running these lines of code '"
      ]
     },
     "execution_count": 13,
     "metadata": {},
     "output_type": "execute_result"
    }
   ],
   "source": [
    "\"\"\"Using triple double quotes we can write multiline comments\n",
    "and you see this by running these lines of code \"\"\""
   ]
  },
  {
   "cell_type": "markdown",
   "id": "c6094fcd-16e2-4848-a60f-9b14708cab07",
   "metadata": {},
   "source": [
    "### Print Function"
   ]
  },
  {
   "cell_type": "code",
   "execution_count": 15,
   "id": "b1b3f4d2-96a1-4a05-bc21-a2f8597f9c49",
   "metadata": {},
   "outputs": [
    {
     "name": "stdout",
     "output_type": "stream",
     "text": [
      "HEllo 2 10\n"
     ]
    }
   ],
   "source": [
    "print(\"HEllo\",2,10)"
   ]
  },
  {
   "cell_type": "code",
   "execution_count": 19,
   "id": "90bf2d5b-f122-4d43-8e42-04e81426b544",
   "metadata": {},
   "outputs": [
    {
     "name": "stdout",
     "output_type": "stream",
     "text": [
      "Python~10~day2,MOIN\n"
     ]
    }
   ],
   "source": [
    "# using seperator\n",
    "print(\"Python\",10,\"day2,MOIN\",sep=\"~\")"
   ]
  },
  {
   "cell_type": "markdown",
   "id": "80b9ab90-05e5-45a7-87fb-70a20f14eaee",
   "metadata": {},
   "source": [
    "by default the seperator is space "
   ]
  },
  {
   "cell_type": "code",
   "execution_count": 21,
   "id": "97dc347c-5637-4523-a82c-c9490ec49280",
   "metadata": {},
   "outputs": [
    {
     "name": "stdout",
     "output_type": "stream",
     "text": [
      "Python~10~day2,MOIN|MOIN\n"
     ]
    }
   ],
   "source": [
    "# using end\n",
    "print(\"Python\",10,\"day2,MOIN\",sep=\"~\",end=\"|\")\n",
    "print(\"MOIN\")"
   ]
  },
  {
   "cell_type": "code",
   "execution_count": 22,
   "id": "2fde0f46-778e-4548-982d-29acd75695e9",
   "metadata": {},
   "outputs": [
    {
     "name": "stdout",
     "output_type": "stream",
     "text": [
      "Python~10~day2,MOIN\n",
      "MOIN\n"
     ]
    }
   ],
   "source": [
    "print(\"Python\",10,\"day2,MOIN\",sep=\"~\")\n",
    "print(\"MOIN\")"
   ]
  },
  {
   "cell_type": "markdown",
   "id": "6ce21d63-b0ff-4223-80a2-2dd3aeb86457",
   "metadata": {},
   "source": [
    "BY default the end value used is '\\n'"
   ]
  },
  {
   "cell_type": "markdown",
   "id": "7825db5f-093f-4d9a-b946-611859519c09",
   "metadata": {},
   "source": [
    "### Variables and Data types"
   ]
  },
  {
   "cell_type": "code",
   "execution_count": 24,
   "id": "60966465-b2ba-404e-80d2-0c2f4f7ac97f",
   "metadata": {},
   "outputs": [
    {
     "name": "stdout",
     "output_type": "stream",
     "text": [
      "10\n"
     ]
    }
   ],
   "source": [
    "a=10\n",
    "print(a)"
   ]
  },
  {
   "cell_type": "markdown",
   "id": "22fd6a51-9178-4bb8-ad35-c83a3d2379b1",
   "metadata": {},
   "source": [
    "Here the value 10 is assigned inside the memory and its address is assigned to the variable a.\n"
   ]
  },
  {
   "cell_type": "markdown",
   "id": "84bbfb22-33a3-4ce3-94ca-d4a1a9df69a3",
   "metadata": {},
   "source": [
    "every time we call \"a\" , The value associated with that address is being called. "
   ]
  },
  {
   "cell_type": "code",
   "execution_count": 25,
   "id": "c890f5f9-d664-4377-87e9-84293a2475a0",
   "metadata": {},
   "outputs": [
    {
     "name": "stdout",
     "output_type": "stream",
     "text": [
      "MOIN\n"
     ]
    }
   ],
   "source": [
    "b=\"MOIN\"\n",
    "print(b)"
   ]
  },
  {
   "cell_type": "code",
   "execution_count": 31,
   "id": "e57a8f8b-05d6-47a4-a894-56b3ee11c085",
   "metadata": {},
   "outputs": [
    {
     "name": "stdout",
     "output_type": "stream",
     "text": [
      "True\n"
     ]
    }
   ],
   "source": [
    "c=True\n",
    "print(c)"
   ]
  },
  {
   "cell_type": "code",
   "execution_count": 38,
   "id": "f3bfb1c5-72c4-4591-82ae-cfbc15656fe4",
   "metadata": {},
   "outputs": [
    {
     "name": "stdout",
     "output_type": "stream",
     "text": [
      "None\n"
     ]
    }
   ],
   "source": [
    "d=None\n",
    "print(d)"
   ]
  },
  {
   "cell_type": "code",
   "execution_count": 39,
   "id": "e2cc21a3-5f65-4699-8d44-c1d4f7703e85",
   "metadata": {},
   "outputs": [
    {
     "name": "stdout",
     "output_type": "stream",
     "text": [
      "<class 'int'>\n",
      "<class 'str'>\n",
      "<class 'bool'>\n",
      "<class 'NoneType'>\n"
     ]
    }
   ],
   "source": [
    "print(type(a))\n",
    "print(type(b))\n",
    "print(type(c))\n",
    "print(type(d))"
   ]
  },
  {
   "cell_type": "code",
   "execution_count": 40,
   "id": "c20c2d98-5511-4e6f-8ce4-0d4f1486a1de",
   "metadata": {},
   "outputs": [
    {
     "name": "stdout",
     "output_type": "stream",
     "text": [
      "23.5\n",
      "<class 'float'>\n"
     ]
    }
   ],
   "source": [
    "e=23.5\n",
    "print(e)\n",
    "print(type(e))"
   ]
  },
  {
   "cell_type": "code",
   "execution_count": 41,
   "id": "adac18b7-e7e3-4d3f-a577-aba0db94626e",
   "metadata": {},
   "outputs": [
    {
     "name": "stdout",
     "output_type": "stream",
     "text": [
      "(5+2j)\n",
      "<class 'complex'>\n"
     ]
    }
   ],
   "source": [
    "f=complex(5,2)\n",
    "print(f)\n",
    "print(type(f))"
   ]
  },
  {
   "cell_type": "code",
   "execution_count": null,
   "id": "43383d32-34ba-4bb7-898c-0c21d74f8607",
   "metadata": {},
   "outputs": [],
   "source": []
  }
 ],
 "metadata": {
  "kernelspec": {
   "display_name": "Python 3 (ipykernel)",
   "language": "python",
   "name": "python3"
  },
  "language_info": {
   "codemirror_mode": {
    "name": "ipython",
    "version": 3
   },
   "file_extension": ".py",
   "mimetype": "text/x-python",
   "name": "python",
   "nbconvert_exporter": "python",
   "pygments_lexer": "ipython3",
   "version": "3.12.0"
  }
 },
 "nbformat": 4,
 "nbformat_minor": 5
}
