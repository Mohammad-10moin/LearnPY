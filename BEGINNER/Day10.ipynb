{
 "cells": [
  {
   "cell_type": "code",
   "execution_count": 1,
   "id": "c0cc9697-4a4d-4be1-aef2-b3c1caacd8ac",
   "metadata": {},
   "outputs": [
    {
     "name": "stdout",
     "output_type": "stream",
     "text": [
      "2024-06-05\n"
     ]
    }
   ],
   "source": [
    "from datetime import date\n",
    "print(date.today())"
   ]
  },
  {
   "cell_type": "markdown",
   "id": "24fd9841-bf52-4f20-b72c-45d862a65d44",
   "metadata": {},
   "source": [
    "### Enumerate"
   ]
  },
  {
   "cell_type": "code",
   "execution_count": 3,
   "id": "a3d2a739-15ee-480c-b356-f32fc8a69859",
   "metadata": {},
   "outputs": [
    {
     "name": "stdout",
     "output_type": "stream",
     "text": [
      "1\n",
      "2\n",
      "3\n",
      "index is 2 and value is  3\n",
      "4\n"
     ]
    }
   ],
   "source": [
    "# enumerate is used to iterate the index and the values at same time simultaneously.Lets see an example:\n",
    "# without enumerator:\n",
    "index=0\n",
    "marks=[1,2,3,4]\n",
    "for mark in marks:\n",
    "    print(mark)\n",
    "    if(index==2):\n",
    "        print(\"index is 2 and value is \",mark)\n",
    "    index+=1\n"
   ]
  },
  {
   "cell_type": "code",
   "execution_count": 9,
   "id": "a52a2c82-89cf-40c4-9ada-7f19c71b1705",
   "metadata": {},
   "outputs": [
    {
     "name": "stdout",
     "output_type": "stream",
     "text": [
      "index: 0 - marks: 1\n",
      "index: 1 - marks: 2\n",
      "index: 2 - marks: 3\n",
      "index is 2 and value is  3\n",
      "index: 3 - marks: 4\n"
     ]
    }
   ],
   "source": [
    "# with enumerator:\n",
    "for index, mark in enumerate(marks):\n",
    "    print(\"index:\",index,\"-\",\"marks:\",mark)\n",
    "    if(index==2):\n",
    "        print(\"index is 2 and value is \",mark)"
   ]
  },
  {
   "cell_type": "markdown",
   "id": "9320399a-ee4d-4629-9e05-3d814c6637d4",
   "metadata": {},
   "source": [
    "#### Import"
   ]
  },
  {
   "cell_type": "code",
   "execution_count": 10,
   "id": "b70d53af-35a7-405c-9a5c-098109fad02f",
   "metadata": {},
   "outputs": [
    {
     "name": "stdout",
     "output_type": "stream",
     "text": [
      "['__doc__', '__loader__', '__name__', '__package__', '__spec__', 'acos', 'acosh', 'asin', 'asinh', 'atan', 'atan2', 'atanh', 'cbrt', 'ceil', 'comb', 'copysign', 'cos', 'cosh', 'degrees', 'dist', 'e', 'erf', 'erfc', 'exp', 'exp2', 'expm1', 'fabs', 'factorial', 'floor', 'fmod', 'frexp', 'fsum', 'gamma', 'gcd', 'hypot', 'inf', 'isclose', 'isfinite', 'isinf', 'isnan', 'isqrt', 'lcm', 'ldexp', 'lgamma', 'log', 'log10', 'log1p', 'log2', 'modf', 'nan', 'nextafter', 'perm', 'pi', 'pow', 'prod', 'radians', 'remainder', 'sin', 'sinh', 'sqrt', 'sumprod', 'tan', 'tanh', 'tau', 'trunc', 'ulp']\n"
     ]
    }
   ],
   "source": [
    "import math\n",
    "print(dir(math))"
   ]
  },
  {
   "cell_type": "code",
   "execution_count": 11,
   "id": "62f0b512-497b-4651-bf04-d8d8d1fc64d5",
   "metadata": {},
   "outputs": [
    {
     "name": "stdout",
     "output_type": "stream",
     "text": [
      "['MAXYEAR', 'MINYEAR', 'UTC', '__all__', '__builtins__', '__cached__', '__doc__', '__file__', '__loader__', '__name__', '__package__', '__spec__', 'date', 'datetime', 'datetime_CAPI', 'time', 'timedelta', 'timezone', 'tzinfo']\n"
     ]
    }
   ],
   "source": [
    "import datetime\n",
    "print(dir(datetime))"
   ]
  },
  {
   "cell_type": "markdown",
   "id": "c83c5bb4-601c-4d0e-8832-898a0e28ca93",
   "metadata": {},
   "source": [
    "### Importing a user defined package Moin"
   ]
  },
  {
   "cell_type": "code",
   "execution_count": 12,
   "id": "b06646a6-a09f-4199-8417-cb35897b3af5",
   "metadata": {},
   "outputs": [
    {
     "name": "stdout",
     "output_type": "stream",
     "text": [
      "Mohammad Moeenuddin\n",
      "Assalam wa alaikum\n",
      "wa alaikum salam\n"
     ]
    }
   ],
   "source": [
    "from Moin import salam,moin\n",
    "print(moin)\n",
    "salam()"
   ]
  },
  {
   "cell_type": "markdown",
   "id": "27f92bc7-8c09-4d09-8570-fa53f9e284f8",
   "metadata": {},
   "source": [
    "#### if _ _ _name_ _ _ == \"_ _ _main_ _ _\""
   ]
  },
  {
   "cell_type": "code",
   "execution_count": 22,
   "id": "b292d204-ca89-4484-8019-198b5cfc5eae",
   "metadata": {},
   "outputs": [
    {
     "name": "stdout",
     "output_type": "stream",
     "text": [
      "Assalam wa alaikum\n",
      "wa alaikum salam\n"
     ]
    }
   ],
   "source": [
    "from Moin import salam\n",
    "salam()\n",
    "# salam()"
   ]
  },
  {
   "cell_type": "code",
   "execution_count": null,
   "id": "c52b910e-d205-433d-a1d5-a950470a822e",
   "metadata": {},
   "outputs": [],
   "source": []
  },
  {
   "cell_type": "code",
   "execution_count": null,
   "id": "7d125435-2d81-4ae0-8784-edd9d83473b5",
   "metadata": {},
   "outputs": [],
   "source": []
  }
 ],
 "metadata": {
  "kernelspec": {
   "display_name": "Python 3 (ipykernel)",
   "language": "python",
   "name": "python3"
  },
  "language_info": {
   "codemirror_mode": {
    "name": "ipython",
    "version": 3
   },
   "file_extension": ".py",
   "mimetype": "text/x-python",
   "name": "python",
   "nbconvert_exporter": "python",
   "pygments_lexer": "ipython3",
   "version": "3.12.0"
  }
 },
 "nbformat": 4,
 "nbformat_minor": 5
}
