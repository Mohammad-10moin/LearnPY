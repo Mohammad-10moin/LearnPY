{
 "cells": [
  {
   "cell_type": "code",
   "execution_count": 2,
   "id": "a4cff144-57a2-4ac8-8432-c2441db15dfa",
   "metadata": {},
   "outputs": [
    {
     "name": "stdout",
     "output_type": "stream",
     "text": [
      "Bismillah\n",
      "\n",
      "Assalam Walaikum wa rehmatullahi wa barkathahu\n",
      "python\n",
      "\n",
      "Wa alaikum salam wa rehmatullahi wa barkathahu\n",
      "Moin\n"
     ]
    }
   ],
   "source": [
    "print(\"Bismillah\\n\")\n",
    "print(\"Assalam Walaikum wa rehmatullahi wa barkathahu\")\n",
    "print(\"python\\n\")\n",
    "print(\"Wa alaikum salam wa rehmatullahi wa barkathahu\")\n",
    "print(\"Moin\")"
   ]
  },
  {
   "cell_type": "code",
   "execution_count": null,
   "id": "f8322c33-9a0e-4069-9c73-f7435c1ed1f0",
   "metadata": {},
   "outputs": [],
   "source": []
  }
 ],
 "metadata": {
  "kernelspec": {
   "display_name": "Python 3 (ipykernel)",
   "language": "python",
   "name": "python3"
  },
  "language_info": {
   "codemirror_mode": {
    "name": "ipython",
    "version": 3
   },
   "file_extension": ".py",
   "mimetype": "text/x-python",
   "name": "python",
   "nbconvert_exporter": "python",
   "pygments_lexer": "ipython3",
   "version": "3.12.0"
  }
 },
 "nbformat": 4,
 "nbformat_minor": 5
}
