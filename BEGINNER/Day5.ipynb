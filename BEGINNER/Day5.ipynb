{
 "cells": [
  {
   "cell_type": "code",
   "execution_count": 2,
   "id": "40b4ee24-3022-408c-8e33-94f1246a5535",
   "metadata": {},
   "outputs": [],
   "source": [
    "from datetime import date"
   ]
  },
  {
   "cell_type": "code",
   "execution_count": 3,
   "id": "aac3b12d-1db9-4fb2-b8d7-abfcd353e16c",
   "metadata": {},
   "outputs": [
    {
     "name": "stdout",
     "output_type": "stream",
     "text": [
      "TODAY : 2024-05-30\n"
     ]
    }
   ],
   "source": [
    "print(\"TODAY :\", date.today())"
   ]
  },
  {
   "cell_type": "markdown",
   "id": "2d3444f7-2c66-457d-b217-e1733b8f0593",
   "metadata": {},
   "source": [
    "### String Methods"
   ]
  },
  {
   "cell_type": "code",
   "execution_count": 5,
   "id": "4e715399-ec9c-4c10-b3b8-52eb6dcea2a0",
   "metadata": {},
   "outputs": [],
   "source": [
    "# split"
   ]
  },
  {
   "cell_type": "code",
   "execution_count": 6,
   "id": "53084c90-1dd3-4025-9e54-a6eb011e6fa9",
   "metadata": {},
   "outputs": [
    {
     "name": "stdout",
     "output_type": "stream",
     "text": [
      "['Moin', 'uddin', 'cse', 'student', '']\n"
     ]
    }
   ],
   "source": [
    "a=\"Moin uddin cse student \"\n",
    "print(a.split(\" \"))"
   ]
  },
  {
   "cell_type": "markdown",
   "id": "350e36c4-d180-41d0-b9cb-f608ba6f95bd",
   "metadata": {},
   "source": [
    "here the split function converts the string into list based on the parameter. "
   ]
  },
  {
   "cell_type": "markdown",
   "id": "e820cf90-3df8-4c45-883a-c86c18d5b5a5",
   "metadata": {},
   "source": [
    "Here the parameter is \" \" space."
   ]
  },
  {
   "cell_type": "code",
   "execution_count": 9,
   "id": "ab1fb258-a9e7-4380-a1dd-c8fb944336c8",
   "metadata": {},
   "outputs": [
    {
     "name": "stdout",
     "output_type": "stream",
     "text": [
      "['Moin', 'uddincse', 'student']\n"
     ]
    }
   ],
   "source": [
    "a=\"Moin_uddincse_student\"\n",
    "print(a.split(\"_\"))"
   ]
  },
  {
   "cell_type": "code",
   "execution_count": 10,
   "id": "47f5335a-5b9d-40e8-95eb-962848d368d3",
   "metadata": {},
   "outputs": [],
   "source": [
    "# here the parameter used in the split method is under score \"_\"."
   ]
  },
  {
   "cell_type": "code",
   "execution_count": 11,
   "id": "ddc6c0f8-2a13-466b-8e4c-22924a60ff58",
   "metadata": {},
   "outputs": [
    {
     "data": {
      "text/plain": [
       "' It converts the first charater of the string to upper case and all other characters to lower case .\\nlets see with an example. '"
      ]
     },
     "execution_count": 11,
     "metadata": {},
     "output_type": "execute_result"
    }
   ],
   "source": [
    "# Capitalize()\n",
    "''' It converts the first charater of the string to upper case and all other characters to lower case .\n",
    "lets see with an example. '''"
   ]
  },
  {
   "cell_type": "code",
   "execution_count": 14,
   "id": "a01f7b2a-79f0-47e3-bac6-0cadc1a108ed",
   "metadata": {},
   "outputs": [
    {
     "name": "stdout",
     "output_type": "stream",
     "text": [
      "Apple\n"
     ]
    }
   ],
   "source": [
    "b= \"aPPle\"\n",
    "print(b.capitalize())"
   ]
  },
  {
   "cell_type": "code",
   "execution_count": 15,
   "id": "c0a2cdba-1ce5-4b31-8f16-71aeb2729eeb",
   "metadata": {},
   "outputs": [
    {
     "data": {
      "text/plain": [
       "' It aligns the text to center by converting the length of the string to specified length by also including the spaces.'"
      ]
     },
     "execution_count": 15,
     "metadata": {},
     "output_type": "execute_result"
    }
   ],
   "source": [
    "# Center() \n",
    "''' It aligns the text to center by converting the length of the string to specified length by also including the spaces.'''"
   ]
  },
  {
   "cell_type": "code",
   "execution_count": 17,
   "id": "16a9a299-9db8-4cf1-bcf9-3d1f4191bb30",
   "metadata": {},
   "outputs": [
    {
     "name": "stdout",
     "output_type": "stream",
     "text": [
      "          aPPle          \n",
      "5\n",
      "25\n"
     ]
    }
   ],
   "source": [
    "print(b.center(25))\n",
    "print(len(b))\n",
    "print(len(b.center(25)))"
   ]
  },
  {
   "cell_type": "code",
   "execution_count": 18,
   "id": "3cf9892f-6819-4172-9ee4-d50e17701c4f",
   "metadata": {},
   "outputs": [
    {
     "data": {
      "text/plain": [
       "' IT counts the no of occurences of the a charater or a string in a given string. '"
      ]
     },
     "execution_count": 18,
     "metadata": {},
     "output_type": "execute_result"
    }
   ],
   "source": [
    "# Count()\n",
    "''' IT counts the no of occurences of the a charater or a string in a given string. '''"
   ]
  },
  {
   "cell_type": "code",
   "execution_count": 19,
   "id": "d339a892-ba06-4000-97e2-e9802fea65e7",
   "metadata": {},
   "outputs": [
    {
     "name": "stdout",
     "output_type": "stream",
     "text": [
      "0\n"
     ]
    }
   ],
   "source": [
    "print(b.count(\"p\"))"
   ]
  },
  {
   "cell_type": "code",
   "execution_count": 20,
   "id": "5f41f5ec-8c24-461b-b757-28604b9503f5",
   "metadata": {},
   "outputs": [
    {
     "name": "stdout",
     "output_type": "stream",
     "text": [
      "aPPle\n"
     ]
    }
   ],
   "source": [
    "print(b)"
   ]
  },
  {
   "cell_type": "code",
   "execution_count": 21,
   "id": "60ce9969-44b2-4797-8902-135c4564665e",
   "metadata": {},
   "outputs": [
    {
     "name": "stdout",
     "output_type": "stream",
     "text": [
      "2\n"
     ]
    }
   ],
   "source": [
    "print(b.count(\"P\"))"
   ]
  },
  {
   "cell_type": "code",
   "execution_count": 24,
   "id": "9213eef6-db48-4470-bde0-62bde312ff32",
   "metadata": {},
   "outputs": [
    {
     "data": {
      "text/plain": [
       "'Here we can see that the count() si case sensitive.'"
      ]
     },
     "execution_count": 24,
     "metadata": {},
     "output_type": "execute_result"
    }
   ],
   "source": [
    "'''Here we can see that the count() si case sensitive.'''"
   ]
  },
  {
   "cell_type": "code",
   "execution_count": 25,
   "id": "54d2d477-3489-4c77-95f3-cfd9a3edcfca",
   "metadata": {},
   "outputs": [],
   "source": [
    "# endswith()"
   ]
  },
  {
   "cell_type": "code",
   "execution_count": 26,
   "id": "4d4bb3ce-de6c-4467-a906-683969332396",
   "metadata": {},
   "outputs": [
    {
     "name": "stdout",
     "output_type": "stream",
     "text": [
      "True\n",
      "False\n"
     ]
    }
   ],
   "source": [
    "print(b.endswith(\"e\"))\n",
    "print(b.endswith(\"E\"))"
   ]
  },
  {
   "cell_type": "code",
   "execution_count": 27,
   "id": "cc2d987f-7455-4850-92e7-91111636225d",
   "metadata": {},
   "outputs": [
    {
     "data": {
      "text/plain": [
       "'endswith is also case sensitive'"
      ]
     },
     "execution_count": 27,
     "metadata": {},
     "output_type": "execute_result"
    }
   ],
   "source": [
    "'''endswith is also case sensitive'''"
   ]
  },
  {
   "cell_type": "code",
   "execution_count": 33,
   "id": "8b824aab-c032-4670-a703-d2417b44bd98",
   "metadata": {},
   "outputs": [
    {
     "name": "stdout",
     "output_type": "stream",
     "text": [
      "True\n"
     ]
    }
   ],
   "source": [
    "str=\"welcome to Pyth0n \"\n",
    "print(str.endswith(\"Py\",4,13))"
   ]
  },
  {
   "cell_type": "code",
   "execution_count": 35,
   "id": "1fa7dbc0-e2d5-4215-8e8f-698ca4edaa35",
   "metadata": {},
   "outputs": [
    {
     "name": "stdout",
     "output_type": "stream",
     "text": [
      "1\n"
     ]
    }
   ],
   "source": [
    "# find()\n",
    "print(b.find(\"P\"))"
   ]
  },
  {
   "cell_type": "code",
   "execution_count": 36,
   "id": "4f459e77-61b9-4342-b639-979359214ba0",
   "metadata": {},
   "outputs": [
    {
     "data": {
      "text/plain": [
       "'returns boolean value where given string is alpha numeric or not.'"
      ]
     },
     "execution_count": 36,
     "metadata": {},
     "output_type": "execute_result"
    }
   ],
   "source": [
    "# isalnum()\n",
    "'''returns boolean value where given string is alpha numeric or not.'''"
   ]
  },
  {
   "cell_type": "code",
   "execution_count": 37,
   "id": "c0ad71dd-4e84-4cce-be81-75e8d6a7f81b",
   "metadata": {},
   "outputs": [
    {
     "name": "stdout",
     "output_type": "stream",
     "text": [
      "True\n"
     ]
    }
   ],
   "source": [
    "print(b.isalnum())"
   ]
  },
  {
   "cell_type": "code",
   "execution_count": 41,
   "id": "4a80607e-a9f2-4b7f-a585-78fbbfd9b066",
   "metadata": {},
   "outputs": [
    {
     "name": "stdout",
     "output_type": "stream",
     "text": [
      "True\n"
     ]
    }
   ],
   "source": [
    "# isalpha()\n",
    "print(b.isalpha())"
   ]
  },
  {
   "cell_type": "code",
   "execution_count": 42,
   "id": "403b4413-8e58-4f52-97eb-49c0c10aa634",
   "metadata": {},
   "outputs": [
    {
     "name": "stdout",
     "output_type": "stream",
     "text": [
      "AppLE\n"
     ]
    }
   ],
   "source": [
    "# swapcase()\n",
    "print(b.swapcase())"
   ]
  },
  {
   "cell_type": "code",
   "execution_count": 46,
   "id": "f8bd30f9-cbca-41ee-924c-14c0ad13cddb",
   "metadata": {},
   "outputs": [
    {
     "name": "stdin",
     "output_type": "stream",
     "text": [
      "enter your age :  21\n"
     ]
    },
    {
     "name": "stdout",
     "output_type": "stream",
     "text": [
      "You can drive \n"
     ]
    }
   ],
   "source": [
    "age=int(input(\"enter your age : \"))\n",
    "if( age<18 ):\n",
    "    print(\"you cant drive \")\n",
    "else:\n",
    "    print(\"You can drive \")"
   ]
  },
  {
   "cell_type": "code",
   "execution_count": 53,
   "id": "e4d6afb8-1a9d-4bbd-b095-43e774befd16",
   "metadata": {},
   "outputs": [
    {
     "name": "stdin",
     "output_type": "stream",
     "text": [
      "enter your age :  21\n"
     ]
    },
    {
     "name": "stdout",
     "output_type": "stream",
     "text": [
      "you can drive\n"
     ]
    }
   ],
   "source": [
    "age=int(input(\"enter your age : \"))\n",
    "if( age<18 ):\n",
    "    print(\"you cant drive \")\n",
    "elif(age>100):\n",
    "    print(\"You cant drive \")\n",
    "else:\n",
    "    print(\"you can drive\")"
   ]
  },
  {
   "cell_type": "code",
   "execution_count": null,
   "id": "595f7094-3ec7-436e-9602-ba45a456023b",
   "metadata": {},
   "outputs": [],
   "source": []
  }
 ],
 "metadata": {
  "kernelspec": {
   "display_name": "Python 3 (ipykernel)",
   "language": "python",
   "name": "python3"
  },
  "language_info": {
   "codemirror_mode": {
    "name": "ipython",
    "version": 3
   },
   "file_extension": ".py",
   "mimetype": "text/x-python",
   "name": "python",
   "nbconvert_exporter": "python",
   "pygments_lexer": "ipython3",
   "version": "3.12.0"
  }
 },
 "nbformat": 4,
 "nbformat_minor": 5
}
