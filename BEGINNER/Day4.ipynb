{
 "cells": [
  {
   "cell_type": "markdown",
   "id": "27f1b8e8-2e25-4de7-932d-4da57c230a71",
   "metadata": {},
   "source": [
    "### INPUT Function"
   ]
  },
  {
   "cell_type": "code",
   "execution_count": 4,
   "id": "70a9699e-2a14-4460-b0d2-1448217c42c5",
   "metadata": {},
   "outputs": [
    {
     "name": "stdin",
     "output_type": "stream",
     "text": [
      "enter 1st number: 10\n",
      "enter 2nd number: 20\n"
     ]
    },
    {
     "name": "stdout",
     "output_type": "stream",
     "text": [
      "1020\n"
     ]
    }
   ],
   "source": [
    "a=input(\"enter 1st number:\")\n",
    "b=input(\"enter 2nd number:\")\n",
    "print(a+b)"
   ]
  },
  {
   "cell_type": "markdown",
   "id": "aa3cffc3-b7a3-46c2-a431-02b50d0f69d0",
   "metadata": {},
   "source": [
    "##### here u can see it is concatinating because default argumemnt is \"string\""
   ]
  },
  {
   "cell_type": "code",
   "execution_count": 8,
   "id": "376ad4a0-a2b7-437a-8e44-38cfd1141d1f",
   "metadata": {},
   "outputs": [
    {
     "name": "stdin",
     "output_type": "stream",
     "text": [
      "enter 1st number: 10\n",
      "enter 2nd number: 321\n"
     ]
    },
    {
     "name": "stdout",
     "output_type": "stream",
     "text": [
      "331\n"
     ]
    }
   ],
   "source": [
    "a=int(input(\"enter 1st number:\"))\n",
    "b=int(input(\"enter 2nd number:\"))\n",
    "print(a+b)"
   ]
  },
  {
   "cell_type": "markdown",
   "id": "1167fc4e-fc18-4804-af58-c9a9c55fc232",
   "metadata": {},
   "source": [
    "### Multi Line string"
   ]
  },
  {
   "cell_type": "code",
   "execution_count": 13,
   "id": "5896290e-77d8-4126-8030-81f31870fe60",
   "metadata": {},
   "outputs": [
    {
     "name": "stdout",
     "output_type": "stream",
     "text": [
      "agfaws\n",
      "agfaws\n",
      "agfva\n",
      "afgagv\n",
      "agfvc\n",
      "argeagdf\n",
      "agf\n",
      "abcd\n",
      "efgh \n",
      "ijkl\n",
      "mnop \n",
      "qrst \n",
      "uvwx\n",
      "yz\n"
     ]
    }
   ],
   "source": [
    "str=\"agfaws\"\n",
    "str1='agfaws'\n",
    "str2=\"\"\"agfva\n",
    "afgagv\n",
    "agfvc\n",
    "argeagdf\n",
    "agf\"\"\"\n",
    "str3='''abcd\n",
    "efgh \n",
    "ijkl\n",
    "mnop \n",
    "qrst \n",
    "uvwx\n",
    "yz'''\n",
    "\n",
    "print(str)\n",
    "print(str1)\n",
    "print(str2)\n",
    "print(str3)\n",
    "# str4=\"asfd\n",
    "# wasdf\n",
    "# asdf\"\n",
    "# here str4 throws an error"
   ]
  },
  {
   "cell_type": "markdown",
   "id": "c643734d-44c3-4a0b-910a-b1e67998c767",
   "metadata": {},
   "source": [
    "### String Like Array of Characters"
   ]
  },
  {
   "cell_type": "code",
   "execution_count": 16,
   "id": "910411cd-16b1-4027-be9b-feef27a8e796",
   "metadata": {},
   "outputs": [
    {
     "name": "stdout",
     "output_type": "stream",
     "text": [
      "MOinuddin\n",
      "9\n"
     ]
    }
   ],
   "source": [
    "name=\"MOinuddin\"\n",
    "print(name)\n",
    "print(len(name))"
   ]
  },
  {
   "cell_type": "code",
   "execution_count": 18,
   "id": "f15bff95-fe6a-466b-99d6-754ebc3d3307",
   "metadata": {},
   "outputs": [
    {
     "name": "stdout",
     "output_type": "stream",
     "text": [
      "M\n",
      "O\n",
      "i\n",
      "n\n",
      "u\n",
      "d\n",
      "d\n",
      "i\n",
      "n\n"
     ]
    }
   ],
   "source": [
    "print(name[0])\n",
    "print(name[1])\n",
    "print(name[2])\n",
    "print(name[3])\n",
    "print(name[4])\n",
    "print(name[5])\n",
    "print(name[6])\n",
    "print(name[7])\n",
    "print(name[8])"
   ]
  },
  {
   "cell_type": "markdown",
   "id": "6d89411d-d35e-4b6c-8dd5-a715217d2aee",
   "metadata": {},
   "source": [
    "### For Loop"
   ]
  },
  {
   "cell_type": "code",
   "execution_count": 19,
   "id": "673b4bc6-7c58-4e4e-a7e0-c9e632a385ad",
   "metadata": {},
   "outputs": [
    {
     "name": "stdout",
     "output_type": "stream",
     "text": [
      "M\n",
      "O\n",
      "i\n",
      "n\n",
      "u\n",
      "d\n",
      "d\n",
      "i\n",
      "n\n"
     ]
    }
   ],
   "source": [
    "for character in name:\n",
    "    print(character)"
   ]
  },
  {
   "cell_type": "code",
   "execution_count": 21,
   "id": "21ff4f35-df0b-4e4f-9a15-57a426c5a7ff",
   "metadata": {},
   "outputs": [
    {
     "name": "stdout",
     "output_type": "stream",
     "text": [
      "M\n",
      "O\n",
      "i\n",
      "n\n",
      "u\n",
      "d\n",
      "d\n",
      "i\n",
      "n\n"
     ]
    }
   ],
   "source": [
    "for i in name:\n",
    "    print(i)"
   ]
  },
  {
   "cell_type": "markdown",
   "id": "0aca129a-8fa0-45a1-8a61-d5fdfd8a1101",
   "metadata": {},
   "source": [
    "### String Slicing and Operations"
   ]
  },
  {
   "cell_type": "code",
   "execution_count": 29,
   "id": "41baf0b6-3d14-4578-8a76-21ced733821a",
   "metadata": {},
   "outputs": [
    {
     "name": "stdout",
     "output_type": "stream",
     "text": [
      "MOin\n",
      "MOin\n",
      "MOinuddin\n",
      "MOinuddi\n",
      "MOinuddi\n",
      "uddi\n"
     ]
    }
   ],
   "source": [
    "print(name[0:4])\n",
    "print(name[:4])\n",
    "print(name[:])\n",
    "print(name[:-1])\n",
    "print(name[:len(name)-1])\n",
    "print(name[-5:-1])"
   ]
  },
  {
   "cell_type": "code",
   "execution_count": 24,
   "id": "0ca82200-9194-476c-8648-e888fddbbe01",
   "metadata": {},
   "outputs": [
    {
     "name": "stdout",
     "output_type": "stream",
     "text": [
      "9\n"
     ]
    }
   ],
   "source": [
    "print(len(name))"
   ]
  },
  {
   "cell_type": "markdown",
   "id": "6a708b1b-709a-476d-99d1-30e919e7c676",
   "metadata": {},
   "source": [
    "## String Methods"
   ]
  },
  {
   "cell_type": "markdown",
   "id": "a78cedd0-7ea1-4dd0-9692-1cec73222440",
   "metadata": {},
   "source": [
    "note: Strings are immutable\n",
    "      i.e they can not be changed"
   ]
  },
  {
   "cell_type": "code",
   "execution_count": 34,
   "id": "a39375e9-7417-44ab-a85e-4f21a773f5b1",
   "metadata": {},
   "outputs": [
    {
     "name": "stdout",
     "output_type": "stream",
     "text": [
      "ABCDE\n",
      "abcde\n",
      "Abcde\n",
      "ABCDE\n"
     ]
    }
   ],
   "source": [
    "a=\"ABCDE\"\n",
    "print(a)\n",
    "print(a.lower())\n",
    "print(a.capitalize())\n",
    "# here the original string 'a' isnt modified but a copy of string 'a' is created\n",
    "print(a)"
   ]
  },
  {
   "cell_type": "code",
   "execution_count": 37,
   "id": "d754f0d2-b6f6-49fe-a9bf-b515ae84f4d6",
   "metadata": {},
   "outputs": [
    {
     "name": "stdout",
     "output_type": "stream",
     "text": [
      "        aasehfd              \n",
      "        aasehfd\n",
      "aasehfd              \n",
      "ahedfl\n"
     ]
    }
   ],
   "source": [
    "b=\"        aasehfd              \"\n",
    "print(b)\n",
    "print(b.rstrip())\n",
    "print(b.lstrip())\n",
    "c=\"ahedfl****\"\n",
    "print(c.rstrip(\"*\"))"
   ]
  },
  {
   "cell_type": "code",
   "execution_count": 38,
   "id": "3ec07287-a01c-43a5-9011-11e8cad12334",
   "metadata": {},
   "outputs": [
    {
     "name": "stdout",
     "output_type": "stream",
     "text": [
      "Harry\n",
      "Happy\n"
     ]
    }
   ],
   "source": [
    "h=\"Harry\"\n",
    "print(h)\n",
    "print(h.replace(\"r\",\"p\"))"
   ]
  },
  {
   "cell_type": "code",
   "execution_count": null,
   "id": "d3e9ab8f-5d46-4074-b9bc-bbd1c1d77a2e",
   "metadata": {},
   "outputs": [],
   "source": []
  }
 ],
 "metadata": {
  "kernelspec": {
   "display_name": "Python 3 (ipykernel)",
   "language": "python",
   "name": "python3"
  },
  "language_info": {
   "codemirror_mode": {
    "name": "ipython",
    "version": 3
   },
   "file_extension": ".py",
   "mimetype": "text/x-python",
   "name": "python",
   "nbconvert_exporter": "python",
   "pygments_lexer": "ipython3",
   "version": "3.12.0"
  }
 },
 "nbformat": 4,
 "nbformat_minor": 5
}
