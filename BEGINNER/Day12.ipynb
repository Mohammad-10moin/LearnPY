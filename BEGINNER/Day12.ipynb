{
 "cells": [
  {
   "cell_type": "code",
   "execution_count": 1,
   "id": "3afc3454-2203-4a97-8cfc-9d6f4ed8c6be",
   "metadata": {},
   "outputs": [
    {
     "name": "stdout",
     "output_type": "stream",
     "text": [
      "2024-06-07\n"
     ]
    }
   ],
   "source": [
    "from datetime import date\n",
    "print(date.today())"
   ]
  },
  {
   "cell_type": "markdown",
   "id": "d823b2a4-f2a6-421b-b42f-3f92197c2512",
   "metadata": {},
   "source": [
    "### __Inheritance__"
   ]
  },
  {
   "cell_type": "code",
   "execution_count": 2,
   "id": "081d74e1-ae34-400f-846a-121c3305c7ae",
   "metadata": {},
   "outputs": [
    {
     "data": {
      "text/plain": [
       "'Syntax:\\nclass base:\\n    body of base\\nclass derived(base):\\n    body of derived'"
      ]
     },
     "execution_count": 2,
     "metadata": {},
     "output_type": "execute_result"
    }
   ],
   "source": [
    "'''Syntax:\n",
    "class base:\n",
    "    body of base\n",
    "class derived(base):\n",
    "    body of derived'''"
   ]
  },
  {
   "cell_type": "code",
   "execution_count": 6,
   "id": "899265ed-8a72-4108-94fb-c997c7d85034",
   "metadata": {},
   "outputs": [
    {
     "name": "stdout",
     "output_type": "stream",
     "text": [
      "This is base class \n",
      "function of base class \n",
      "This is base class \n",
      "function of base class \n",
      "funtion of derived class\n"
     ]
    }
   ],
   "source": [
    "class Base:\n",
    "    def __init__(self):\n",
    "        print(\"This is base class \")\n",
    "    def show(self):\n",
    "        print(\"function of base class \")\n",
    "class Derived(Base):\n",
    "    def display(self):\n",
    "        print(\"funtion of derived class\")\n",
    "a=Base()\n",
    "a.show()\n",
    "b=Derived()\n",
    "b.show()\n",
    "b.display()"
   ]
  },
  {
   "cell_type": "code",
   "execution_count": 7,
   "id": "c6620bab-ce89-4866-8233-ae1dce0ab66e",
   "metadata": {},
   "outputs": [
    {
     "name": "stdout",
     "output_type": "stream",
     "text": [
      "This is base class \n",
      "function of base class \n",
      "This is derived class \n",
      "function of base class \n",
      "funtion of derived class\n"
     ]
    }
   ],
   "source": [
    "class Base:\n",
    "    def __init__(self):\n",
    "        print(\"This is base class \")\n",
    "    def show(self):\n",
    "        print(\"function of base class \")\n",
    "class Derived(Base):\n",
    "    def __init__(self):\n",
    "        print(\"This is derived class \")\n",
    "    def display(self):\n",
    "        print(\"funtion of derived class\")\n",
    "a=Base()\n",
    "a.show()\n",
    "b=Derived()\n",
    "b.show()\n",
    "b.display()"
   ]
  },
  {
   "cell_type": "code",
   "execution_count": 9,
   "id": "5bd9ae4d-af35-4b7e-bc6b-e586eedc17c0",
   "metadata": {},
   "outputs": [
    {
     "name": "stdout",
     "output_type": "stream",
     "text": [
      "This is parent class\n",
      "This is child class\n",
      "This is grandchild class\n",
      "This is the example of multilevel inheritance \n"
     ]
    }
   ],
   "source": [
    "class A:\n",
    "    def __init__(self):\n",
    "        print(\"This is parent class\")\n",
    "    def show(self):\n",
    "        print(\"function of parent class \")\n",
    "class B(A):\n",
    "    def __init__(self):\n",
    "        print(\"This is child class\")\n",
    "    def display(self):\n",
    "        print(\"function of child class\")\n",
    "class C(B):\n",
    "    def __init__(self):\n",
    "        print(\"This is grandchild class\")\n",
    "    def putout(self):\n",
    "        print(\"function of child class\")\n",
    "a=A()\n",
    "b=B()\n",
    "c=C()\n",
    "print(\"This is the example of multilevel inheritance \")"
   ]
  },
  {
   "cell_type": "code",
   "execution_count": 1,
   "id": "af0709a0-0aec-4e9d-a7c9-ed1910a131a9",
   "metadata": {},
   "outputs": [
    {
     "name": "stdout",
     "output_type": "stream",
     "text": [
      "This is parent class\n",
      "This is child class\n",
      "This is also a child class\n",
      "This is the example of hierarichal inheritance \n"
     ]
    }
   ],
   "source": [
    "class A:\n",
    "    def __init__(self):\n",
    "        print(\"This is parent class\")\n",
    "    def show(self):\n",
    "        print(\"function of parent class \")\n",
    "class B(A):\n",
    "    def __init__(self):\n",
    "        print(\"This is child class\")\n",
    "    def display(self):\n",
    "        print(\"function of child class\")\n",
    "class C(A):\n",
    "    def __init__(self):\n",
    "        print(\"This is also a child class\")\n",
    "    def putout(self):\n",
    "        print(\"function of 2nd child class\")\n",
    "a=A()\n",
    "b=B()\n",
    "c=C()\n",
    "print(\"This is the example of hierarichal inheritance \")"
   ]
  },
  {
   "cell_type": "code",
   "execution_count": 2,
   "id": "4c69338e-13c4-44b5-a860-5c523db5c1a3",
   "metadata": {},
   "outputs": [
    {
     "name": "stdout",
     "output_type": "stream",
     "text": [
      "This is parent class\n",
      "This is also a parent class\n",
      "This is a child class\n",
      "function of child class\n",
      "function of 2nd parent class\n",
      "function of parent class \n",
      "This is the example of multiple inheritance \n"
     ]
    }
   ],
   "source": [
    "class A:\n",
    "    def __init__(self):\n",
    "        print(\"This is parent class\")\n",
    "    def show(self):\n",
    "        print(\"function of parent class \")\n",
    "class B:\n",
    "    def __init__(self):\n",
    "        print(\"This is also a parent class\")\n",
    "    def display(self):\n",
    "        print(\"function of 2nd parent class\")\n",
    "class C(A,B):\n",
    "    def __init__(self):\n",
    "        print(\"This is a child class\")\n",
    "    def putout(self):\n",
    "        print(\"function of child class\")\n",
    "a=A()\n",
    "b=B()\n",
    "c=C()\n",
    "c.putout()\n",
    "c.display()\n",
    "c.show()\n",
    "print(\"This is the example of multiple inheritance \")"
   ]
  },
  {
   "cell_type": "markdown",
   "id": "135a4857-dbbf-4359-bc47-21417301330f",
   "metadata": {},
   "source": [
    "### __public protected private__"
   ]
  },
  {
   "cell_type": "code",
   "execution_count": 4,
   "id": "5db4e011-8af7-40ed-ab37-3d01b8b0b821",
   "metadata": {},
   "outputs": [
    {
     "name": "stdout",
     "output_type": "stream",
     "text": [
      "moin\n"
     ]
    }
   ],
   "source": [
    "class Name:\n",
    "    def __init__(self):\n",
    "        self.name='moin'\n",
    "a=Name()\n",
    "print(a.name)\n",
    "# by default every variable and function in python is public , so it can be accessed outside the cls."
   ]
  },
  {
   "cell_type": "code",
   "execution_count": 6,
   "id": "f47f7a65-7673-464d-83e5-7f8f19bd06ba",
   "metadata": {},
   "outputs": [
    {
     "ename": "AttributeError",
     "evalue": "'Name' object has no attribute '__name'",
     "output_type": "error",
     "traceback": [
      "\u001b[1;31m---------------------------------------------------------------------------\u001b[0m",
      "\u001b[1;31mAttributeError\u001b[0m                            Traceback (most recent call last)",
      "Cell \u001b[1;32mIn[6], line 5\u001b[0m\n\u001b[0;32m      3\u001b[0m         \u001b[38;5;28mself\u001b[39m\u001b[38;5;241m.\u001b[39m__name\u001b[38;5;241m=\u001b[39m\u001b[38;5;124m'\u001b[39m\u001b[38;5;124mmoin\u001b[39m\u001b[38;5;124m'\u001b[39m\n\u001b[0;32m      4\u001b[0m a\u001b[38;5;241m=\u001b[39mName()\n\u001b[1;32m----> 5\u001b[0m \u001b[38;5;28mprint\u001b[39m(\u001b[43ma\u001b[49m\u001b[38;5;241;43m.\u001b[39;49m\u001b[43m__name\u001b[49m)\n",
      "\u001b[1;31mAttributeError\u001b[0m: 'Name' object has no attribute '__name'"
     ]
    }
   ],
   "source": [
    "class Name:\n",
    "    def __init__(self):\n",
    "        self.__name='moin'\n",
    "a=Name()\n",
    "print(a.__name)"
   ]
  },
  {
   "cell_type": "code",
   "execution_count": 11,
   "id": "5c0b3b31-2cd3-486d-a64a-b8965f02d402",
   "metadata": {},
   "outputs": [
    {
     "name": "stdout",
     "output_type": "stream",
     "text": [
      "moin\n"
     ]
    }
   ],
   "source": [
    "'''In the above code adding _ _  to the variable makes it to act as private '''\n",
    "'''can be accessed only using class name '''\n",
    "print(a._Name__name)\n",
    "\n",
    "# Name mangling\n"
   ]
  },
  {
   "cell_type": "code",
   "execution_count": 12,
   "id": "ed2013b7-83ae-4c87-86b2-8c72f4b39944",
   "metadata": {},
   "outputs": [
    {
     "name": "stdout",
     "output_type": "stream",
     "text": [
      "moin\n"
     ]
    }
   ],
   "source": [
    "class Name:\n",
    "    def __init__(self):\n",
    "        self._name='moin'\n",
    "a=Name()\n",
    "print(a._name)"
   ]
  },
  {
   "cell_type": "code",
   "execution_count": 13,
   "id": "dcc90b33-77ac-44df-bf8b-1d9d635246af",
   "metadata": {},
   "outputs": [],
   "source": [
    "# A single underscore before the variable name doesnt provide any protection but just acts like a naming convention."
   ]
  },
  {
   "cell_type": "markdown",
   "id": "10ff69b8-86fd-4f8c-8d9e-ce0045a31bd7",
   "metadata": {},
   "source": [
    "### Static methods"
   ]
  },
  {
   "cell_type": "code",
   "execution_count": 18,
   "id": "baf1a4cb-5974-4290-ba28-f4d567b822c0",
   "metadata": {},
   "outputs": [
    {
     "name": "stdout",
     "output_type": "stream",
     "text": [
      "This is a static method \n"
     ]
    },
    {
     "data": {
      "text/plain": [
       "'here we can see static method doesnt need self keyword'"
      ]
     },
     "execution_count": 18,
     "metadata": {},
     "output_type": "execute_result"
    }
   ],
   "source": [
    "# static method can be accessed without creating any instance of a class.\n",
    "class Name:\n",
    "    @staticmethod\n",
    "    def show():\n",
    "        print(\"This is a static method \")\n",
    "Name.show()\n",
    "'''here we can see static method doesnt need self keyword'''"
   ]
  },
  {
   "cell_type": "code",
   "execution_count": 21,
   "id": "784a36ed-3962-4712-938b-9e6679d42865",
   "metadata": {},
   "outputs": [
    {
     "name": "stdout",
     "output_type": "stream",
     "text": [
      "This is parent class\n",
      "function of parent class \n",
      "function of parent class \n"
     ]
    },
    {
     "data": {
      "text/plain": [
       "' here s.show() == A.show(s) '"
      ]
     },
     "execution_count": 21,
     "metadata": {},
     "output_type": "execute_result"
    }
   ],
   "source": [
    "class A:\n",
    "    def __init__(self):\n",
    "        print(\"This is parent class\")\n",
    "    def show(self):\n",
    "        print(\"function of parent class \")\n",
    "s=A()\n",
    "s.show()\n",
    "A.show(s)\n",
    "''' here s.show() == A.show(s) '''\n",
    "# here 's' object is passed as an argument to show() "
   ]
  },
  {
   "cell_type": "code",
   "execution_count": 23,
   "id": "d1ae2474-28a5-4089-8719-29e85b7b1511",
   "metadata": {},
   "outputs": [
    {
     "name": "stdout",
     "output_type": "stream",
     "text": [
      "This is parent class\n"
     ]
    },
    {
     "ename": "TypeError",
     "evalue": "A.show() takes 0 positional arguments but 1 was given",
     "output_type": "error",
     "traceback": [
      "\u001b[1;31m---------------------------------------------------------------------------\u001b[0m",
      "\u001b[1;31mTypeError\u001b[0m                                 Traceback (most recent call last)",
      "Cell \u001b[1;32mIn[23], line 7\u001b[0m\n\u001b[0;32m      5\u001b[0m         \u001b[38;5;28mprint\u001b[39m(\u001b[38;5;124m\"\u001b[39m\u001b[38;5;124mfunction of parent class \u001b[39m\u001b[38;5;124m\"\u001b[39m)\n\u001b[0;32m      6\u001b[0m s\u001b[38;5;241m=\u001b[39mA()\n\u001b[1;32m----> 7\u001b[0m \u001b[43ms\u001b[49m\u001b[38;5;241;43m.\u001b[39;49m\u001b[43mshow\u001b[49m\u001b[43m(\u001b[49m\u001b[43m)\u001b[49m\n\u001b[0;32m      8\u001b[0m \u001b[38;5;124;03m''' here s.show() == A.show(s) '''\u001b[39;00m\n\u001b[0;32m      9\u001b[0m \u001b[38;5;66;03m# here 's' object is passed as an argument to show() \u001b[39;00m\n",
      "\u001b[1;31mTypeError\u001b[0m: A.show() takes 0 positional arguments but 1 was given"
     ]
    }
   ],
   "source": [
    "class A:\n",
    "    def __init__(self):\n",
    "        print(\"This is parent class\")\n",
    "    def show():\n",
    "        print(\"function of parent class \")\n",
    "s=A()\n",
    "s.show()\n",
    "''' here s.show() == A.show(s) '''\n",
    "# here 's' object is passed as an argument to show() "
   ]
  },
  {
   "cell_type": "code",
   "execution_count": 24,
   "id": "06667efb-9a4b-4689-abac-a93ab38cacd7",
   "metadata": {},
   "outputs": [],
   "source": [
    "class A:\n",
    "    branch=\"cse\"\n",
    "    # here branch is a class variable, which is associated with a class.\n",
    "    def __init__(self):\n",
    "        print(\"This is parent class\")\n",
    "        self.classno=148\n",
    "        # here clsno is a instance variable\n",
    "    # ie every instance can have seperate instance values\n",
    "    def show():\n",
    "        print(\"function of parent class \")"
   ]
  },
  {
   "cell_type": "markdown",
   "id": "dc3454ba-d60d-4d72-b960-816527a422d7",
   "metadata": {},
   "source": [
    "### class method"
   ]
  },
  {
   "cell_type": "code",
   "execution_count": 26,
   "id": "0c29efab-f699-4571-a237-6bc2095fc65f",
   "metadata": {},
   "outputs": [
    {
     "name": "stdout",
     "output_type": "stream",
     "text": [
      "148 belongs to cse\n",
      "148 belongs to IT\n",
      "cse\n"
     ]
    }
   ],
   "source": [
    "class Student:\n",
    "    branch=\"cse\"\n",
    "    def show(self):\n",
    "        print(f\"{self.rollno} belongs to {self.branch}\")\n",
    "    def changeBranch(cls,newbranch):\n",
    "        cls.branch=newbranch\n",
    "        # here self is written as cls , ie we can write anything in place of self.\n",
    "s1=Student()\n",
    "s1.rollno=148\n",
    "s1.show()\n",
    "s1.changeBranch(\"IT\")\n",
    "s1.show()\n",
    "print(Student.branch)\n",
    "# here we can see that actual value of the branch does not get changed but only the instance gets changed\n",
    "# But thats not in the case of class method. lets see:"
   ]
  },
  {
   "cell_type": "code",
   "execution_count": 29,
   "id": "e0a23bc6-531a-4f23-b032-51f5ea8bd337",
   "metadata": {},
   "outputs": [
    {
     "name": "stdout",
     "output_type": "stream",
     "text": [
      "148 belongs to cse\n",
      "148 belongs to IT\n",
      "IT\n"
     ]
    }
   ],
   "source": [
    "class Student:\n",
    "    branch=\"cse\"\n",
    "    def show(self):\n",
    "        print(f\"{self.rollno} belongs to {self.branch}\")\n",
    "    @classmethod\n",
    "    def changeBranch(cls,newbranch):\n",
    "        cls.branch=newbranch\n",
    "        # here cls is not as self but as class\n",
    "s1=Student()\n",
    "s1.rollno=148\n",
    "s1.show()\n",
    "s1.changeBranch(\"IT\")\n",
    "s1.show()\n",
    "print(Student.branch)\n",
    "# here as we can see that using class method , the class variable gets changed."
   ]
  },
  {
   "cell_type": "markdown",
   "id": "01f41e92-d99d-4c71-9821-2f3d0aed34fe",
   "metadata": {},
   "source": [
    "### class method as alterantive Constructors "
   ]
  },
  {
   "cell_type": "code",
   "execution_count": 31,
   "id": "c22c21e5-8b74-4730-913d-7d846b8298c3",
   "metadata": {},
   "outputs": [
    {
     "name": "stdout",
     "output_type": "stream",
     "text": [
      "a\n",
      "485410\n",
      "afhsdf\n",
      "985724\n"
     ]
    }
   ],
   "source": [
    "class Emp:\n",
    "    def __init__(self,name,s):\n",
    "        self.name=name\n",
    "        self.salary=s\n",
    "e1=Emp('a',485410)\n",
    "print(e1.name)\n",
    "print(e1.salary)\n",
    "\n",
    "string=\"afhsdf-985724\"\n",
    "e2=Emp(string.split(\"-\")[0],string.split(\"-\")[1])\n",
    "print(e2.name)\n",
    "print(e2.salary)"
   ]
  },
  {
   "cell_type": "code",
   "execution_count": 33,
   "id": "6d587bfc-1b3b-4d20-9317-6fbdbc19800a",
   "metadata": {},
   "outputs": [
    {
     "name": "stdout",
     "output_type": "stream",
     "text": [
      "a\n",
      "485410\n",
      "afhsdf\n",
      "985724\n"
     ]
    }
   ],
   "source": [
    "class Emp:\n",
    "    def __init__(self,name,s):\n",
    "        self.name=name\n",
    "        self.salary=s\n",
    "    @classmethod\n",
    "    def fromstr(cls,string):\n",
    "        return cls(string.split(\"-\")[0],string.split(\"-\")[1])\n",
    "e1=Emp('a',485410)\n",
    "print(e1.name)\n",
    "print(e1.salary)\n",
    "\n",
    "string=\"afhsdf-985724\"\n",
    "e2=Emp.fromstr(string)\n",
    "print(e2.name)\n",
    "print(e2.salary)\n",
    "# here cls method is acting like an alternative constructor."
   ]
  },
  {
   "cell_type": "code",
   "execution_count": null,
   "id": "33f9d830-452b-4a9a-a6e8-1604babb928d",
   "metadata": {},
   "outputs": [],
   "source": []
  }
 ],
 "metadata": {
  "kernelspec": {
   "display_name": "Python 3 (ipykernel)",
   "language": "python",
   "name": "python3"
  },
  "language_info": {
   "codemirror_mode": {
    "name": "ipython",
    "version": 3
   },
   "file_extension": ".py",
   "mimetype": "text/x-python",
   "name": "python",
   "nbconvert_exporter": "python",
   "pygments_lexer": "ipython3",
   "version": "3.12.0"
  }
 },
 "nbformat": 4,
 "nbformat_minor": 5
}
