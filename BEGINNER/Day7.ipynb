{
 "cells": [
  {
   "cell_type": "code",
   "execution_count": 1,
   "id": "34458c09-32d2-49de-8789-d34919bf2b6c",
   "metadata": {},
   "outputs": [
    {
     "name": "stdout",
     "output_type": "stream",
     "text": [
      "2024-06-02\n"
     ]
    }
   ],
   "source": [
    "from datetime import date\n",
    "print(date.today())"
   ]
  },
  {
   "cell_type": "markdown",
   "id": "9d1630af-7f03-443e-8525-7719fa7e037a",
   "metadata": {},
   "source": [
    "### Function with Parameters"
   ]
  },
  {
   "cell_type": "code",
   "execution_count": 2,
   "id": "62d8578e-a6fd-4650-b2d6-8f583410e228",
   "metadata": {},
   "outputs": [
    {
     "name": "stdout",
     "output_type": "stream",
     "text": [
      "The sum is  130\n"
     ]
    }
   ],
   "source": [
    "def sum(a=10,b=20):\n",
    "    print(\"The sum is \", a+b)\n",
    "sum(b=40,a=90)"
   ]
  },
  {
   "cell_type": "code",
   "execution_count": 3,
   "id": "5083a8a2-3ff1-45d5-81ed-3110906a29c6",
   "metadata": {},
   "outputs": [
    {
     "data": {
      "text/plain": [
       "'Here , as you can see that the order of actual parameters arent necessary, when we pass the values using parameters'"
      ]
     },
     "execution_count": 3,
     "metadata": {},
     "output_type": "execute_result"
    }
   ],
   "source": [
    "'''Here , as you can see that the order of actual parameters arent necessary, when we pass the values using parameters'''"
   ]
  },
  {
   "cell_type": "markdown",
   "id": "7d4be7fc-75a8-47cb-b15a-1ee1e2ed0e2b",
   "metadata": {},
   "source": [
    "### Function with variable Arguments"
   ]
  },
  {
   "cell_type": "markdown",
   "id": "0ba570c9-b031-416f-b73a-0aac684247b2",
   "metadata": {},
   "source": [
    "#### -Argument as Tuple"
   ]
  },
  {
   "cell_type": "code",
   "execution_count": 9,
   "id": "9d7d75d0-cb7b-49f3-a359-b244223087db",
   "metadata": {},
   "outputs": [
    {
     "name": "stdout",
     "output_type": "stream",
     "text": [
      "<class 'tuple'>\n",
      "The sum is : 6\n",
      "<class 'tuple'>\n",
      "The sum is : 39\n"
     ]
    },
    {
     "data": {
      "text/plain": [
       "'here as we can see the arguments are passed as tuples'"
      ]
     },
     "execution_count": 9,
     "metadata": {},
     "output_type": "execute_result"
    }
   ],
   "source": [
    "def sum(*numbers):\n",
    "    print(type(numbers))\n",
    "    sum=0\n",
    "    for i in numbers:\n",
    "        sum=sum+i\n",
    "    print(\"The sum is :\",sum)\n",
    "sum(1,2,3)\n",
    "sum(4,5,6,7,8,9)\n",
    "'''here as we can see the arguments are passed as tuples'''"
   ]
  },
  {
   "cell_type": "markdown",
   "id": "3e0b886d-07e4-44c4-aa55-e997d3b795a9",
   "metadata": {},
   "source": [
    "#### -Argument as Dictionary"
   ]
  },
  {
   "cell_type": "code",
   "execution_count": 13,
   "id": "71489895-3579-417a-a3a1-a9d5fbc57930",
   "metadata": {},
   "outputs": [
    {
     "name": "stdout",
     "output_type": "stream",
     "text": [
      "<class 'dict'>\n",
      "Moinuddin   148   CSE\n"
     ]
    }
   ],
   "source": [
    "def credentials(**student):\n",
    "    print(type(student))\n",
    "    print(student[\"name\"],\" \",student[\"rollno\"],\" \",student[\"branch\"])\n",
    "credentials(name=\"Moinuddin\",rollno=148,branch=\"CSE\")"
   ]
  },
  {
   "cell_type": "markdown",
   "id": "42976223-94b0-4a5c-aa9b-019bef31f2c4",
   "metadata": {},
   "source": [
    "### Lists"
   ]
  },
  {
   "cell_type": "code",
   "execution_count": 22,
   "id": "d801d980-f3f9-42c3-b596-a3732e37a383",
   "metadata": {},
   "outputs": [
    {
     "name": "stdout",
     "output_type": "stream",
     "text": [
      "Lists are written using [] brackets\n",
      "[1, 2, 3]\n",
      "<class 'list'>\n",
      "[1, 2, 3, 4, 5, 6]\n"
     ]
    },
    {
     "data": {
      "text/plain": [
       "'Lists are mutable ie they are changeable after creation ie they are not like string'"
      ]
     },
     "execution_count": 22,
     "metadata": {},
     "output_type": "execute_result"
    }
   ],
   "source": [
    "print('Lists are written using [] brackets')\n",
    "l=[1,2,3]\n",
    "print(l)\n",
    "print(type(l))\n",
    "l=[1,2,3,4,5,6]\n",
    "print(l)\n",
    "'''Lists are mutable ie they are changeable after creation ie they are not like string'''"
   ]
  },
  {
   "cell_type": "code",
   "execution_count": 21,
   "id": "589104fc-25a9-4212-b4ef-0e6330f52dcf",
   "metadata": {},
   "outputs": [
    {
     "data": {
      "text/plain": [
       "'Lists can have the values of different datatypes'"
      ]
     },
     "execution_count": 21,
     "metadata": {},
     "output_type": "execute_result"
    }
   ],
   "source": [
    "\"\"\"Lists can have the values of different datatypes\"\"\""
   ]
  },
  {
   "cell_type": "code",
   "execution_count": 25,
   "id": "40af58b2-7467-4826-a645-e5bd2999e2df",
   "metadata": {},
   "outputs": [
    {
     "name": "stdout",
     "output_type": "stream",
     "text": [
      "['Moinuddin', 148, 'cse3']\n",
      "Moinuddin is HERO\n"
     ]
    }
   ],
   "source": [
    "student=[\"Moinuddin\",148,\"cse3\"]\n",
    "print(student)\n",
    "if \"Moinuddin\" in student :\n",
    "    print(\"Moinuddin is HERO\")\n",
    "# here we can see the use case of \"in\" keyword"
   ]
  },
  {
   "cell_type": "code",
   "execution_count": 35,
   "id": "ac8c2cc2-73b5-4dfb-8266-7259725e74e8",
   "metadata": {},
   "outputs": [
    {
     "name": "stdout",
     "output_type": "stream",
     "text": [
      "['numbers', 1, 2, 3, 4, 5, 'until5']\n",
      "['numbers', 1, 2, 3, 4, 5, 'until5']\n",
      "[1, 2, 3, 4, 5, 'until5']\n",
      "[1, 2, 3, 4, 5]\n",
      "['numbers', 2, 4, 'until5']\n"
     ]
    }
   ],
   "source": [
    "l=[\"numbers\",1,2,3,4,5,\"until5\"]\n",
    "print(l)\n",
    "print(l[:])\n",
    "print(l[1:])\n",
    "print(l[1:-1])\n",
    "# here we can perform all the operations of string on the list \n",
    "''' NOW, lets see the jump index concept'''\n",
    "print(l[::2])"
   ]
  },
  {
   "cell_type": "code",
   "execution_count": 36,
   "id": "b8b2ad9e-6d4d-4e6f-b831-904d8dab91c0",
   "metadata": {},
   "outputs": [
    {
     "data": {
      "text/plain": [
       "'Lets see the List Comprehension'"
      ]
     },
     "execution_count": 36,
     "metadata": {},
     "output_type": "execute_result"
    }
   ],
   "source": [
    "'''Lets see the List Comprehension'''"
   ]
  },
  {
   "cell_type": "code",
   "execution_count": 41,
   "id": "77b5c843-ff1a-47b2-be97-1a31ac37d547",
   "metadata": {},
   "outputs": [
    {
     "name": "stdout",
     "output_type": "stream",
     "text": [
      "[0, 1, 2, 3, 4, 5, 6, 7, 8, 9, 10]\n",
      "[1, 3, 5, 7, 9]\n"
     ]
    }
   ],
   "source": [
    "lst=[i for i in range(11)]\n",
    "print(lst)\n",
    "lst=[i for i in range(11) if i%2!=0]\n",
    "print(lst)"
   ]
  },
  {
   "cell_type": "code",
   "execution_count": 40,
   "id": "f7ddeb6b-5684-4f62-8718-521caff3ba42",
   "metadata": {},
   "outputs": [
    {
     "name": "stdout",
     "output_type": "stream",
     "text": [
      "['Mo']\n"
     ]
    }
   ],
   "source": [
    "st=[\"A\",\"B\",\"m\",\"Mo\"]\n",
    "ls=[name for name in st if \"M\" in name]\n",
    "print(ls)"
   ]
  },
  {
   "cell_type": "code",
   "execution_count": null,
   "id": "6baea273-0fda-4868-b573-c7893b8f59fa",
   "metadata": {},
   "outputs": [],
   "source": []
  }
 ],
 "metadata": {
  "kernelspec": {
   "display_name": "Python 3 (ipykernel)",
   "language": "python",
   "name": "python3"
  },
  "language_info": {
   "codemirror_mode": {
    "name": "ipython",
    "version": 3
   },
   "file_extension": ".py",
   "mimetype": "text/x-python",
   "name": "python",
   "nbconvert_exporter": "python",
   "pygments_lexer": "ipython3",
   "version": "3.12.0"
  }
 },
 "nbformat": 4,
 "nbformat_minor": 5
}
