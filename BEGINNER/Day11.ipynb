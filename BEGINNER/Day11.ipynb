{
 "cells": [
  {
   "cell_type": "code",
   "execution_count": 1,
   "id": "a299ed6e-de4d-4614-881e-f1a5231f5e11",
   "metadata": {},
   "outputs": [
    {
     "name": "stdout",
     "output_type": "stream",
     "text": [
      "2024-06-06\n"
     ]
    }
   ],
   "source": [
    "from datetime import date\n",
    "print(date.today())"
   ]
  },
  {
   "cell_type": "markdown",
   "id": "c109ac9c-fcaf-49ff-be47-e1b3f560592e",
   "metadata": {},
   "source": [
    "#### Local vs Global variables"
   ]
  },
  {
   "cell_type": "code",
   "execution_count": 2,
   "id": "5cabd837-d709-4ecf-8314-02ef3499a2db",
   "metadata": {},
   "outputs": [
    {
     "name": "stdout",
     "output_type": "stream",
     "text": [
      "d is a local variable with value:  23\n",
      "29\n"
     ]
    }
   ],
   "source": [
    "a=29\n",
    "def localv():\n",
    "    d=23\n",
    "    print(\"d is a local variable with value: \",d)\n",
    "localv()\n",
    "print(a)"
   ]
  },
  {
   "cell_type": "code",
   "execution_count": 3,
   "id": "a1c438b4-9507-461b-96c1-ed66836b558b",
   "metadata": {},
   "outputs": [
    {
     "name": "stdout",
     "output_type": "stream",
     "text": [
      "d is a local variable with value:  23\n",
      "29\n"
     ]
    },
    {
     "ename": "NameError",
     "evalue": "name 'd' is not defined",
     "output_type": "error",
     "traceback": [
      "\u001b[1;31m---------------------------------------------------------------------------\u001b[0m",
      "\u001b[1;31mNameError\u001b[0m                                 Traceback (most recent call last)",
      "Cell \u001b[1;32mIn[3], line 7\u001b[0m\n\u001b[0;32m      5\u001b[0m localv()\n\u001b[0;32m      6\u001b[0m \u001b[38;5;28mprint\u001b[39m(a)\n\u001b[1;32m----> 7\u001b[0m \u001b[38;5;28mprint\u001b[39m(\u001b[43md\u001b[49m)\n\u001b[0;32m      8\u001b[0m \u001b[38;5;66;03m# this example tells that local variable cant be accessed outside the function\u001b[39;00m\n",
      "\u001b[1;31mNameError\u001b[0m: name 'd' is not defined"
     ]
    }
   ],
   "source": [
    "a=29\n",
    "def localv():\n",
    "    d=23\n",
    "    print(\"d is a local variable with value: \",d)\n",
    "localv()\n",
    "print(a)\n",
    "print(d)\n",
    "# this example tells that local variable cant be accessed outside the function"
   ]
  },
  {
   "cell_type": "code",
   "execution_count": 5,
   "id": "4a2a6a6f-fa7b-4585-baa1-a48bc93ec1aa",
   "metadata": {},
   "outputs": [
    {
     "name": "stdout",
     "output_type": "stream",
     "text": [
      "d is a local variable with value:  23\n",
      "10\n"
     ]
    }
   ],
   "source": [
    "''' change of global variable from a local function '''\n",
    "a=29\n",
    "def localv():\n",
    "    global a\n",
    "    a=10\n",
    "    d=23\n",
    "    print(\"d is a local variable with value: \",d)\n",
    "localv()\n",
    "print(a)"
   ]
  },
  {
   "cell_type": "markdown",
   "id": "270b574d-8a7b-4fe1-9ae7-51ce6d1fc0e5",
   "metadata": {},
   "source": [
    "### __File__ __Handling__"
   ]
  },
  {
   "cell_type": "code",
   "execution_count": 14,
   "id": "c2137c55-e2de-45ae-9b9d-6102e35a67ea",
   "metadata": {},
   "outputs": [
    {
     "name": "stdout",
     "output_type": "stream",
     "text": [
      "<_io.TextIOWrapper name='Moin.py' mode='r' encoding='cp1252'>\n"
     ]
    }
   ],
   "source": [
    "f=open(\"Moin.py\",'r')\n",
    "print(f)"
   ]
  },
  {
   "cell_type": "code",
   "execution_count": 17,
   "id": "5c0705fa-9ca0-49a3-b6b9-1c7883904e5c",
   "metadata": {},
   "outputs": [
    {
     "name": "stdout",
     "output_type": "stream",
     "text": [
      "Assalam wa alaikum\n",
      "I'm Mohammad Moeenuddin\n",
      "I'm learning python to learn Machine learning.\n"
     ]
    }
   ],
   "source": [
    "f1=open(\"abc.txt\",'r')\n",
    "text=f1.read()\n",
    "print(text)\n",
    "f1.close()"
   ]
  },
  {
   "cell_type": "code",
   "execution_count": 18,
   "id": "c678fec6-3be8-4533-8404-1e2acbcb539b",
   "metadata": {},
   "outputs": [],
   "source": [
    "f2=open(\"create.txt\",'x')"
   ]
  },
  {
   "cell_type": "code",
   "execution_count": 19,
   "id": "9e04039f-a52f-4096-91df-d58bde176f0d",
   "metadata": {},
   "outputs": [
    {
     "data": {
      "text/plain": [
       "\" here 'x' mode is used to create a file \""
      ]
     },
     "execution_count": 19,
     "metadata": {},
     "output_type": "execute_result"
    }
   ],
   "source": [
    "''' here 'x' mode is used to create a file '''"
   ]
  },
  {
   "cell_type": "code",
   "execution_count": 20,
   "id": "5ae45c19-3fb2-46e6-b41a-516fdd8f6eda",
   "metadata": {},
   "outputs": [],
   "source": [
    "f2.close()"
   ]
  },
  {
   "cell_type": "code",
   "execution_count": 21,
   "id": "6c8cca1b-c402-4cc5-9143-8d2a8a15dcec",
   "metadata": {},
   "outputs": [],
   "source": [
    "f2=open(\"create.txt\",'w')\n",
    "f2.write('''Assalam wa alaikum\n",
    "I'm Mohammad Moeenuddin\n",
    "I'm learning python to learn Machine learning.''')\n",
    "f2.close()"
   ]
  },
  {
   "cell_type": "code",
   "execution_count": 22,
   "id": "26007876-df5c-4722-bdcb-96da13972d33",
   "metadata": {},
   "outputs": [
    {
     "name": "stdout",
     "output_type": "stream",
     "text": [
      "Assalam wa alaikum\n",
      "I'm Mohammad Moeenuddin\n",
      "I'm learning python to learn Machine learning.\n"
     ]
    }
   ],
   "source": [
    "f1=open(\"create.txt\",'r')\n",
    "text=f1.read()\n",
    "print(text)\n",
    "f1.close()"
   ]
  },
  {
   "cell_type": "code",
   "execution_count": 24,
   "id": "fd7a72e2-5e6f-4fb2-b87e-eda9897fc82f",
   "metadata": {},
   "outputs": [],
   "source": [
    "'''Method 2 '''\n",
    "with open('create.txt','a') as f:\n",
    "    f.write(\"I'm eager to build projects\")\n",
    "    "
   ]
  },
  {
   "cell_type": "markdown",
   "id": "9c28e1aa-1e32-46ac-ad2d-6a540e88237d",
   "metadata": {},
   "source": [
    "#### Reading line by line"
   ]
  },
  {
   "cell_type": "code",
   "execution_count": 25,
   "id": "bc07a226-9ec0-4661-a300-943c9521d6da",
   "metadata": {},
   "outputs": [
    {
     "name": "stdout",
     "output_type": "stream",
     "text": [
      "Assalam wa alaikum\n",
      "\n",
      "I'm Mohammad Moeenuddin\n",
      "\n",
      "I'm learning python to learn Machine learning.I'm eager to build projects\n"
     ]
    }
   ],
   "source": [
    "f= open(\"create.txt\",'r')\n",
    "while True:\n",
    "    line=f.readline()\n",
    "    if not line:\n",
    "        break\n",
    "    print(line)"
   ]
  },
  {
   "cell_type": "code",
   "execution_count": 34,
   "id": "b73db8d9-d3de-486c-bec6-083205d8cabc",
   "metadata": {},
   "outputs": [
    {
     "name": "stdout",
     "output_type": "stream",
     "text": [
      "Marks of student 1 in cpp : 98\n",
      "Marks of student 1 in c : 45\n",
      "Marks of student 1 in java : 74\n",
      "98,45,74\n",
      "\n",
      "Marks of student 2 in cpp : 56\n",
      "Marks of student 2 in c : 85\n",
      "Marks of student 2 in java : 48\n",
      "56,85,48\n",
      "\n",
      "Marks of student 3 in cpp : 85\n",
      "Marks of student 3 in c : 52\n",
      "Marks of student 3 in java : 47\n",
      "85,52,47\n"
     ]
    }
   ],
   "source": [
    "f= open(\"marks.txt\",'r')\n",
    "i=0\n",
    "while True:\n",
    "    i+=1\n",
    "    line=f.readline()\n",
    "    if not line:\n",
    "        break\n",
    "    m0=int(line.split(\",\")[0])\n",
    "    m1=int(line.split(\",\")[1])\n",
    "    m2=int(line.split(\",\")[2])\n",
    "    print(f\"Marks of student {i} in cpp : {m0}\")\n",
    "    print(f\"Marks of student {i} in c : {m1}\")\n",
    "    print(f\"Marks of student {i} in java : {m2}\")\n",
    "    print(line)"
   ]
  },
  {
   "cell_type": "code",
   "execution_count": 39,
   "id": "2aa297e7-4d5e-4387-ba35-986168495e09",
   "metadata": {},
   "outputs": [],
   "source": [
    "f=open('abc.txt','w')\n",
    "lines=[\"line1\\n\",\"line2\\n\",\"line3\\n\"]\n",
    "f.writelines(lines) \n",
    "f.close()"
   ]
  },
  {
   "cell_type": "code",
   "execution_count": 42,
   "id": "8cfdb521-5dde-4f37-ae86-353cc505e4b2",
   "metadata": {},
   "outputs": [
    {
     "name": "stdout",
     "output_type": "stream",
     "text": [
      "line1\n",
      "\n",
      "line2\n",
      "\n",
      "line3\n",
      "\n"
     ]
    }
   ],
   "source": [
    "f=open('abc.txt','r')\n",
    "while True:\n",
    "    text=f.readline()\n",
    "    if not text:\n",
    "        break\n",
    "    print(text)\n",
    "f.close()"
   ]
  },
  {
   "cell_type": "markdown",
   "id": "28891a96-e689-4129-9639-de26bfef8e5e",
   "metadata": {},
   "source": [
    "#### seek() and tell()"
   ]
  },
  {
   "cell_type": "code",
   "execution_count": 43,
   "id": "f161182c-7cc4-437a-9a96-bab5ca5dc780",
   "metadata": {},
   "outputs": [
    {
     "name": "stdout",
     "output_type": "stream",
     "text": [
      "<class '_io.TextIOWrapper'>\n",
      " alai\n"
     ]
    }
   ],
   "source": [
    "# used to deal within the file using position and file objects.\n",
    "'''seek()'''\n",
    "# seek function allows us to move the pointer to the specific position of the file\n",
    "# lets see an example :\n",
    "with open('create.txt','r') as f:\n",
    "    print(type(f))\n",
    "\n",
    "    f.seek(10)\n",
    "    # here the pointer starts from 10th position.\n",
    "    data=f.read(5)\n",
    "    # here read(5) reads only 5 characters.\n",
    "    print(data)\n",
    "    "
   ]
  },
  {
   "cell_type": "code",
   "execution_count": 44,
   "id": "8b7656d3-ee59-4caa-86fe-f9d2e6a3af01",
   "metadata": {},
   "outputs": [
    {
     "name": "stdout",
     "output_type": "stream",
     "text": [
      "<class '_io.TextIOWrapper'>\n",
      "10\n",
      " alai\n"
     ]
    }
   ],
   "source": [
    "'''tell()'''\n",
    "# tell function returns the current position in the file.\n",
    "with open('create.txt','r') as f:\n",
    "    print(type(f))\n",
    "\n",
    "    f.seek(10)\n",
    "    # here the pointer starts from 10th position.\n",
    "    print(f.tell())\n",
    "    # it returns the current position of the file \n",
    "    # here in this case it is 10\n",
    "    data=f.read(5)\n",
    "    # here read(5) reads only 5 characters.\n",
    "    print(data)\n",
    "    "
   ]
  },
  {
   "cell_type": "code",
   "execution_count": 51,
   "id": "aca8d336-417d-4e8e-bbcd-a11b48caf4e4",
   "metadata": {},
   "outputs": [
    {
     "name": "stdout",
     "output_type": "stream",
     "text": [
      "Assal\n"
     ]
    }
   ],
   "source": [
    "'''truncate()'''\n",
    "# truncate is used to reduce the file content to the specified length\n",
    "with open('create.txt','a') as f:\n",
    "    f.truncate(5)\n",
    "with open('create.txt','r')as f1:\n",
    "    data=f1.read()\n",
    "    print(data)"
   ]
  },
  {
   "cell_type": "markdown",
   "id": "e9c2fb9d-f142-45f2-9302-3278ab73e362",
   "metadata": {},
   "source": [
    "### Lambda Funtion"
   ]
  },
  {
   "cell_type": "code",
   "execution_count": 1,
   "id": "2a1254be-cfab-482f-8465-8841449be29e",
   "metadata": {},
   "outputs": [
    {
     "name": "stdout",
     "output_type": "stream",
     "text": [
      "100\n"
     ]
    }
   ],
   "source": [
    "# lambda is used to convert single line functions into simple one line statement. lets understand with the help of an example:\n",
    "# without lambda:\n",
    "def sqr(x):\n",
    "    return x*x\n",
    "print(sqr(10))"
   ]
  },
  {
   "cell_type": "code",
   "execution_count": 2,
   "id": "44e597ba-c0a1-4df0-8a3f-6e9092a475de",
   "metadata": {},
   "outputs": [
    {
     "name": "stdout",
     "output_type": "stream",
     "text": [
      "1024\n"
     ]
    }
   ],
   "source": [
    "# With Lambda\n",
    "sqrl=lambda x:x*x\n",
    "print(sqrl(32))"
   ]
  },
  {
   "cell_type": "code",
   "execution_count": 3,
   "id": "cc36dfdc-67f6-4220-a3be-83d72e470a78",
   "metadata": {},
   "outputs": [
    {
     "name": "stdout",
     "output_type": "stream",
     "text": [
      "1.5\n"
     ]
    }
   ],
   "source": [
    "avg=lambda s,a:(s+a)/2\n",
    "print(avg(1,2))"
   ]
  },
  {
   "cell_type": "markdown",
   "id": "97e058a7-3426-48b0-a933-6fa5d0b5e853",
   "metadata": {},
   "source": [
    "#### Function with Function as Argument"
   ]
  },
  {
   "cell_type": "code",
   "execution_count": 4,
   "id": "cdca30a0-4b67-4693-afe0-0932b9ae2acf",
   "metadata": {},
   "outputs": [
    {
     "data": {
      "text/plain": [
       "20"
      ]
     },
     "execution_count": 4,
     "metadata": {},
     "output_type": "execute_result"
    }
   ],
   "source": [
    "def fun(fx,value):\n",
    "    return value+fx(value)\n",
    "fun(sqrl,4)"
   ]
  },
  {
   "cell_type": "code",
   "execution_count": 5,
   "id": "0d858db5-b693-45ed-81fa-5e748a6dfc30",
   "metadata": {},
   "outputs": [
    {
     "name": "stdout",
     "output_type": "stream",
     "text": [
      " The value of 2 x 3 = 6 \n"
     ]
    }
   ],
   "source": [
    "mul=lambda x,y:print(f\" The value of {x} x {y} = {x*y} \")\n",
    "mul(2,3)"
   ]
  },
  {
   "cell_type": "markdown",
   "id": "530b4c86-50f4-40d2-a659-9eed42cb1bd4",
   "metadata": {},
   "source": [
    "### Map"
   ]
  },
  {
   "cell_type": "code",
   "execution_count": 7,
   "id": "e8d3763d-451a-44be-a1c3-21b972487d17",
   "metadata": {},
   "outputs": [
    {
     "name": "stdout",
     "output_type": "stream",
     "text": [
      "[1, 4, 9, 16, 25]\n"
     ]
    }
   ],
   "source": [
    "l=[1,2,3,4,5]\n",
    "newl=[]\n",
    "for i in l:\n",
    "    newl.append(sqrl(i))\n",
    "print(newl)"
   ]
  },
  {
   "cell_type": "code",
   "execution_count": 9,
   "id": "a20aa9b5-cb92-46c2-92a2-322baa8d3dc8",
   "metadata": {},
   "outputs": [
    {
     "name": "stdout",
     "output_type": "stream",
     "text": [
      "[1, 4, 9, 16, 25]\n",
      "<class 'map'>\n"
     ]
    }
   ],
   "source": [
    "newl=map(sqrl,l)\n",
    "print(list(newl))\n",
    "print(type(newl))"
   ]
  },
  {
   "cell_type": "code",
   "execution_count": 10,
   "id": "16311402-33d5-4cbb-b67b-e9c216f62293",
   "metadata": {},
   "outputs": [
    {
     "data": {
      "text/plain": [
       "'here map function is used to apply a function to every element in a sequence and return a new sequence '"
      ]
     },
     "execution_count": 10,
     "metadata": {},
     "output_type": "execute_result"
    }
   ],
   "source": [
    "'''here map function is used to apply a function to every element in a sequence and return a new sequence '''"
   ]
  },
  {
   "cell_type": "markdown",
   "id": "66b6615a-45e3-42f2-a650-05cde8d0b059",
   "metadata": {},
   "source": [
    "### Filter"
   ]
  },
  {
   "cell_type": "code",
   "execution_count": 15,
   "id": "8741a911-9373-44c7-a5b8-cde5e03795ef",
   "metadata": {},
   "outputs": [
    {
     "name": "stdout",
     "output_type": "stream",
     "text": [
      "<filter object at 0x000001A538E16A10>\n",
      "<class 'filter'>\n",
      "[3, 4, 5]\n"
     ]
    }
   ],
   "source": [
    "# Filter is used to apply a filter condition to every element in a sequence of values.\n",
    "def greater(a):\n",
    "    return a>2\n",
    "ans=filter(greater,l)\n",
    "# filter(predicate,iterable)--here the predicate should return boolean value\n",
    "print(ans)\n",
    "print(type(ans))\n",
    "print(list(ans))"
   ]
  },
  {
   "cell_type": "markdown",
   "id": "5a0e381c-a59e-45ab-9d13-aa7771fe1c6f",
   "metadata": {},
   "source": [
    "### Reduce"
   ]
  },
  {
   "cell_type": "code",
   "execution_count": 16,
   "id": "8c409034-46fe-49a9-a3cb-9510cccb26ab",
   "metadata": {},
   "outputs": [
    {
     "name": "stdout",
     "output_type": "stream",
     "text": [
      "['GenericAlias', 'RLock', 'WRAPPER_ASSIGNMENTS', 'WRAPPER_UPDATES', '_CacheInfo', '_HashedSeq', '_NOT_FOUND', '__all__', '__builtins__', '__cached__', '__doc__', '__file__', '__loader__', '__name__', '__package__', '__spec__', '_c3_merge', '_c3_mro', '_compose_mro', '_convert', '_find_impl', '_ge_from_gt', '_ge_from_le', '_ge_from_lt', '_gt_from_ge', '_gt_from_le', '_gt_from_lt', '_initial_missing', '_le_from_ge', '_le_from_gt', '_le_from_lt', '_lru_cache_wrapper', '_lt_from_ge', '_lt_from_gt', '_lt_from_le', '_make_key', '_unwrap_partial', 'cache', 'cached_property', 'cmp_to_key', 'get_cache_token', 'lru_cache', 'namedtuple', 'partial', 'partialmethod', 'recursive_repr', 'reduce', 'singledispatch', 'singledispatchmethod', 'total_ordering', 'update_wrapper', 'wraps']\n"
     ]
    }
   ],
   "source": [
    "import functools\n",
    "print(dir(functools))"
   ]
  },
  {
   "cell_type": "code",
   "execution_count": 17,
   "id": "cabde874-ef9c-48d2-b5fa-dd6b7628f31b",
   "metadata": {},
   "outputs": [
    {
     "name": "stdout",
     "output_type": "stream",
     "text": [
      "15\n"
     ]
    }
   ],
   "source": [
    "from functools import reduce\n",
    "ans = reduce(lambda x,y: x+y,l)\n",
    "print(ans)"
   ]
  },
  {
   "cell_type": "code",
   "execution_count": 18,
   "id": "7af0e6ba-a470-40ae-820e-45bc97ad8cfa",
   "metadata": {},
   "outputs": [
    {
     "name": "stdout",
     "output_type": "stream",
     "text": [
      "120\n"
     ]
    }
   ],
   "source": [
    "ans = reduce(lambda x,y: x*y,l)\n",
    "print(ans)"
   ]
  },
  {
   "cell_type": "markdown",
   "id": "21c1d234-a076-448e-a2bd-a9f308735381",
   "metadata": {},
   "source": [
    "### 'is' vs '=='"
   ]
  },
  {
   "cell_type": "code",
   "execution_count": 19,
   "id": "d08b7ef3-2105-42a8-b9d6-a8b618296263",
   "metadata": {},
   "outputs": [
    {
     "name": "stdout",
     "output_type": "stream",
     "text": [
      "False\n",
      "True\n"
     ]
    }
   ],
   "source": [
    "''' is --compares the exact location of object in memory and\n",
    "==  --compares value '''\n",
    "l=[1,2,3]\n",
    "a=[1,2,3]\n",
    "print(l is a)\n",
    "print(l == a)"
   ]
  },
  {
   "cell_type": "code",
   "execution_count": 23,
   "id": "b0b49cd1-02c5-4215-906d-e4a19b0196f1",
   "metadata": {},
   "outputs": [
    {
     "name": "stdout",
     "output_type": "stream",
     "text": [
      "True\n",
      "True\n"
     ]
    }
   ],
   "source": [
    "'''here the python assigns one memory location to constant 3 and assigns the memory location to variable 'a' , \n",
    "when we again assign b with 3 then python rather than wasting a new memory location ,\n",
    "it assigns the same memory location to variable 'b'. '''\n",
    "a=3\n",
    "b=3\n",
    "print(a is b)\n",
    "print(a==b)"
   ]
  },
  {
   "cell_type": "code",
   "execution_count": 24,
   "id": "9c4392b8-2e3e-4ea0-955a-b60ecf4b9390",
   "metadata": {},
   "outputs": [
    {
     "data": {
      "text/plain": [
       "' a is b --true if a nd b are immutable \\n           --false if a nd b are mutable '"
      ]
     },
     "execution_count": 24,
     "metadata": {},
     "output_type": "execute_result"
    }
   ],
   "source": [
    "''' a is b --true if a nd b are immutable \n",
    "           --false if a nd b are mutable '''"
   ]
  },
  {
   "cell_type": "markdown",
   "id": "642ed699-0b30-4525-9d74-79306abdf21f",
   "metadata": {},
   "source": [
    "### __OOPs__"
   ]
  },
  {
   "cell_type": "code",
   "execution_count": 6,
   "id": "d3e49fd6-221f-42ec-b039-ea1bf5f2084f",
   "metadata": {},
   "outputs": [
    {
     "name": "stdout",
     "output_type": "stream",
     "text": [
      "Hero\n",
      "148\n",
      "Hero from CSE section 3 has rollno 148 \n"
     ]
    }
   ],
   "source": [
    "class Student:\n",
    "    name=\"Mohammad Moeenuddin\"\n",
    "    branch=\"CSE\"\n",
    "    section=3\n",
    "    rollno=148\n",
    "    def details(self):\n",
    "        print(f\"{self.name} from {self.branch} section {self.section} has rollno {self.rollno} \")\n",
    "a=Student()\n",
    "a.name=\"Hero\"\n",
    "print(a.name) \n",
    "print(a.rollno)\n",
    "a.details()"
   ]
  },
  {
   "cell_type": "code",
   "execution_count": 7,
   "id": "c663a316-f1b9-4fe6-aaee-29d4778fa65d",
   "metadata": {},
   "outputs": [
    {
     "data": {
      "text/plain": [
       "' The self parameter is an reference to the current instance of the class and is used to access the variables belonging to that class. '"
      ]
     },
     "execution_count": 7,
     "metadata": {},
     "output_type": "execute_result"
    }
   ],
   "source": [
    "''' The self parameter is an reference to the current instance of the class and is used to access the variables belonging to that class. '''"
   ]
  },
  {
   "cell_type": "code",
   "execution_count": 8,
   "id": "ed853e3c-6bac-44ba-8047-a6e3a2aad6c5",
   "metadata": {},
   "outputs": [
    {
     "data": {
      "text/plain": [
       "' self matlab vo object jis pe ye method call ho raha hai '"
      ]
     },
     "execution_count": 8,
     "metadata": {},
     "output_type": "execute_result"
    }
   ],
   "source": [
    "''' self matlab vo object jis pe ye method call ho raha hai '''"
   ]
  },
  {
   "cell_type": "markdown",
   "id": "18690044-9b69-458c-9d16-d334f5444147",
   "metadata": {},
   "source": [
    "### __Constructors__"
   ]
  },
  {
   "cell_type": "code",
   "execution_count": 14,
   "id": "d858647d-2a95-4110-82e4-ba1c8d9d13d6",
   "metadata": {},
   "outputs": [
    {
     "name": "stdout",
     "output_type": "stream",
     "text": [
      "Moin from cse-3 has rollno 148 \n"
     ]
    }
   ],
   "source": [
    "# constructors are used for initialization of an object . \n",
    "class Student:\n",
    "    def __init__(self,n,b,s,r):\n",
    "        self.name=n\n",
    "        self.branch=b\n",
    "        self.section=s\n",
    "        self.rollno=r\n",
    "    def details(self):\n",
    "        print(f\"{self.name} from {self.branch}-{self.section} has rollno {self.rollno} \")\n",
    "a=Student(\"Moin\",'cse',3,148)\n",
    "a.details()"
   ]
  },
  {
   "cell_type": "code",
   "execution_count": 13,
   "id": "a88816e7-42af-4de2-8da2-2bbd667c4987",
   "metadata": {},
   "outputs": [
    {
     "ename": "TypeError",
     "evalue": "Student.__init__() missing 4 required positional arguments: 'n', 'b', 's', and 'r'",
     "output_type": "error",
     "traceback": [
      "\u001b[1;31m---------------------------------------------------------------------------\u001b[0m",
      "\u001b[1;31mTypeError\u001b[0m                                 Traceback (most recent call last)",
      "Cell \u001b[1;32mIn[13], line 13\u001b[0m\n\u001b[0;32m     11\u001b[0m         \u001b[38;5;28mprint\u001b[39m(\u001b[38;5;124mf\u001b[39m\u001b[38;5;124m\"\u001b[39m\u001b[38;5;132;01m{\u001b[39;00m\u001b[38;5;28mself\u001b[39m\u001b[38;5;241m.\u001b[39mname\u001b[38;5;132;01m}\u001b[39;00m\u001b[38;5;124m from \u001b[39m\u001b[38;5;132;01m{\u001b[39;00m\u001b[38;5;28mself\u001b[39m\u001b[38;5;241m.\u001b[39mbranch\u001b[38;5;132;01m}\u001b[39;00m\u001b[38;5;124m-\u001b[39m\u001b[38;5;132;01m{\u001b[39;00m\u001b[38;5;28mself\u001b[39m\u001b[38;5;241m.\u001b[39msection\u001b[38;5;132;01m}\u001b[39;00m\u001b[38;5;124m has rollno \u001b[39m\u001b[38;5;132;01m{\u001b[39;00m\u001b[38;5;28mself\u001b[39m\u001b[38;5;241m.\u001b[39mrollno\u001b[38;5;132;01m}\u001b[39;00m\u001b[38;5;124m \u001b[39m\u001b[38;5;124m\"\u001b[39m)\n\u001b[0;32m     12\u001b[0m a\u001b[38;5;241m=\u001b[39mStudent(\u001b[38;5;124m\"\u001b[39m\u001b[38;5;124mMoin\u001b[39m\u001b[38;5;124m\"\u001b[39m,\u001b[38;5;124m'\u001b[39m\u001b[38;5;124mcse\u001b[39m\u001b[38;5;124m'\u001b[39m,\u001b[38;5;241m3\u001b[39m,\u001b[38;5;241m148\u001b[39m)\n\u001b[1;32m---> 13\u001b[0m b\u001b[38;5;241m=\u001b[39m\u001b[43mStudent\u001b[49m\u001b[43m(\u001b[49m\u001b[43m)\u001b[49m\n\u001b[0;32m     14\u001b[0m a\u001b[38;5;241m.\u001b[39mdetails()\n",
      "\u001b[1;31mTypeError\u001b[0m: Student.__init__() missing 4 required positional arguments: 'n', 'b', 's', and 'r'"
     ]
    }
   ],
   "source": [
    "# constructors are used for initialization of an object . \n",
    "class Student:\n",
    "    def __init__(self):\n",
    "        print(\"I'm student\")\n",
    "    def __init__(self,n,b,s,r):\n",
    "        self.name=n\n",
    "        self.branch=b\n",
    "        self.section=s\n",
    "        self.rollno=r\n",
    "    def details(self):\n",
    "        print(f\"{self.name} from {self.branch}-{self.section} has rollno {self.rollno} \")\n",
    "a=Student(\"Moin\",'cse',3,148)\n",
    "b=Student()\n",
    "a.details()"
   ]
  },
  {
   "cell_type": "markdown",
   "id": "bc30b5d0-8c28-4a31-9e34-8aa0d1eefc0a",
   "metadata": {},
   "source": [
    "### Decorators"
   ]
  },
  {
   "cell_type": "code",
   "execution_count": 18,
   "id": "40acaec9-c0c9-4de3-96af-d0b518dca603",
   "metadata": {},
   "outputs": [
    {
     "name": "stdout",
     "output_type": "stream",
     "text": [
      "good Morning \n",
      "Hello MOIN \n",
      "Thanks for using this function\n",
      "\n",
      "good Morning \n",
      "good Morning \n",
      "Hello MOIN \n",
      "Thanks for using this function\n",
      "Thanks for using this function\n"
     ]
    }
   ],
   "source": [
    "# Decorator is a function which is used to modify a function and return a modified function.\n",
    "def greet(fx):\n",
    "    def mfx():\n",
    "        print(\"good Morning \")\n",
    "        fx()\n",
    "        print(\"Thanks for using this function\")\n",
    "    return mfx\n",
    "@greet\n",
    "def hello():\n",
    "    print(\"Hello MOIN \")\n",
    "\n",
    "hello()  \n",
    "print()\n",
    "greet(hello)()"
   ]
  },
  {
   "cell_type": "code",
   "execution_count": 20,
   "id": "02b33bfa-50a4-428b-8815-0d99f0770110",
   "metadata": {},
   "outputs": [
    {
     "name": "stdout",
     "output_type": "stream",
     "text": [
      "good Morning \n",
      "Hello MOIN \n",
      "Thanks for using this function\n",
      "good Morning \n",
      "33\n",
      "Thanks for using this function\n"
     ]
    }
   ],
   "source": [
    "# Decorator is a function which is used to modify a function and return a modified function.\n",
    "def greet(fx):\n",
    "    def mfx(*args,**kwargs):\n",
    "        print(\"good Morning \")\n",
    "        fx(*args,**kwargs)\n",
    "        print(\"Thanks for using this function\")\n",
    "    return mfx\n",
    "@greet\n",
    "def hello():\n",
    "    print(\"Hello MOIN \")\n",
    "@greet\n",
    "def add(a,b):\n",
    "    print(a+b)\n",
    "hello()  \n",
    "add(10,23)\n",
    "# greet(hello)() --can be used instead of @greet"
   ]
  },
  {
   "cell_type": "markdown",
   "id": "25ed9c6b-dd45-4253-8bdf-814edbbe3355",
   "metadata": {},
   "source": [
    "### __Getter nd Setter__"
   ]
  },
  {
   "cell_type": "code",
   "execution_count": 50,
   "id": "58c41929-bb80-42a1-8fbf-c70633d27db8",
   "metadata": {},
   "outputs": [
    {
     "name": "stdout",
     "output_type": "stream",
     "text": [
      "Moin from cse \n"
     ]
    }
   ],
   "source": [
    "class Student:\n",
    "    # Constructor declaration\n",
    "    def __init__(self,n,b,r):\n",
    "        self.name=n\n",
    "        self.branch=b\n",
    "        self.rollno=r\n",
    "        \n",
    "    # Getter declaration\n",
    "    @property\n",
    "    def NewBranch(self):\n",
    "        return self.branch+\" great\"\n",
    "        \n",
    "    # Setter declaration\n",
    "    @NewBranch.setter\n",
    "    def NewBranch(self,newBranch):\n",
    "        self.branch=newBranch\n",
    "        \n",
    "    # function\n",
    "    def details(self):\n",
    "        print(f\"{self.name} from {self.branch} \")\n",
    "a=Student(\"Moin\",'cse',148)\n",
    "# print(a.branch)\n",
    "a.details()\n"
   ]
  },
  {
   "cell_type": "code",
   "execution_count": 39,
   "id": "28f2f5f3-d9ee-4594-8bab-27f6b3ab4cf7",
   "metadata": {},
   "outputs": [
    {
     "name": "stdout",
     "output_type": "stream",
     "text": [
      "Moin from ML \n"
     ]
    }
   ],
   "source": [
    "class Student:\n",
    "\n",
    "  def __init__(self, n, b, r):\n",
    "      self.name = n\n",
    "      self.branch = b\n",
    "      self.rollno = r\n",
    "\n",
    "  @property\n",
    "  def NewBranch(self):\n",
    "      return self.branch + \" great\"\n",
    "\n",
    "  @NewBranch.setter  # Corrected typo\n",
    "  def NewBranch(self, newBranch):\n",
    "      self.branch = newBranch\n",
    "\n",
    "  def details(self):\n",
    "      print(f\"{self.name} from {self.branch} \")\n",
    "\n",
    "a = Student(\"Moin\", 'cse', 148)\n",
    "a.NewBranch=(\"ML\")\n",
    "a.details()\n"
   ]
  },
  {
   "cell_type": "code",
   "execution_count": null,
   "id": "b201d03f-f676-4feb-8e3c-279db227f48e",
   "metadata": {},
   "outputs": [],
   "source": []
  }
 ],
 "metadata": {
  "kernelspec": {
   "display_name": "Python 3 (ipykernel)",
   "language": "python",
   "name": "python3"
  },
  "language_info": {
   "codemirror_mode": {
    "name": "ipython",
    "version": 3
   },
   "file_extension": ".py",
   "mimetype": "text/x-python",
   "name": "python",
   "nbconvert_exporter": "python",
   "pygments_lexer": "ipython3",
   "version": "3.12.0"
  }
 },
 "nbformat": 4,
 "nbformat_minor": 5
}
