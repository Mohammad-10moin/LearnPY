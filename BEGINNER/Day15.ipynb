{
 "cells": [
  {
   "cell_type": "code",
   "execution_count": 1,
   "id": "e2bb561a-d98c-4d3e-94cb-2220278973d2",
   "metadata": {},
   "outputs": [
    {
     "name": "stdout",
     "output_type": "stream",
     "text": [
      "2024-06-13\n"
     ]
    }
   ],
   "source": [
    "from datetime import date\n",
    "print(date.today())"
   ]
  },
  {
   "cell_type": "markdown",
   "id": "e1d88ae9-458b-4e3a-855d-158f81f88c44",
   "metadata": {},
   "source": [
    "### Multi Threading"
   ]
  },
  {
   "cell_type": "code",
   "execution_count": 8,
   "id": "70e6cbb9-ead7-4c00-ab81-cdf4ea20772c",
   "metadata": {},
   "outputs": [
    {
     "name": "stdout",
     "output_type": "stream",
     "text": [
      "function slept for 4 second\n",
      "function slept for 7 second\n",
      "function slept for 5 second\n",
      "16.002030199997535\n"
     ]
    }
   ],
   "source": [
    "import threading\n",
    "import time\n",
    "\n",
    "def meth(seconds):\n",
    "    time.sleep(seconds)\n",
    "    print(f\"function slept for {seconds} second\")\n",
    "time1=time.perf_counter()\n",
    "meth(4)\n",
    "meth(7)\n",
    "meth(5)\n",
    "time2=time.perf_counter()\n",
    "print(time2-time1)"
   ]
  },
  {
   "cell_type": "code",
   "execution_count": 13,
   "id": "dc873e23-9014-4016-804b-d52d5d4254d2",
   "metadata": {},
   "outputs": [
    {
     "name": "stdout",
     "output_type": "stream",
     "text": [
      "function slept for 4 second\n",
      "function slept for 5 second\n",
      "function slept for 7 second\n",
      "7.003940499998862\n"
     ]
    }
   ],
   "source": [
    "t1=threading.Thread(target=meth,args=[4])\n",
    "t2=threading.Thread(target=meth,args=[7])\n",
    "t3=threading.Thread(target=meth,args=[5])\n",
    "time1=time.perf_counter()\n",
    "t1.start()\n",
    "t2.start()\n",
    "t3.start()\n",
    "\n",
    "t1.join()\n",
    "# here t1.join means -- wait until t1 doesnt gets completed\n",
    "t2.join()\n",
    "t3.join()\n",
    "# so finally , using multi threading the max time it takes while we use join is 7sec\n",
    "time2=time.perf_counter()\n",
    "print(time2-time1)"
   ]
  },
  {
   "cell_type": "code",
   "execution_count": 14,
   "id": "aa15a741-eec5-4611-a08a-2882688f6336",
   "metadata": {},
   "outputs": [
    {
     "data": {
      "text/plain": [
       "' learn ThreadPoolExecuter for ease '"
      ]
     },
     "execution_count": 14,
     "metadata": {},
     "output_type": "execute_result"
    }
   ],
   "source": [
    "''' learn ThreadPoolExecuter for ease '''"
   ]
  },
  {
   "cell_type": "markdown",
   "id": "5e1ffed1-d165-4b87-9f2e-c47153929c53",
   "metadata": {},
   "source": [
    "### Multi Processing"
   ]
  },
  {
   "cell_type": "code",
   "execution_count": 31,
   "id": "a684e7c4-8ff1-471c-8522-8299db09730a",
   "metadata": {},
   "outputs": [],
   "source": [
    "import multiprocessing\n",
    "import requests\n",
    "def downloadfile(url,name):\n",
    "    print(f\"started downloading {name}\")\n",
    "    response= requests.get(url)\n",
    "    open(f\"D://MYpython/files/file{name}.jpg\",wb).write(response.content)\n",
    "    print(f\"Finished Downloading {name} \")\n",
    "if __name__==\"__main__\":\n",
    "    url=\"https://picsum.photos/2000/3000\"\n",
    "    pros=[]\n",
    "    for i in range(20):\n",
    "        p=multiprocessing.Process(target=downloadfile,args=[url,i])\n",
    "        p.start()\n",
    "        pros.append(p)\n",
    "    \n",
    "    for i in pros:\n",
    "        i.join()\n",
    "    "
   ]
  },
  {
   "cell_type": "code",
   "execution_count": 20,
   "id": "57dad3f5-0257-4244-933c-1d265ac735b2",
   "metadata": {},
   "outputs": [
    {
     "name": "stdout",
     "output_type": "stream",
     "text": [
      "Defaulting to user installation because normal site-packages is not writeableNote: you may need to restart the kernel to use updated packages.\n",
      "\n",
      "Collecting multiprocess\n",
      "  Downloading multiprocess-0.70.16-py312-none-any.whl.metadata (7.2 kB)\n",
      "Collecting dill>=0.3.8 (from multiprocess)\n",
      "  Downloading dill-0.3.8-py3-none-any.whl.metadata (10 kB)\n",
      "Downloading multiprocess-0.70.16-py312-none-any.whl (146 kB)\n",
      "   ---------------------------------------- 0.0/146.7 kB ? eta -:--:--\n",
      "   -- ------------------------------------- 10.2/146.7 kB ? eta -:--:--\n",
      "   -------- ------------------------------ 30.7/146.7 kB 435.7 kB/s eta 0:00:01\n",
      "   -------- ------------------------------ 30.7/146.7 kB 435.7 kB/s eta 0:00:01\n",
      "   -------- ------------------------------ 30.7/146.7 kB 435.7 kB/s eta 0:00:01\n",
      "   -------- ------------------------------ 30.7/146.7 kB 435.7 kB/s eta 0:00:01\n",
      "   -------- ------------------------------ 30.7/146.7 kB 435.7 kB/s eta 0:00:01\n",
      "   -------- ------------------------------ 30.7/146.7 kB 435.7 kB/s eta 0:00:01\n",
      "   -------- ------------------------------ 30.7/146.7 kB 435.7 kB/s eta 0:00:01\n",
      "   ----------------------------- -------- 112.6/146.7 kB 242.7 kB/s eta 0:00:01\n",
      "   ----------------------------- -------- 112.6/146.7 kB 242.7 kB/s eta 0:00:01\n",
      "   -------------------------------------- 146.7/146.7 kB 282.0 kB/s eta 0:00:00\n",
      "Downloading dill-0.3.8-py3-none-any.whl (116 kB)\n",
      "   ---------------------------------------- 0.0/116.3 kB ? eta -:--:--\n",
      "   --- ------------------------------------ 10.2/116.3 kB ? eta -:--:--\n",
      "   ------------- ------------------------- 41.0/116.3 kB 487.6 kB/s eta 0:00:01\n",
      "   ------------------------------ -------- 92.2/116.3 kB 871.5 kB/s eta 0:00:01\n",
      "   -------------------------------------- 116.3/116.3 kB 751.9 kB/s eta 0:00:00\n",
      "Installing collected packages: dill, multiprocess\n",
      "Successfully installed dill-0.3.8 multiprocess-0.70.16\n"
     ]
    }
   ],
   "source": [
    "pip install multiprocess"
   ]
  },
  {
   "cell_type": "code",
   "execution_count": null,
   "id": "6c226af7-ef02-4c16-b2a7-34465063fa6b",
   "metadata": {},
   "outputs": [],
   "source": []
  }
 ],
 "metadata": {
  "kernelspec": {
   "display_name": "Python 3 (ipykernel)",
   "language": "python",
   "name": "python3"
  },
  "language_info": {
   "codemirror_mode": {
    "name": "ipython",
    "version": 3
   },
   "file_extension": ".py",
   "mimetype": "text/x-python",
   "name": "python",
   "nbconvert_exporter": "python",
   "pygments_lexer": "ipython3",
   "version": "3.12.0"
  }
 },
 "nbformat": 4,
 "nbformat_minor": 5
}
