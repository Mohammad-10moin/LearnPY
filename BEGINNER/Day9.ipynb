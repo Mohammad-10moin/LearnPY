{
 "cells": [
  {
   "cell_type": "code",
   "execution_count": 1,
   "id": "de3e0a3b-5a41-4cdf-9c68-24ccfc7d76d4",
   "metadata": {},
   "outputs": [
    {
     "name": "stdout",
     "output_type": "stream",
     "text": [
      "2024-06-04\n"
     ]
    }
   ],
   "source": [
    "from datetime import date\n",
    "print(date.today())"
   ]
  },
  {
   "cell_type": "markdown",
   "id": "05eb39e5-1ea8-49d5-a1dc-bc54d0ed5e1c",
   "metadata": {},
   "source": [
    "## Recursion"
   ]
  },
  {
   "cell_type": "code",
   "execution_count": 4,
   "id": "d233af96-6e6f-4a2e-b206-07a99066167f",
   "metadata": {},
   "outputs": [
    {
     "name": "stdout",
     "output_type": "stream",
     "text": [
      "55\n"
     ]
    }
   ],
   "source": [
    "def fibonacc(a):\n",
    "    if a==0:\n",
    "        return 0\n",
    "    elif a==1:\n",
    "        return 1\n",
    "    else:\n",
    "        return (fibonacc(a-1) + fibonacc(a-2))\n",
    "ans=fibonacc(10)\n",
    "print(ans)"
   ]
  },
  {
   "cell_type": "code",
   "execution_count": 8,
   "id": "90935bf4-9c4f-4674-9634-3d50efb25d63",
   "metadata": {},
   "outputs": [
    {
     "name": "stdout",
     "output_type": "stream",
     "text": [
      "3628800\n"
     ]
    }
   ],
   "source": [
    "def fact(a):\n",
    "    if (a==0 | a==1):\n",
    "        # here or can be used instead of |\n",
    "        return 1\n",
    "    else:\n",
    "        return (a*fact(a-1))\n",
    "ans=fact(10)\n",
    "print(ans)"
   ]
  },
  {
   "cell_type": "markdown",
   "id": "8ece60de-a775-41b9-b90d-66c4fe524131",
   "metadata": {},
   "source": [
    "### sets"
   ]
  },
  {
   "cell_type": "code",
   "execution_count": 6,
   "id": "02816102-c258-49dc-a8a7-a8ccf4736317",
   "metadata": {},
   "outputs": [
    {
     "name": "stdout",
     "output_type": "stream",
     "text": [
      "{1, 2, 3, 4} <class 'set'>\n"
     ]
    }
   ],
   "source": [
    "# NO repetition is allowed in sets and is represented using {} braces.\n",
    "s={1,2,3,4,1,3,4}\n",
    "print(s,type(s))"
   ]
  },
  {
   "cell_type": "code",
   "execution_count": 32,
   "id": "c57d2906-5a24-49b2-aeab-93ae2e9973da",
   "metadata": {},
   "outputs": [
    {
     "data": {
      "text/plain": [
       "' UNordered set of data items and are not changable by index i.e we cant change the value of set[i]=j'"
      ]
     },
     "execution_count": 32,
     "metadata": {},
     "output_type": "execute_result"
    }
   ],
   "source": [
    "''' UNordered set of data items and are not changable by index i.e we cant change the value of set[i]=j'''"
   ]
  },
  {
   "cell_type": "code",
   "execution_count": 8,
   "id": "72136b08-311d-4aa8-9432-2edf0f974d46",
   "metadata": {},
   "outputs": [
    {
     "name": "stdout",
     "output_type": "stream",
     "text": [
      "1\n",
      "2\n",
      "3\n",
      "4\n"
     ]
    }
   ],
   "source": [
    "for i in s:\n",
    "    print(i)"
   ]
  },
  {
   "cell_type": "markdown",
   "id": "a45e8c2c-735b-4e68-9be8-fa67e62ca9d9",
   "metadata": {},
   "source": [
    "#### Set Operation"
   ]
  },
  {
   "cell_type": "code",
   "execution_count": 24,
   "id": "6d614bd2-1fa1-465f-b441-5e79b74b0630",
   "metadata": {},
   "outputs": [
    {
     "name": "stdout",
     "output_type": "stream",
     "text": [
      "{1, 2, 3, 4, 5, 6}\n",
      "{1, 2, 3} {4, 5, 6}\n"
     ]
    }
   ],
   "source": [
    "s1={1,2,3}\n",
    "s2={4,5,6}\n",
    "print(s2.union(s1))\n",
    "print(s1, s2)"
   ]
  },
  {
   "cell_type": "code",
   "execution_count": 12,
   "id": "dc47c5bc-fd60-44c1-8ea4-d5cc4737552e",
   "metadata": {},
   "outputs": [
    {
     "name": "stdout",
     "output_type": "stream",
     "text": [
      "set()\n"
     ]
    }
   ],
   "source": [
    "print(s1.intersection(s2))"
   ]
  },
  {
   "cell_type": "code",
   "execution_count": 18,
   "id": "1552a092-d9c5-4d2c-8cca-bb1979eb5fd1",
   "metadata": {},
   "outputs": [
    {
     "name": "stdout",
     "output_type": "stream",
     "text": [
      "{4}\n"
     ]
    }
   ],
   "source": [
    "s3={4,8,12}\n",
    "print(s3.intersection(s2))"
   ]
  },
  {
   "cell_type": "code",
   "execution_count": 15,
   "id": "c398614f-90a3-4b5a-aa0d-a75c64fb9977",
   "metadata": {},
   "outputs": [
    {
     "name": "stdout",
     "output_type": "stream",
     "text": [
      "{1, 2, 3, 4, 5, 6}\n",
      "{1, 2, 3, 4, 5, 6, 8, 12}\n"
     ]
    }
   ],
   "source": [
    "(s1.update(s2))\n",
    "print(s1)\n",
    "s1.update(s3)\n",
    "print(s1)"
   ]
  },
  {
   "cell_type": "code",
   "execution_count": 25,
   "id": "e7203ce4-74eb-48c4-9849-3e5edb07c295",
   "metadata": {},
   "outputs": [
    {
     "name": "stdout",
     "output_type": "stream",
     "text": [
      "{5, 6, 8, 12}\n",
      "{4}\n",
      "{8, 12}\n",
      "True\n"
     ]
    }
   ],
   "source": [
    "print(s2.symmetric_difference(s3))\n",
    "\n",
    "s2.intersection_update(s3)\n",
    "# here the s2 gets updated with only the common values and the remaining values will be deleted.\n",
    "print(s2)\n",
    "\n",
    "print(s3.difference(s2))\n",
    "print(s1.isdisjoint(s3))"
   ]
  },
  {
   "cell_type": "code",
   "execution_count": 27,
   "id": "40dee19e-7f63-4777-aaed-95b8ed0f951f",
   "metadata": {},
   "outputs": [
    {
     "name": "stdout",
     "output_type": "stream",
     "text": [
      "True\n",
      "True\n"
     ]
    }
   ],
   "source": [
    "print(s3.issuperset(s2))\n",
    "print(s2.issubset(s3))"
   ]
  },
  {
   "cell_type": "code",
   "execution_count": 30,
   "id": "3922d6b9-2066-41e1-9f32-9c96199df2e6",
   "metadata": {},
   "outputs": [
    {
     "name": "stdout",
     "output_type": "stream",
     "text": [
      "{9, 10, 4, 7}\n"
     ]
    }
   ],
   "source": [
    "s2.add(9)\n",
    "s2.add(7)\n",
    "s2.add(10)\n",
    "print(s2)"
   ]
  },
  {
   "cell_type": "code",
   "execution_count": 31,
   "id": "f6374f9e-430f-4b1f-aac6-ca9ea633665e",
   "metadata": {},
   "outputs": [
    {
     "name": "stdout",
     "output_type": "stream",
     "text": [
      "{9, 4, 7}\n"
     ]
    }
   ],
   "source": [
    "s2.remove(10)\n",
    "print(s2)"
   ]
  },
  {
   "cell_type": "code",
   "execution_count": 33,
   "id": "e7c23fce-b7f5-4480-81b1-b912abadf495",
   "metadata": {},
   "outputs": [
    {
     "ename": "NameError",
     "evalue": "name 's2' is not defined",
     "output_type": "error",
     "traceback": [
      "\u001b[1;31m---------------------------------------------------------------------------\u001b[0m",
      "\u001b[1;31mNameError\u001b[0m                                 Traceback (most recent call last)",
      "Cell \u001b[1;32mIn[33], line 3\u001b[0m\n\u001b[0;32m      1\u001b[0m \u001b[38;5;66;03m# To delete the entire cities we can use 'del' Keyword.\u001b[39;00m\n\u001b[0;32m      2\u001b[0m \u001b[38;5;28;01mdel\u001b[39;00m s2\n\u001b[1;32m----> 3\u001b[0m \u001b[38;5;28mprint\u001b[39m(\u001b[43ms2\u001b[49m)\n",
      "\u001b[1;31mNameError\u001b[0m: name 's2' is not defined"
     ]
    }
   ],
   "source": [
    "# To delete the entire cities we can use 'del' Keyword.\n",
    "del s2\n",
    "print(s2)"
   ]
  },
  {
   "cell_type": "code",
   "execution_count": 34,
   "id": "87de65fd-cf22-46b5-bc86-5532b59fcfe5",
   "metadata": {},
   "outputs": [
    {
     "name": "stdout",
     "output_type": "stream",
     "text": [
      "set()\n"
     ]
    }
   ],
   "source": [
    "# to clear the set we use 'clear()'\n",
    "s1.clear()\n",
    "print(s1)"
   ]
  },
  {
   "cell_type": "code",
   "execution_count": 37,
   "id": "98efbba8-5e32-4e36-bba0-f425fef284c0",
   "metadata": {},
   "outputs": [
    {
     "name": "stdout",
     "output_type": "stream",
     "text": [
      "{1, 2, 'A', 'b'}\n"
     ]
    }
   ],
   "source": [
    "s1={\"A\",1,\"b\",2}\n",
    "print(s1)"
   ]
  },
  {
   "cell_type": "markdown",
   "id": "c5a571db-ec93-4173-bf05-8769a83f33f5",
   "metadata": {},
   "source": [
    "### Dictionary"
   ]
  },
  {
   "cell_type": "code",
   "execution_count": 47,
   "id": "497a0800-5f84-4ab6-ac95-4370376f3ece",
   "metadata": {},
   "outputs": [
    {
     "name": "stdout",
     "output_type": "stream",
     "text": [
      "{'name': 'Moinuddin', 'roll': 148, 'branch': 'cse', 'section': 3}\n",
      "Moinuddin\n",
      "Moinuddin\n"
     ]
    }
   ],
   "source": [
    "# Ordered collection of data items from python-3.7\n",
    "student ={\"name\":\"Moinuddin\",\"roll\":148,\"branch\":\"cse\",\"section\":3}\n",
    "print(student)\n",
    "print(student[\"name\"]) # throws error\n",
    "print(student.get('name')) # doesnt throw an error"
   ]
  },
  {
   "cell_type": "code",
   "execution_count": 41,
   "id": "72ac7729-d28f-4bb2-b856-e6799cd34c9c",
   "metadata": {},
   "outputs": [
    {
     "name": "stdout",
     "output_type": "stream",
     "text": [
      "Moinuddin\n",
      "148\n",
      "cse\n",
      "3\n"
     ]
    }
   ],
   "source": [
    "# iteration\n",
    "for i in student.keys():\n",
    "    print(student[i])"
   ]
  },
  {
   "cell_type": "code",
   "execution_count": 42,
   "id": "06535c1b-d054-4007-bcd9-f7e0aa0c4a43",
   "metadata": {},
   "outputs": [
    {
     "name": "stdout",
     "output_type": "stream",
     "text": [
      "{'name': 'Moinuddin', 'roll': 148, 'branch': 'cse', 'section': 3}\n",
      "dict_keys(['name', 'roll', 'branch', 'section'])\n",
      "dict_values(['Moinuddin', 148, 'cse', 3])\n"
     ]
    }
   ],
   "source": [
    "print(student)\n",
    "print(student.keys())\n",
    "print(student.values())"
   ]
  },
  {
   "cell_type": "code",
   "execution_count": 43,
   "id": "1661239c-4335-4b65-a59b-47307812aa41",
   "metadata": {},
   "outputs": [
    {
     "name": "stdout",
     "output_type": "stream",
     "text": [
      "dict_items([('name', 'Moinuddin'), ('roll', 148), ('branch', 'cse'), ('section', 3)])\n"
     ]
    }
   ],
   "source": [
    "print(student.items())"
   ]
  },
  {
   "cell_type": "code",
   "execution_count": 46,
   "id": "4346a76f-93ff-497b-8fba-49ab81e91e07",
   "metadata": {},
   "outputs": [
    {
     "name": "stdout",
     "output_type": "stream",
     "text": [
      "name is Moinuddin\n",
      "roll is 148\n",
      "branch is cse\n",
      "section is 3\n"
     ]
    }
   ],
   "source": [
    "for key, value in student.items():\n",
    "    print(f\"{key} is {value}\")"
   ]
  },
  {
   "cell_type": "code",
   "execution_count": 54,
   "id": "ee7f6bac-fa5b-434a-9691-ddd65cb49953",
   "metadata": {},
   "outputs": [
    {
     "name": "stdout",
     "output_type": "stream",
     "text": [
      "{1: 'a', 2: 'b', 3: 'c', 4: 'd', 5: 'e'}\n"
     ]
    }
   ],
   "source": [
    "s1={1:'a',2:'b',3:'c'}\n",
    "s2={4:'d',5:'e'}\n",
    "s1.update(s2)\n",
    "print(s1)"
   ]
  },
  {
   "cell_type": "code",
   "execution_count": 53,
   "id": "6d3bb3c5-3353-4922-a6b4-99f451460184",
   "metadata": {},
   "outputs": [
    {
     "name": "stdout",
     "output_type": "stream",
     "text": [
      "{}\n"
     ]
    }
   ],
   "source": [
    "s1.clear()\n",
    "print(s1)"
   ]
  },
  {
   "cell_type": "code",
   "execution_count": 55,
   "id": "31a0bbee-b704-4a30-8a8e-958986bb6758",
   "metadata": {},
   "outputs": [
    {
     "name": "stdout",
     "output_type": "stream",
     "text": [
      "(5, 'e')\n"
     ]
    }
   ],
   "source": [
    "print(s1.popitem())"
   ]
  },
  {
   "cell_type": "code",
   "execution_count": 57,
   "id": "079d2446-8330-4e2d-a4c4-100a6631affc",
   "metadata": {},
   "outputs": [
    {
     "name": "stdout",
     "output_type": "stream",
     "text": [
      "a\n"
     ]
    }
   ],
   "source": [
    "print(s1.pop(1))"
   ]
  },
  {
   "cell_type": "markdown",
   "id": "1251ad5d-0bc6-4dee-a4bb-6a0f3c8d4395",
   "metadata": {},
   "source": [
    "### for loop with else"
   ]
  },
  {
   "cell_type": "code",
   "execution_count": 61,
   "id": "5c05c4ae-037e-4801-9c92-b06fd408f1d5",
   "metadata": {},
   "outputs": [
    {
     "name": "stdout",
     "output_type": "stream",
     "text": [
      "0\n",
      "1\n",
      "2\n",
      "3\n",
      "4\n",
      "we can print 5\n"
     ]
    }
   ],
   "source": [
    "for i in range(5):\n",
    "    print(i)\n",
    "else:\n",
    "    print(\"we can print 5\")"
   ]
  },
  {
   "cell_type": "code",
   "execution_count": 63,
   "id": "339cef73-ca5b-4a60-8e8c-41a00d601e95",
   "metadata": {},
   "outputs": [
    {
     "name": "stdout",
     "output_type": "stream",
     "text": [
      "0\n",
      "1\n",
      "2\n",
      "3\n"
     ]
    },
    {
     "data": {
      "text/plain": [
       "'here we can see that the else block isnt executed ,\\nbecause else is only executed after for loop completes all its iterations '"
      ]
     },
     "execution_count": 63,
     "metadata": {},
     "output_type": "execute_result"
    }
   ],
   "source": [
    "for i in range(5):\n",
    "    print(i)\n",
    "    if i==3:\n",
    "        break\n",
    "else:\n",
    "    print(\"we can print 5\")\n",
    "'''here we can see that the else block isnt executed ,\n",
    "because else is only executed after for loop completes all its iterations '''"
   ]
  },
  {
   "cell_type": "code",
   "execution_count": 1,
   "id": "15f5411b-46e3-4b13-9c94-7ea0cf9e4a1c",
   "metadata": {},
   "outputs": [
    {
     "name": "stdout",
     "output_type": "stream",
     "text": [
      "-5\n",
      "-4\n",
      "-3\n",
      "-2\n",
      "-1\n"
     ]
    }
   ],
   "source": [
    "for i in range(-5,0):\n",
    "    print(i)"
   ]
  },
  {
   "cell_type": "markdown",
   "id": "17a67d8f-113e-4d3f-b30b-8b3cab9c9f35",
   "metadata": {},
   "source": [
    "## Exception"
   ]
  },
  {
   "cell_type": "code",
   "execution_count": 5,
   "id": "9cb1eb66-f541-4e85-ab9f-6af9eb907eed",
   "metadata": {},
   "outputs": [
    {
     "name": "stdin",
     "output_type": "stream",
     "text": [
      "enter a number:  0\n"
     ]
    },
    {
     "name": "stdout",
     "output_type": "stream",
     "text": [
      "The exception is :  division by zero\n"
     ]
    }
   ],
   "source": [
    "a=int(input(\"enter a number: \"))\n",
    "try:\n",
    "    print(\"The remainder is \",10/a)\n",
    "except Exception as e:\n",
    "    print(\"The exception is : \",e)"
   ]
  },
  {
   "cell_type": "code",
   "execution_count": 12,
   "id": "5be3f54b-66ab-453b-9ba8-3308d7934b3a",
   "metadata": {},
   "outputs": [
    {
     "name": "stdin",
     "output_type": "stream",
     "text": [
      "enter the index 6\n"
     ]
    },
    {
     "name": "stdout",
     "output_type": "stream",
     "text": [
      "list index out of range\n"
     ]
    }
   ],
   "source": [
    "l=[1,2,3,4,56,6]\n",
    "i=int(input(\"enter the index\"))\n",
    "try:\n",
    "    print(f\"The value at index-{i} is {l[i]}\")\n",
    "except Exception as e:\n",
    "    print(e)"
   ]
  },
  {
   "cell_type": "code",
   "execution_count": 15,
   "id": "d514d7cd-bfd2-4138-9386-c8398ee089cd",
   "metadata": {},
   "outputs": [
    {
     "name": "stdin",
     "output_type": "stream",
     "text": [
      "enter a number:  wsdf\n"
     ]
    },
    {
     "name": "stdout",
     "output_type": "stream",
     "text": [
      "entered number is not an integer:\n"
     ]
    }
   ],
   "source": [
    "try:\n",
    "    a=int(input(\"enter a number: \"))\n",
    "except ValueError:\n",
    "    print(\"entered number is not an integer:\")"
   ]
  },
  {
   "cell_type": "markdown",
   "id": "15552ce5-64e9-4120-a65d-e6382fe45a2f",
   "metadata": {},
   "source": [
    "#### Finally keyword"
   ]
  },
  {
   "cell_type": "code",
   "execution_count": 17,
   "id": "562a0871-d770-48f8-999d-aa3bd148fbee",
   "metadata": {},
   "outputs": [
    {
     "name": "stdin",
     "output_type": "stream",
     "text": [
      "enter a number:  A\n"
     ]
    },
    {
     "name": "stdout",
     "output_type": "stream",
     "text": [
      "entered number is not an integer:\n",
      "finally is definitely executed\n"
     ]
    }
   ],
   "source": [
    "try:\n",
    "    a=int(input(\"enter a number: \"))\n",
    "except ValueError:\n",
    "    print(\"entered number is not an integer:\")\n",
    "finally:\n",
    "    print(\"finally is definitely executed\")"
   ]
  },
  {
   "cell_type": "code",
   "execution_count": 18,
   "id": "1bb9564c-387a-443f-a120-23cf5870d5fe",
   "metadata": {},
   "outputs": [
    {
     "name": "stdin",
     "output_type": "stream",
     "text": [
      "enter the index 6\n"
     ]
    },
    {
     "ename": "IndexError",
     "evalue": "enter the correct value of index ",
     "output_type": "error",
     "traceback": [
      "\u001b[1;31m---------------------------------------------------------------------------\u001b[0m",
      "\u001b[1;31mIndexError\u001b[0m                                Traceback (most recent call last)",
      "Cell \u001b[1;32mIn[18], line 4\u001b[0m\n\u001b[0;32m      2\u001b[0m i\u001b[38;5;241m=\u001b[39m\u001b[38;5;28mint\u001b[39m(\u001b[38;5;28minput\u001b[39m(\u001b[38;5;124m\"\u001b[39m\u001b[38;5;124menter the index\u001b[39m\u001b[38;5;124m\"\u001b[39m))\n\u001b[0;32m      3\u001b[0m \u001b[38;5;28;01mif\u001b[39;00m i\u001b[38;5;241m>\u001b[39m\u001b[38;5;241m=\u001b[39m\u001b[38;5;241m6\u001b[39m:\n\u001b[1;32m----> 4\u001b[0m     \u001b[38;5;28;01mraise\u001b[39;00m \u001b[38;5;167;01mIndexError\u001b[39;00m(\u001b[38;5;124m\"\u001b[39m\u001b[38;5;124menter the correct value of index \u001b[39m\u001b[38;5;124m\"\u001b[39m)\n",
      "\u001b[1;31mIndexError\u001b[0m: enter the correct value of index "
     ]
    }
   ],
   "source": [
    "l=[1,2,3,4,56,6]\n",
    "i=int(input(\"enter the index\"))\n",
    "if i>=6:\n",
    "    raise IndexError(\"enter the correct value of index \")"
   ]
  },
  {
   "cell_type": "markdown",
   "id": "562a0f93-9f9a-4e49-a1f8-79c66a1d434c",
   "metadata": {},
   "source": [
    "## SingleLine If-Else"
   ]
  },
  {
   "cell_type": "code",
   "execution_count": 19,
   "id": "b6c6a42f-379d-4f13-95ad-eccc326cc0a1",
   "metadata": {},
   "outputs": [
    {
     "name": "stdin",
     "output_type": "stream",
     "text": [
      "enter a:  10\n",
      "enter b:  100\n"
     ]
    },
    {
     "name": "stdout",
     "output_type": "stream",
     "text": [
      "b is greater by  90\n"
     ]
    }
   ],
   "source": [
    "a=int(input(\"enter a: \"))\n",
    "b=int(input(\"enter b: \"))\n",
    "print(\"a is greater by \",a-b) if a>b else print(\"a==b\") if a==b else print(\"b is greater by \",b-a)"
   ]
  },
  {
   "cell_type": "code",
   "execution_count": null,
   "id": "914f9493-c5c6-4a5b-ab7f-728934dab465",
   "metadata": {},
   "outputs": [],
   "source": []
  }
 ],
 "metadata": {
  "kernelspec": {
   "display_name": "Python 3 (ipykernel)",
   "language": "python",
   "name": "python3"
  },
  "language_info": {
   "codemirror_mode": {
    "name": "ipython",
    "version": 3
   },
   "file_extension": ".py",
   "mimetype": "text/x-python",
   "name": "python",
   "nbconvert_exporter": "python",
   "pygments_lexer": "ipython3",
   "version": "3.12.0"
  }
 },
 "nbformat": 4,
 "nbformat_minor": 5
}
