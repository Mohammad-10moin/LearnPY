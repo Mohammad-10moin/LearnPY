{
 "cells": [
  {
   "cell_type": "code",
   "execution_count": 1,
   "id": "83f43a8b-63a8-4265-a53d-c2013101f378",
   "metadata": {},
   "outputs": [
    {
     "name": "stdout",
     "output_type": "stream",
     "text": [
      "2024-06-03\n"
     ]
    }
   ],
   "source": [
    "from datetime import date\n",
    "print(date.today())"
   ]
  },
  {
   "cell_type": "markdown",
   "id": "dd7c6519-0966-48dd-bd5f-37eb8c9b6ca0",
   "metadata": {},
   "source": [
    "### List @perations"
   ]
  },
  {
   "cell_type": "code",
   "execution_count": 11,
   "id": "83561a19-163c-421e-9311-29f0b227bc04",
   "metadata": {},
   "outputs": [
    {
     "name": "stdout",
     "output_type": "stream",
     "text": [
      "[23, 3, 5, 2, 6, 10, 5]\n",
      "[23, 3, 5, 2, 6, 10, 5, 45]\n",
      "[2, 3, 5, 5, 6, 10, 23, 45]\n",
      "[45, 23, 10, 6, 5, 5, 3, 2]\n",
      "[2, 3, 5, 5, 6, 10, 23, 45]\n"
     ]
    }
   ],
   "source": [
    "l=[23,3,5,2,6,10,5]\n",
    "print(l)\n",
    "l.append(45)\n",
    "print(l)\n",
    "l.sort()\n",
    "print(l)\n",
    "l.sort(reverse=True)\n",
    "print(l)\n",
    "l.reverse()\n",
    "print(l)"
   ]
  },
  {
   "cell_type": "code",
   "execution_count": 15,
   "id": "fae46907-9ed8-4c30-810f-168f811f9928",
   "metadata": {},
   "outputs": [
    {
     "name": "stdout",
     "output_type": "stream",
     "text": [
      "5\n",
      "2\n"
     ]
    }
   ],
   "source": [
    "print(l.index(10))\n",
    "print(l.count(5))"
   ]
  },
  {
   "cell_type": "markdown",
   "id": "f03e9ad8-eedb-4067-9a3e-2d627edae5a9",
   "metadata": {},
   "source": [
    "### TUPLE"
   ]
  },
  {
   "cell_type": "code",
   "execution_count": 1,
   "id": "c16cbf9f-530e-4fbc-b0b2-caa8c3111235",
   "metadata": {},
   "outputs": [
    {
     "name": "stdout",
     "output_type": "stream",
     "text": [
      "(1, 2, 3, 4, 5) <class 'tuple'>\n"
     ]
    }
   ],
   "source": [
    "# Tuples are immutable in nature , i.e they are not change able.\n",
    "# Tuples are represented using \"()\" brackets\n",
    "t=(1,2,3,4,5)\n",
    "print(t,type(t))"
   ]
  },
  {
   "cell_type": "code",
   "execution_count": 2,
   "id": "15e536bc-de62-4d36-a44a-2f8440aef4f2",
   "metadata": {},
   "outputs": [
    {
     "ename": "TypeError",
     "evalue": "'tuple' object does not support item assignment",
     "output_type": "error",
     "traceback": [
      "\u001b[1;31m---------------------------------------------------------------------------\u001b[0m",
      "\u001b[1;31mTypeError\u001b[0m                                 Traceback (most recent call last)",
      "Cell \u001b[1;32mIn[2], line 1\u001b[0m\n\u001b[1;32m----> 1\u001b[0m \u001b[43mt\u001b[49m\u001b[43m[\u001b[49m\u001b[38;5;241;43m0\u001b[39;49m\u001b[43m]\u001b[49m\u001b[38;5;241m=\u001b[39m\u001b[38;5;241m2\u001b[39m\n",
      "\u001b[1;31mTypeError\u001b[0m: 'tuple' object does not support item assignment"
     ]
    }
   ],
   "source": [
    "t[0]=2"
   ]
  },
  {
   "cell_type": "code",
   "execution_count": 3,
   "id": "961e106b-01e9-4e8c-8d07-5c2291a0db47",
   "metadata": {},
   "outputs": [
    {
     "data": {
      "text/plain": [
       "'Here we can see that tuples are not changable,i.e they are immutable.'"
      ]
     },
     "execution_count": 3,
     "metadata": {},
     "output_type": "execute_result"
    }
   ],
   "source": [
    "'''Here we can see that tuples are not changable,i.e they are immutable.'''"
   ]
  },
  {
   "cell_type": "markdown",
   "id": "ec7af31b-6c38-4faa-9a77-af37ba97e5c6",
   "metadata": {},
   "source": [
    "#### Operations on Tuples"
   ]
  },
  {
   "cell_type": "code",
   "execution_count": 4,
   "id": "d883fe96-2a1f-467a-89bc-c7fcafce8f13",
   "metadata": {},
   "outputs": [
    {
     "name": "stdout",
     "output_type": "stream",
     "text": [
      "[1, 2, 3, 4, 5]\n",
      "[1, 2, 3, 4, 5, 6]\n",
      "(1, 2, 3, 4, 5, 6)\n"
     ]
    }
   ],
   "source": [
    "# we can not make changes directly on tuple so we change the tuple in list , then make changes and finally convert the list into Tuple\n",
    "t=(1,2,3,4,5)\n",
    "l=list(t)\n",
    "print(l)\n",
    "l.append(6)\n",
    "print(l)\n",
    "t=tuple(l)\n",
    "print(t)"
   ]
  },
  {
   "cell_type": "code",
   "execution_count": 5,
   "id": "d97202c4-234b-4dfa-a9bf-ef0dae673d01",
   "metadata": {},
   "outputs": [
    {
     "name": "stdout",
     "output_type": "stream",
     "text": [
      "(1, 2, 3, 4, 5, 6)\n"
     ]
    }
   ],
   "source": [
    "# Concatenation of tuples can be done without converting into list\n",
    "l1=(1,2,3)\n",
    "l2=(4,5,6)\n",
    "l1=l1+l2\n",
    "print(l1)"
   ]
  },
  {
   "cell_type": "markdown",
   "id": "c0e2eb56-2097-4310-ad29-ea0663df2c02",
   "metadata": {},
   "source": [
    "### Fstrings"
   ]
  },
  {
   "cell_type": "code",
   "execution_count": 6,
   "id": "850212b9-65b5-47ae-b18b-9f45d5850ad1",
   "metadata": {},
   "outputs": [
    {
     "name": "stdout",
     "output_type": "stream",
     "text": [
      "I am Moinuddin and my fullname is Mohammad Moeenuddin\n"
     ]
    }
   ],
   "source": [
    "# Lets see STRING FORMATING \n",
    "str=\"I am {} and my fullname is {}\"\n",
    "name=\"Moinuddin\"\n",
    "fname=\"Mohammad Moeenuddin\"\n",
    "print(str.format(name,fname))"
   ]
  },
  {
   "cell_type": "code",
   "execution_count": 7,
   "id": "b2ac7ab1-8eb8-4706-bbc0-5417aa1e71d2",
   "metadata": {},
   "outputs": [
    {
     "name": "stdout",
     "output_type": "stream",
     "text": [
      "I am Mohammad Moeenuddin and my fullname is Moinuddin\n"
     ]
    }
   ],
   "source": [
    "print(str.format(fname,name))"
   ]
  },
  {
   "cell_type": "code",
   "execution_count": 8,
   "id": "7535c838-7552-43bb-870d-c8daff29b385",
   "metadata": {},
   "outputs": [
    {
     "name": "stdout",
     "output_type": "stream",
     "text": [
      "I am Moinuddin and my fullname is Mohammad Moeenuddin\n"
     ]
    }
   ],
   "source": [
    "str=\"I am {1} and my fullname is {0}\"\n",
    "name=\"Moinuddin\"\n",
    "fname=\"Mohammad Moeenuddin\"\n",
    "print(str.format(fname,name))"
   ]
  },
  {
   "cell_type": "code",
   "execution_count": 4,
   "id": "3b30e3cd-86e5-4358-a11a-dc216d360243",
   "metadata": {},
   "outputs": [
    {
     "name": "stdout",
     "output_type": "stream",
     "text": [
      "I am Moinuddin and my fullname is Mohammad Moeenuddin\n",
      "I am {name} and my fullname is {fname}\n"
     ]
    }
   ],
   "source": [
    "'''Now using the Fstrings we can format the strings'''\n",
    "name=\"Moinuddin\"\n",
    "fname=\"Mohammad Moeenuddin\"\n",
    "str=f\"I am {name} and my fullname is {fname}\"\n",
    "str1=f\"I am {{name}} and my fullname is {{fname}}\"\n",
    "# here the above is to demonstrate how we use fstrings\n",
    "print(str)\n",
    "print(str1)"
   ]
  },
  {
   "cell_type": "code",
   "execution_count": 2,
   "id": "194cdde0-79cf-46eb-914a-6b075a285dc8",
   "metadata": {},
   "outputs": [
    {
     "name": "stdout",
     "output_type": "stream",
     "text": [
      "The value of 2/3 is :0.67\n"
     ]
    }
   ],
   "source": [
    "rem=2/3\n",
    "print(f\"The value of 2/3 is :{rem:.2f}\")"
   ]
  },
  {
   "cell_type": "markdown",
   "id": "412dd9ff-16f4-4ee8-b2e4-5ef54786c67f",
   "metadata": {},
   "source": [
    "#### Docstring"
   ]
  },
  {
   "cell_type": "code",
   "execution_count": 8,
   "id": "1c5efe7a-468a-4d09-a51b-5e283ddb5296",
   "metadata": {},
   "outputs": [
    {
     "name": "stdout",
     "output_type": "stream",
     "text": [
      "49\n",
      "This is a docstring , it tells us about add function , that it is used add two numbers.\n"
     ]
    }
   ],
   "source": [
    "# Docstring are used to define the function , nd is written just after function name in function declaration.\n",
    "# and can be printed using \" FunctionName.__doc__ \" . Lets see an example:\n",
    "def add(a,b):\n",
    "    '''This is a docstring , it tells us about add function , that it is used add two numbers.'''\n",
    "    print(a+b)\n",
    "add(10,39)\n",
    "print(add.__doc__)\n",
    "# Docstrings are not ignored by the python interpreter."
   ]
  },
  {
   "cell_type": "code",
   "execution_count": 13,
   "id": "d625ab90-bc70-457b-b1ad-abee02e3c925",
   "metadata": {},
   "outputs": [],
   "source": [
    "# PEP 8 -- Python enhancement proposal"
   ]
  },
  {
   "cell_type": "code",
   "execution_count": 1,
   "id": "719324e4-6050-4967-9474-ee638ec5653e",
   "metadata": {},
   "outputs": [
    {
     "name": "stdout",
     "output_type": "stream",
     "text": [
      "The Zen of Python, by Tim Peters\n",
      "\n",
      "Beautiful is better than ugly.\n",
      "Explicit is better than implicit.\n",
      "Simple is better than complex.\n",
      "Complex is better than complicated.\n",
      "Flat is better than nested.\n",
      "Sparse is better than dense.\n",
      "Readability counts.\n",
      "Special cases aren't special enough to break the rules.\n",
      "Although practicality beats purity.\n",
      "Errors should never pass silently.\n",
      "Unless explicitly silenced.\n",
      "In the face of ambiguity, refuse the temptation to guess.\n",
      "There should be one-- and preferably only one --obvious way to do it.\n",
      "Although that way may not be obvious at first unless you're Dutch.\n",
      "Now is better than never.\n",
      "Although never is often better than *right* now.\n",
      "If the implementation is hard to explain, it's a bad idea.\n",
      "If the implementation is easy to explain, it may be a good idea.\n",
      "Namespaces are one honking great idea -- let's do more of those!\n"
     ]
    }
   ],
   "source": [
    "import this"
   ]
  },
  {
   "cell_type": "code",
   "execution_count": null,
   "id": "d950fb3d-0527-448d-b115-75e10f883460",
   "metadata": {},
   "outputs": [],
   "source": []
  }
 ],
 "metadata": {
  "kernelspec": {
   "display_name": "Python 3 (ipykernel)",
   "language": "python",
   "name": "python3"
  },
  "language_info": {
   "codemirror_mode": {
    "name": "ipython",
    "version": 3
   },
   "file_extension": ".py",
   "mimetype": "text/x-python",
   "name": "python",
   "nbconvert_exporter": "python",
   "pygments_lexer": "ipython3",
   "version": "3.12.0"
  }
 },
 "nbformat": 4,
 "nbformat_minor": 5
}
