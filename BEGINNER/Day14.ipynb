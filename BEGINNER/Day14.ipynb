{
 "cells": [
  {
   "cell_type": "code",
   "execution_count": 1,
   "id": "50a4e817-df73-40f8-9220-789b625677e4",
   "metadata": {},
   "outputs": [
    {
     "name": "stderr",
     "output_type": "stream",
     "text": [
      "usage: ipykernel_launcher.py [-h] [-o OUTPUT] url\n",
      "ipykernel_launcher.py: error: unrecognized arguments: -f\n"
     ]
    },
    {
     "ename": "SystemExit",
     "evalue": "2",
     "output_type": "error",
     "traceback": [
      "An exception has occurred, use %tb to see the full traceback.\n",
      "\u001b[1;31mSystemExit\u001b[0m\u001b[1;31m:\u001b[0m 2\n"
     ]
    },
    {
     "name": "stderr",
     "output_type": "stream",
     "text": [
      "C:\\Users\\DELL\\AppData\\Roaming\\Python\\Python312\\site-packages\\IPython\\core\\interactiveshell.py:3558: UserWarning: To exit: use 'exit', 'quit', or Ctrl-D.\n",
      "  warn(\"To exit: use 'exit', 'quit', or Ctrl-D.\", stacklevel=1)\n"
     ]
    }
   ],
   "source": [
    "import argparse\n",
    "import requests\n",
    "def download_file(url,local_filename):\n",
    "    if local_filename is None:\n",
    "        local_filename=url.split(\"/\")[-1]\n",
    "    with requests.get(url,stream=True ) as r:\n",
    "        r.raise_for_status()\n",
    "        with open(local_filename,'wb') as f:\n",
    "            for chunk in r.iter_content(chunk_size=8192):\n",
    "                f.write(chunk)\n",
    "    return local_filename\n",
    "parser=argparse.ArgumentParser()\n",
    "\n",
    "parser.add_argument(\"url\",help=\"url of the file to download\")\n",
    "\n",
    "parser.add_argument(\"-o\",\"--output\",help=\"Name of the file\",default=None)\n",
    "args=parser.parse_args()\n",
    "\n",
    "print(args.url)\n",
    "print(args.output, type(args.output))\n",
    "download_file(args.url,args.output)"
   ]
  },
  {
   "cell_type": "markdown",
   "id": "3783880b-38c4-4fe0-a1e5-eeeb0a9004b6",
   "metadata": {},
   "source": [
    "### Walrus Operator -from py3.8"
   ]
  },
  {
   "cell_type": "code",
   "execution_count": 1,
   "id": "604f5687-ff97-4316-a88e-4176b5f8e892",
   "metadata": {},
   "outputs": [
    {
     "ename": "TypeError",
     "evalue": "'a' is an invalid keyword argument for print()",
     "output_type": "error",
     "traceback": [
      "\u001b[1;31m---------------------------------------------------------------------------\u001b[0m",
      "\u001b[1;31mTypeError\u001b[0m                                 Traceback (most recent call last)",
      "Cell \u001b[1;32mIn[1], line 3\u001b[0m\n\u001b[0;32m      1\u001b[0m \u001b[38;5;66;03m# without walrus operator\u001b[39;00m\n\u001b[0;32m      2\u001b[0m a\u001b[38;5;241m=\u001b[39m\u001b[38;5;28;01mTrue\u001b[39;00m\n\u001b[1;32m----> 3\u001b[0m \u001b[38;5;28;43mprint\u001b[39;49m\u001b[43m(\u001b[49m\u001b[43ma\u001b[49m\u001b[38;5;241;43m=\u001b[39;49m\u001b[38;5;28;43;01mFalse\u001b[39;49;00m\u001b[43m)\u001b[49m\n",
      "\u001b[1;31mTypeError\u001b[0m: 'a' is an invalid keyword argument for print()"
     ]
    }
   ],
   "source": [
    "# without walrus operator\n",
    "a=True\n",
    "print(a=False)"
   ]
  },
  {
   "cell_type": "code",
   "execution_count": 2,
   "id": "54fa9d92-da74-4cc0-b0b3-e03f5ee468c8",
   "metadata": {},
   "outputs": [
    {
     "name": "stdout",
     "output_type": "stream",
     "text": [
      "False\n"
     ]
    }
   ],
   "source": [
    "# with walrus operator\n",
    "a=True\n",
    "print(a:=False)"
   ]
  },
  {
   "cell_type": "code",
   "execution_count": 3,
   "id": "879ea92b-bb2d-48b6-993a-4e224578b16a",
   "metadata": {},
   "outputs": [
    {
     "data": {
      "text/plain": [
       "'Here := is used to assign a value in a statement'"
      ]
     },
     "execution_count": 3,
     "metadata": {},
     "output_type": "execute_result"
    }
   ],
   "source": [
    "'''Here := is used to assign a value in a statement'''"
   ]
  },
  {
   "cell_type": "code",
   "execution_count": 4,
   "id": "ae603ecc-6f4d-4a3c-b47d-c8cc1bb93fd5",
   "metadata": {},
   "outputs": [
    {
     "name": "stdout",
     "output_type": "stream",
     "text": [
      "9\n",
      "8\n",
      "7\n",
      "6\n",
      "5\n",
      "4\n",
      "3\n",
      "2\n",
      "1\n"
     ]
    }
   ],
   "source": [
    "m=[1,2,3,4,5,6,7,8,9]\n",
    "while(n:=len(m))>0:\n",
    "    print(m.pop())"
   ]
  },
  {
   "cell_type": "markdown",
   "id": "434cfa39-b55c-4944-9f7b-454bd70f2674",
   "metadata": {},
   "source": [
    "### shutil"
   ]
  },
  {
   "cell_type": "code",
   "execution_count": 7,
   "id": "f8658a97-aad3-4ea6-a8c8-6960a84f7d95",
   "metadata": {},
   "outputs": [
    {
     "data": {
      "text/plain": [
       "'Day14copy.ipynb'"
      ]
     },
     "execution_count": 7,
     "metadata": {},
     "output_type": "execute_result"
    }
   ],
   "source": [
    "import shutil\n",
    "shutil.copy(\"Day14.ipynb\",\"Day14copy.ipynb\")"
   ]
  },
  {
   "cell_type": "code",
   "execution_count": 8,
   "id": "be310e3f-db1f-4547-82f7-434c19ece296",
   "metadata": {},
   "outputs": [
    {
     "data": {
      "text/plain": [
       "'Here the shutil.copy creats copy of a file '"
      ]
     },
     "execution_count": 8,
     "metadata": {},
     "output_type": "execute_result"
    }
   ],
   "source": [
    "'''Here the shutil.copy creats copy of a file '''"
   ]
  },
  {
   "cell_type": "code",
   "execution_count": 9,
   "id": "9a9457ec-3b03-43ff-b71d-1ae4344fe7a5",
   "metadata": {},
   "outputs": [
    {
     "data": {
      "text/plain": [
       "'Here the shutil.copytree() creats copy of a directory '"
      ]
     },
     "execution_count": 9,
     "metadata": {},
     "output_type": "execute_result"
    }
   ],
   "source": [
    "'''Here the shutil.copytree() creats copy of a directory '''"
   ]
  },
  {
   "cell_type": "code",
   "execution_count": 12,
   "id": "ea174ba7-0ed2-4b50-867b-b110c214937c",
   "metadata": {},
   "outputs": [
    {
     "name": "stdout",
     "output_type": "stream",
     "text": [
      "Help on function rmtree in module shutil:\n",
      "\n",
      "rmtree(path, ignore_errors=False, onerror=None, *, onexc=None, dir_fd=None)\n",
      "    Recursively delete a directory tree.\n",
      "\n",
      "    If dir_fd is not None, it should be a file descriptor open to a directory;\n",
      "    path will then be relative to that directory.\n",
      "    dir_fd may not be implemented on your platform.\n",
      "    If it is unavailable, using it will raise a NotImplementedError.\n",
      "\n",
      "    If ignore_errors is set, errors are ignored; otherwise, if onexc or\n",
      "    onerror is set, it is called to handle the error with arguments (func,\n",
      "    path, exc_info) where func is platform and implementation dependent;\n",
      "    path is the argument to that function that caused it to fail; and\n",
      "    the value of exc_info describes the exception. For onexc it is the\n",
      "    exception instance, and for onerror it is a tuple as returned by\n",
      "    sys.exc_info().  If ignore_errors is false and both onexc and\n",
      "    onerror are None, the exception is reraised.\n",
      "\n",
      "    onerror is deprecated and only remains for backwards compatibility.\n",
      "    If both onerror and onexc are set, onerror is ignored and onexc is used.\n",
      "\n",
      "None\n"
     ]
    }
   ],
   "source": [
    "print(help(shutil.rmtree))"
   ]
  },
  {
   "cell_type": "code",
   "execution_count": 13,
   "id": "fef3c739-897b-4b5e-9166-6ff0decd2d71",
   "metadata": {},
   "outputs": [
    {
     "data": {
      "text/plain": [
       "'Here the shutil.rmtree recursively delete a directory tree '"
      ]
     },
     "execution_count": 13,
     "metadata": {},
     "output_type": "execute_result"
    }
   ],
   "source": [
    "'''Here the shutil.rmtree recursively delete a directory tree '''"
   ]
  },
  {
   "cell_type": "code",
   "execution_count": 14,
   "id": "09bc03a9-5e8a-4004-b639-400bd881c1d3",
   "metadata": {},
   "outputs": [
    {
     "data": {
      "text/plain": [
       "'Here the shutil.move moves a file to another location '"
      ]
     },
     "execution_count": 14,
     "metadata": {},
     "output_type": "execute_result"
    }
   ],
   "source": [
    "'''Here the shutil.move moves a file to another location '''"
   ]
  },
  {
   "cell_type": "markdown",
   "id": "4b053872-54e3-4608-888f-e67d2fcf2fcd",
   "metadata": {},
   "source": [
    "### Request Module"
   ]
  },
  {
   "cell_type": "code",
   "execution_count": 15,
   "id": "c40cd5ce-e54a-4fbf-b722-b74306745e0d",
   "metadata": {},
   "outputs": [
    {
     "name": "stdout",
     "output_type": "stream",
     "text": [
      "<Response [200]>\n"
     ]
    }
   ],
   "source": [
    "import requests\n",
    "response = requests.get(\"http://localhost:8888/lab/tree/Day14.ipynb\")\n",
    "print(response)"
   ]
  },
  {
   "cell_type": "code",
   "execution_count": 17,
   "id": "aa1e1860-5698-4902-bd20-e032bcdcdc58",
   "metadata": {},
   "outputs": [
    {
     "name": "stdout",
     "output_type": "stream",
     "text": [
      "<!DOCTYPE HTML>\n",
      "<html>\n",
      "\n",
      "<head>\n",
      "\n",
      "    <meta charset=\"utf-8\">\n",
      "\n",
      "    <title>Jupyter Server</title>\n",
      "    <link id=\"favicon\" rel=\"shortcut icon\" type=\"image/x-icon\" href=\"/static/favicon.ico?v=50afa725b5de8b00030139d09b38620224d4e7dba47c07ef0e86d4643f30c9bfe6bb7e1a4a1c561aa32834480909a4b6fe7cd1e17f7159330b6b5914bf45a880\">\n",
      "    \n",
      "    <link rel=\"stylesheet\" href=\"/static/style/bootstrap.min.css?v=0e8a7fbd6de23ad6b27ab95802a0a0915af6693af612bc304d83af445529ce5d95842309ca3405d10f538d45c8a3a261b8cff78b4bd512dd9effb4109a71d0ab\" />\n",
      "    <link rel=\"stylesheet\" href=\"/static/style/bootstrap-theme.min.css?v=8b2f045cb5b4d5ad346f6e816aa2566829a4f5f2783ec31d80d46a57de8ac0c3d21fe6e53bcd8e1f38ac17fcd06d12088bc9b43e23b5d1da52d10c6b717b22b3\" />\n",
      "    <link rel=\"stylesheet\" href=\"/static/style/index.css?v=30372e3246a801d662cf9e3f9dd656fa192eebde9054a2282449fe43919de9f0ee9b745d7eb49d3b0a5e56357912cc7d776390eddcab9dac85b77bdb17b4bdae\" />\n",
      "    <meta http-equiv=\"X-UA-Compatible\" content=\"IE=edge\" />\n",
      "    <meta name=\"viewport\" content=\"width=device-width, initial-scale=1.0\">\n",
      "\n",
      "    \n",
      "\n",
      "\n",
      "    \n",
      "    \n",
      "\n",
      "</head>\n",
      "\n",
      "<body class=\"\"    dir=\"ltr\">\n",
      "\n",
      "  <noscript>\n",
      "    <div id='noscript'>\n",
      "      Jupyter Server requires JavaScript.<br>\n",
      "      Please enable it to proceed. \n",
      "    </div>\n",
      "  </noscript>\n",
      "\n",
      "  <div id=\"header\" role=\"navigation\" aria-label=\"Top Menu\">\n",
      "    <div id=\"header-container\" class=\"container\">\n",
      "      <div id=\"jupyter_server\" class=\"nav navbar-brand\"><a href=\"/lab\" title='dashboard'>\n",
      "          <img src='/static/logo/logo.png?v=a2a176ee3cee251ffddf5fa21fe8e43727a9e5f87a06f9c91ad7b776d9e9d3d5e0159c16cc188a3965e00375fb4bc336c16067c688f5040c0c2d4bfdb852a9e4' alt='Jupyter Server' />\n",
      "        </a></div>\n",
      "\n",
      "      \n",
      "      \n",
      "\n",
      "      \n",
      "      \n",
      "\n",
      "    </div>\n",
      "    <div class=\"header-bar\"></div>\n",
      "\n",
      "    \n",
      "    \n",
      "  </div>\n",
      "\n",
      "  <div id=\"site\">\n",
      "    \n",
      "\n",
      "<div id=\"jupyter-main-app\" class=\"container\">\n",
      "    \n",
      "    \n",
      "    <div class=\"row\">\n",
      "        <div class=\"navbar col-sm-8\">\n",
      "            <div class=\"navbar-inner\">\n",
      "                <div class=\"container\">\n",
      "                    <div class=\"center-nav\">\n",
      "                        <form action=\"/login?next=%2Flab%2Ftree%2FDay14.ipynb\" method=\"post\" class=\"navbar-form pull-left\">\n",
      "                            <input type=\"hidden\" name=\"_xsrf\" value=\"2|e00f7aa2|8b901aa9e642c00b99e3e4f2c696c446|1718203673\"/>\n",
      "                            \n",
      "                            <label for=\"password_input\"><strong>Password or token:</strong></label>\n",
      "                            \n",
      "                            <input type=\"password\" name=\"password\" id=\"password_input\" class=\"form-control\">\n",
      "                            <button type=\"submit\" class=\"btn btn-default\" id=\"login_submit\">Log in</button>\n",
      "                        </form>\n",
      "                    </div>\n",
      "                </div>\n",
      "            </div>\n",
      "        </div>\n",
      "    </div>\n",
      "    \n",
      "    \n",
      "    \n",
      "    \n",
      "    <div class=\"col-sm-6 col-sm-offset-3 text-left rendered_html\">\n",
      "        <h3>\n",
      "            Token authentication is enabled\n",
      "        </h3>\n",
      "        <p>\n",
      "            If no password has been configured, you need to open the\n",
      "            server with its login token in the URL, or paste it above.\n",
      "            This requirement will be lifted if you\n",
      "            <b><a href='https://jupyter-server.readthedocs.io/en/latest/operators/public-server.html'>\n",
      "                    enable a password</a></b>.\n",
      "        </p>\n",
      "        <p>\n",
      "            The command:\n",
      "        <pre>jupyter server list</pre>\n",
      "        will show you the URLs of running servers with their tokens,\n",
      "        which you can copy and paste into your browser. For example:\n",
      "        </p>\n",
      "        <pre>Currently running servers:\n",
      "http://localhost:8888/?token=c8de56fa... :: /Users/you/notebooks\n",
      "</pre>\n",
      "        <p>\n",
      "            or you can paste just the token value into the password field on this\n",
      "            page.\n",
      "        </p>\n",
      "        <p>\n",
      "            See\n",
      "            <b><a href='https://jupyter-server.readthedocs.io/en/latest/operators/public-server.html'>\n",
      "                    the documentation on how to enable a password</a>\n",
      "            </b>\n",
      "            in place of token authentication,\n",
      "            if you would like to avoid dealing with random tokens.\n",
      "        </p>\n",
      "        <p>\n",
      "            Cookies are required for authenticated access to the Jupyter server.\n",
      "        </p>\n",
      "        \n",
      "        <h3>Setup a Password</h3>\n",
      "        <p> You can also setup a password by entering your token and a new password\n",
      "            on the fields below:</p>\n",
      "        <form action=\"/login?next=%2Flab%2Ftree%2FDay14.ipynb\" method=\"post\" class=\"\">\n",
      "            <input type=\"hidden\" name=\"_xsrf\" value=\"2|e00f7aa2|8b901aa9e642c00b99e3e4f2c696c446|1718203673\"/>\n",
      "            <div class=\"form-group\">\n",
      "                <label for=\"token_input\">\n",
      "                    <h4>Token</h4>\n",
      "                </label>\n",
      "                <input type=\"password\" name=\"password\" id=\"token_input\" class=\"form-control\">\n",
      "            </div>\n",
      "            <div class=\"form-group\">\n",
      "                <label for=\"new_password_input\">\n",
      "                    <h4>New Password</h4>\n",
      "                </label>\n",
      "                <input type=\"password\" name=\"new_password\" id=\"new_password_input\" class=\"form-control\" required>\n",
      "            </div>\n",
      "            <div class=\"form-group\">\n",
      "                <button type=\"submit\" class=\"btn btn-default\" id=\"login_new_pass_submit\">Log in and set new\n",
      "                    password</button>\n",
      "            </div>\n",
      "        </form>\n",
      "        \n",
      "\n",
      "    </div>\n",
      "    \n",
      "    \n",
      "</div>\n",
      "\n",
      "\n",
      "  </div>\n",
      "\n",
      "  \n",
      "  \n",
      "\n",
      "  \n",
      "\n",
      "\n",
      "  <script type='text/javascript'>\n",
      "    function _remove_token_from_url() {\n",
      "      if (window.location.search.length <= 1) {\n",
      "        return;\n",
      "      }\n",
      "      var search_parameters = window.location.search.slice(1).split('&');\n",
      "      for (var i = 0; i < search_parameters.length; i++) {\n",
      "        if (search_parameters[i].split('=')[0] === 'token') {\n",
      "          // remote token from search parameters\n",
      "          search_parameters.splice(i, 1);\n",
      "          var new_search = '';\n",
      "          if (search_parameters.length) {\n",
      "            new_search = '?' + search_parameters.join('&');\n",
      "          }\n",
      "          var new_url = window.location.origin +\n",
      "            window.location.pathname +\n",
      "            new_search +\n",
      "            window.location.hash;\n",
      "          window.history.replaceState({}, \"\", new_url);\n",
      "          return;\n",
      "        }\n",
      "      }\n",
      "    }\n",
      "    _remove_token_from_url();\n",
      "  </script>\n",
      "</body>\n",
      "\n",
      "</html>\n"
     ]
    }
   ],
   "source": [
    "print(response.text)"
   ]
  },
  {
   "cell_type": "markdown",
   "id": "e9ffa05d-7c6c-43f7-8bf0-9dd359c830f2",
   "metadata": {},
   "source": [
    "### Generator"
   ]
  },
  {
   "cell_type": "code",
   "execution_count": 20,
   "id": "7190147b-7eec-4825-986f-0b1f8724f036",
   "metadata": {},
   "outputs": [
    {
     "data": {
      "text/plain": [
       "'The generator dynamically generates the results , returns the yield , where yield is capable of giving the result instead of wasting the memory by storing the result '"
      ]
     },
     "execution_count": 20,
     "metadata": {},
     "output_type": "execute_result"
    }
   ],
   "source": [
    "'''The generator dynamically generates the results , returns the yield , where yield is capable of giving the result instead of wasting the memory by storing the result '''"
   ]
  },
  {
   "cell_type": "code",
   "execution_count": 23,
   "id": "bb1b8b8c-e059-4023-bbc8-7f7e9f53d240",
   "metadata": {},
   "outputs": [
    {
     "name": "stdout",
     "output_type": "stream",
     "text": [
      "1\n",
      "2\n",
      "3\n",
      "4\n",
      "5\n",
      "6\n"
     ]
    }
   ],
   "source": [
    "def myGen():\n",
    "    for i in range(1,11):\n",
    "        yield i\n",
    "g= myGen()\n",
    "print(next(g))\n",
    "print(next(g))\n",
    "print(next(g))\n",
    "print(next(g))\n",
    "print(next(g))\n",
    "print(next(g))"
   ]
  },
  {
   "cell_type": "code",
   "execution_count": 24,
   "id": "88282ca7-04d3-4fab-93b7-62fc7a6408ce",
   "metadata": {},
   "outputs": [
    {
     "name": "stdout",
     "output_type": "stream",
     "text": [
      "7\n",
      "8\n",
      "9\n",
      "10\n"
     ]
    }
   ],
   "source": [
    "for i in g:\n",
    "    print(i)"
   ]
  },
  {
   "cell_type": "code",
   "execution_count": 25,
   "id": "cea9434f-caee-42ed-aba0-5e6722674976",
   "metadata": {},
   "outputs": [
    {
     "data": {
      "text/plain": [
       "'here as we can see that after yielding the values , it is clearing its memory space '"
      ]
     },
     "execution_count": 25,
     "metadata": {},
     "output_type": "execute_result"
    }
   ],
   "source": [
    "'''here as we can see that after yielding the values , it is clearing its memory space '''"
   ]
  },
  {
   "cell_type": "markdown",
   "id": "ee46956c-a8fe-4ff9-a006-33a86a8ad3cc",
   "metadata": {},
   "source": [
    "### Function Caching"
   ]
  },
  {
   "cell_type": "code",
   "execution_count": 32,
   "id": "5c0e886f-4d72-4ec8-967d-31c8b19839ad",
   "metadata": {},
   "outputs": [
    {
     "name": "stdout",
     "output_type": "stream",
     "text": [
      "70492524767089125814114\n",
      "computing again\n",
      "70492524767089125814114\n"
     ]
    }
   ],
   "source": [
    "import functools\n",
    "@functools.lru_cache(maxsize=None)\n",
    "def fib(n):\n",
    "    if n<2:\n",
    "        return n\n",
    "    return fib(n-1)+fib(n-2)\n",
    "print(fib(111))\n",
    "\n",
    "print(\"computing again\")\n",
    "print(fib(111))\n"
   ]
  },
  {
   "cell_type": "code",
   "execution_count": 37,
   "id": "1023cd32-754e-44d0-8739-15f32895737a",
   "metadata": {},
   "outputs": [
    {
     "name": "stdout",
     "output_type": "stream",
     "text": [
      "230\n",
      "found 23\n",
      "30\n",
      "found 3\n",
      "2310\n",
      "found 231\n",
      "2930\n",
      "found 293\n"
     ]
    }
   ],
   "source": [
    "import functools\n",
    "import time\n",
    "@functools.lru_cache(maxsize=None)\n",
    "def func(n):\n",
    "    time.sleep(5)\n",
    "    print(n*10)\n",
    "    print(f\"found {n}\")\n",
    "func(23)\n",
    "func(3)\n",
    "func(231)\n",
    "func(293)\n",
    "# print(\"Computing again\")\n",
    "func(23)\n",
    "func(3)\n",
    "func(231)\n",
    "func(293)"
   ]
  },
  {
   "cell_type": "markdown",
   "id": "71ae3273-3016-427a-8a43-94c078867430",
   "metadata": {},
   "source": [
    "### Regular Expressions"
   ]
  },
  {
   "cell_type": "code",
   "execution_count": 46,
   "id": "ba76b31c-5f00-4fcd-83a9-20964c0f8f8c",
   "metadata": {},
   "outputs": [
    {
     "name": "stdout",
     "output_type": "stream",
     "text": [
      "<re.Match object; span=(29, 31), match='RE'>\n"
     ]
    }
   ],
   "source": [
    "import re\n",
    "pattern=r\"[A-Z]E\"\n",
    "# here the r\"--raw string\n",
    "# [A-Z] --capital letters from A-Z\n",
    "# finally r\"[A-Z]E\" --raw data with any capital first letter and E as 2nd letter\n",
    "''' reference : https://regexr.com/ '''\n",
    "\n",
    "text=''' Regular expressions (called REs, or regexes, or regex patterns) are essentially a tiny, \n",
    "highly specialized programming language embedded inside Python and made available through the re module. \n",
    "Using this little language, you specify the rules for the set of possible strings that you want to match; \n",
    "this set might contain English sentences, or e-mail addresses, or TeX commands, or anything you like. \n",
    "You can then ask questions such as “Does this string match the pattern?”, or “Is there a match for the pattern anywhere in this string?”.\n",
    "You can also use REs to modify a string or to split it apart in various ways. '''\n",
    "match =re.search(pattern,text)\n",
    "print(match)"
   ]
  },
  {
   "cell_type": "code",
   "execution_count": 45,
   "id": "85c6aae2-bc1f-44c1-a334-90e102d321cb",
   "metadata": {},
   "outputs": [
    {
     "name": "stdout",
     "output_type": "stream",
     "text": [
      "<re.Match object; span=(29, 31), match='RE'>\n",
      "RE\n",
      "<class 'list'>\n",
      "[29, 31]\n",
      "<re.Match object; span=(561, 563), match='RE'>\n",
      "RE\n",
      "<class 'list'>\n",
      "[561, 563]\n"
     ]
    }
   ],
   "source": [
    "matches= re.finditer(pattern,text)\n",
    "for match in matches :\n",
    "    print(match)\n",
    "    print(text[match.span()[0] : match.span()[1]])\n",
    "    print(type([match.span()[0] , match.span()[1]]))\n",
    "    print(([match.span()[0] , match.span()[1]]))"
   ]
  },
  {
   "cell_type": "markdown",
   "id": "6c62e612-c0e9-4cf8-9274-3cf7e1df9098",
   "metadata": {},
   "source": [
    "### AsyncIO"
   ]
  },
  {
   "cell_type": "code",
   "execution_count": 47,
   "id": "658007b6-5cfb-49c0-816d-ccd3b8050e6c",
   "metadata": {},
   "outputs": [
    {
     "data": {
      "text/plain": [
       "' using asyncIO , the concept of cpu utilization takes place rather than idle '"
      ]
     },
     "execution_count": 47,
     "metadata": {},
     "output_type": "execute_result"
    }
   ],
   "source": [
    "''' using asyncIO , the concept of cpu utilization takes place rather than idle '''"
   ]
  },
  {
   "cell_type": "markdown",
   "id": "17185ae9-ba2a-432f-be9d-85b57f3db143",
   "metadata": {},
   "source": [
    "### Multi Threading"
   ]
  },
  {
   "cell_type": "code",
   "execution_count": 48,
   "id": "97343643-8544-426a-9cbb-5dbfeea8be5b",
   "metadata": {},
   "outputs": [],
   "source": [
    "import threading\n"
   ]
  },
  {
   "cell_type": "code",
   "execution_count": null,
   "id": "25b2f96b-1de7-42ad-8765-8669a9c8e5fa",
   "metadata": {},
   "outputs": [],
   "source": []
  }
 ],
 "metadata": {
  "kernelspec": {
   "display_name": "Python 3 (ipykernel)",
   "language": "python",
   "name": "python3"
  },
  "language_info": {
   "codemirror_mode": {
    "name": "ipython",
    "version": 3
   },
   "file_extension": ".py",
   "mimetype": "text/x-python",
   "name": "python",
   "nbconvert_exporter": "python",
   "pygments_lexer": "ipython3",
   "version": "3.12.0"
  }
 },
 "nbformat": 4,
 "nbformat_minor": 5
}
