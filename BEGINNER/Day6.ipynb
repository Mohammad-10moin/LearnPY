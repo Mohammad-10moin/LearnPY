{
 "cells": [
  {
   "cell_type": "markdown",
   "id": "b56e5735-4f9e-4144-92cc-7b5627a634ae",
   "metadata": {},
   "source": [
    "from datetime import date\n",
    "print(date.today())"
   ]
  },
  {
   "cell_type": "markdown",
   "id": "a147d942-6d4e-4190-a45d-41f1658ac151",
   "metadata": {},
   "source": [
    "### MatchCase Statements"
   ]
  },
  {
   "cell_type": "code",
   "execution_count": 3,
   "id": "deb28617-2759-422e-a8a2-ebae7982240d",
   "metadata": {},
   "outputs": [
    {
     "name": "stdin",
     "output_type": "stream",
     "text": [
      "enter a number 1\n"
     ]
    },
    {
     "name": "stdout",
     "output_type": "stream",
     "text": [
      "a is one\n"
     ]
    }
   ],
   "source": [
    "# Match case is added from python 3.10\n",
    "a=int(input(\"enter a number\"))\n",
    "match a:\n",
    "    case 0:\n",
    "        print(\"a is zero\")\n",
    "    case 1:\n",
    "        print(\"a is one\")\n",
    "    # default is return as case_\n",
    "    case _:\n",
    "        print(a)\n"
   ]
  },
  {
   "cell_type": "code",
   "execution_count": 4,
   "id": "4dc219d0-0ae0-4f28-a9ac-98608d040671",
   "metadata": {},
   "outputs": [
    {
     "data": {
      "text/plain": [
       "' as in other languages here there is no break statement required ,\\ninstead python does implements by its own'"
      ]
     },
     "execution_count": 4,
     "metadata": {},
     "output_type": "execute_result"
    }
   ],
   "source": [
    "''' as in other languages here there is no break statement required ,\n",
    "instead python does implements by its own'''"
   ]
  },
  {
   "cell_type": "code",
   "execution_count": 9,
   "id": "4e4746a2-a5c0-4e56-b60a-22bd7ab3f17f",
   "metadata": {},
   "outputs": [
    {
     "name": "stdin",
     "output_type": "stream",
     "text": [
      "enter a number 12\n"
     ]
    },
    {
     "name": "stdout",
     "output_type": "stream",
     "text": [
      "12  is positive\n"
     ]
    }
   ],
   "source": [
    "# we can also add if statements in default case inside the match case:\n",
    "# Lets deep dive --->\n",
    "a=int(input(\"enter a number\"))\n",
    "match a:\n",
    "    case 0:\n",
    "        print(\"a is zero\")\n",
    "    case 1:\n",
    "        print(\"a is one\")\n",
    "    # default is return as case_\n",
    "    case _ if(a<0):\n",
    "        print(a,\"is negative\")\n",
    "    case _ if(a>0):\n",
    "        print(a,\" is positive\")\n",
    "    case _:\n",
    "        print(a)"
   ]
  },
  {
   "cell_type": "markdown",
   "id": "76915638-59af-4393-97c1-1717519eaefa",
   "metadata": {},
   "source": [
    "### Loops"
   ]
  },
  {
   "cell_type": "code",
   "execution_count": 10,
   "id": "3dcf7f89-6e51-4e66-96d8-033c7f6e6323",
   "metadata": {},
   "outputs": [
    {
     "name": "stdout",
     "output_type": "stream",
     "text": [
      "M\n",
      "o\n",
      "i\n",
      "n\n",
      "u\n",
      "d\n",
      "d\n",
      "i\n",
      "n\n"
     ]
    }
   ],
   "source": [
    "# for Loops\n",
    "name=\"Moinuddin\"\n",
    "for i in name :\n",
    "    print(i)"
   ]
  },
  {
   "cell_type": "code",
   "execution_count": 12,
   "id": "c9bcd396-9500-452b-aae0-8e19c376643c",
   "metadata": {},
   "outputs": [
    {
     "name": "stdout",
     "output_type": "stream",
     "text": [
      "M|o|i|n|u|d|d|i|n|"
     ]
    }
   ],
   "source": [
    "name=\"Moinuddin\"\n",
    "for i in name :\n",
    "    print(i,end=\"|\")"
   ]
  },
  {
   "cell_type": "code",
   "execution_count": 13,
   "id": "c755a0e0-d317-4165-8b8b-a710fda264ea",
   "metadata": {},
   "outputs": [
    {
     "name": "stdout",
     "output_type": "stream",
     "text": [
      "0\n",
      "1\n",
      "2\n",
      "3\n",
      "4\n",
      "5\n",
      "6\n",
      "7\n",
      "8\n",
      "9\n"
     ]
    }
   ],
   "source": [
    "for i in range(10):\n",
    "    print(i)"
   ]
  },
  {
   "cell_type": "code",
   "execution_count": 17,
   "id": "c99b86c5-8518-45b0-80c3-fcc8681048ff",
   "metadata": {},
   "outputs": [],
   "source": [
    "# here as we can se the last digit isnt included."
   ]
  },
  {
   "cell_type": "code",
   "execution_count": 16,
   "id": "de97a9b4-a2b9-4e30-b528-6070e0424879",
   "metadata": {},
   "outputs": [
    {
     "name": "stdout",
     "output_type": "stream",
     "text": [
      "1\n",
      "2\n",
      "3\n",
      "4\n",
      "5\n",
      "6\n",
      "7\n",
      "8\n",
      "9\n",
      "10\n"
     ]
    }
   ],
   "source": [
    "for i in range(1,11):\n",
    "    print(i)"
   ]
  },
  {
   "cell_type": "code",
   "execution_count": 18,
   "id": "d1c74bdd-e2ac-4abe-ad6e-ac37f110fd89",
   "metadata": {},
   "outputs": [
    {
     "name": "stdout",
     "output_type": "stream",
     "text": [
      "1\n",
      "3\n",
      "5\n",
      "7\n",
      "9\n"
     ]
    }
   ],
   "source": [
    "for i in range(1,11,2):\n",
    "    print(i)"
   ]
  },
  {
   "cell_type": "code",
   "execution_count": 21,
   "id": "9f66725c-5e63-4a09-8088-845b364eb253",
   "metadata": {},
   "outputs": [
    {
     "name": "stdout",
     "output_type": "stream",
     "text": [
      "0\n",
      "2\n",
      "4\n",
      "6\n",
      "8\n",
      "10\n"
     ]
    }
   ],
   "source": [
    "for i in range(0,11,2):\n",
    "    print(i)"
   ]
  },
  {
   "cell_type": "markdown",
   "id": "a19a198c-8c52-4939-a501-00f43699e7ee",
   "metadata": {},
   "source": [
    "### While Loop"
   ]
  },
  {
   "cell_type": "code",
   "execution_count": 3,
   "id": "2ed06d0b-b924-4b76-96ba-323ad015b1fe",
   "metadata": {},
   "outputs": [
    {
     "name": "stdout",
     "output_type": "stream",
     "text": [
      "0\n",
      "1\n",
      "2\n",
      "3\n",
      "4\n",
      "5\n",
      "6\n",
      "7\n",
      "8\n",
      "9\n",
      "10\n"
     ]
    }
   ],
   "source": [
    "i=0\n",
    "while i<11:\n",
    "    print(i)\n",
    "    i=i+1\n",
    "    "
   ]
  },
  {
   "cell_type": "code",
   "execution_count": 6,
   "id": "66ce5e47-a04a-468a-b9a0-6406d0a02eb6",
   "metadata": {},
   "outputs": [
    {
     "name": "stdout",
     "output_type": "stream",
     "text": [
      "now i is in else loop\n"
     ]
    }
   ],
   "source": [
    "# Else statement with while Loop\n",
    "i=20\n",
    "while i<11:\n",
    "    print(i)\n",
    "    i=i+1\n",
    "else:\n",
    "    print(\"now i is in else loop\")\n",
    "# here if while loop doesnt get executed then the else block gets executed"
   ]
  },
  {
   "cell_type": "markdown",
   "id": "7648460a-ca9e-44a3-b7a2-c20776364a15",
   "metadata": {},
   "source": [
    "### Break and Continue"
   ]
  },
  {
   "cell_type": "code",
   "execution_count": 14,
   "id": "cddb9cec-dafb-4a2b-b062-83cfa545872d",
   "metadata": {},
   "outputs": [
    {
     "name": "stdout",
     "output_type": "stream",
     "text": [
      "0\n",
      "1\n",
      "2\n",
      "3\n",
      "4\n",
      "skip 5th iteration\n",
      "6\n",
      "7\n",
      "8\n",
      "9\n",
      "10\n",
      "10\n",
      "9\n",
      "8\n",
      "7\n",
      "6\n",
      "skip 5th iteration\n",
      "4\n",
      "3\n",
      "i= 2 breaking out of the loop\n"
     ]
    }
   ],
   "source": [
    "for i in range(11):\n",
    "    if(i==5):\n",
    "        print(\"skip 5th iteration\")\n",
    "        continue\n",
    "    print(i)\n",
    "i=10\n",
    "while(i>=0):\n",
    "    if(i==5):\n",
    "        print(\"skip 5th iteration\")\n",
    "        i=i-1\n",
    "        continue\n",
    "    if i==2:\n",
    "        print(\"i=\",i ,\"breaking out of the loop\")\n",
    "        break\n",
    "    print(i)\n",
    "    i=i-1"
   ]
  },
  {
   "cell_type": "markdown",
   "id": "0413d00c-87da-404d-a469-3db691a6600a",
   "metadata": {},
   "source": [
    "### Functions"
   ]
  },
  {
   "cell_type": "code",
   "execution_count": 16,
   "id": "66b0a13f-61c9-4748-821b-1a555e3dba31",
   "metadata": {},
   "outputs": [
    {
     "name": "stdout",
     "output_type": "stream",
     "text": [
      "100\n"
     ]
    }
   ],
   "source": [
    "def calADD(a,b):\n",
    "    print(a+b)\n",
    "i=10\n",
    "s=90\n",
    "calADD(i,s)"
   ]
  },
  {
   "cell_type": "code",
   "execution_count": 19,
   "id": "0ab877bf-f4ec-49ff-a088-b2127750aa1c",
   "metadata": {},
   "outputs": [],
   "source": [
    "# if we dont want to write the function body after the declaration then just simply write 'pass'\n",
    "def sub():\n",
    "    pass"
   ]
  },
  {
   "cell_type": "code",
   "execution_count": null,
   "id": "4c9fff24-b636-4374-9637-24013b2957ee",
   "metadata": {},
   "outputs": [],
   "source": []
  }
 ],
 "metadata": {
  "kernelspec": {
   "display_name": "Python 3 (ipykernel)",
   "language": "python",
   "name": "python3"
  },
  "language_info": {
   "codemirror_mode": {
    "name": "ipython",
    "version": 3
   },
   "file_extension": ".py",
   "mimetype": "text/x-python",
   "name": "python",
   "nbconvert_exporter": "python",
   "pygments_lexer": "ipython3",
   "version": "3.12.0"
  }
 },
 "nbformat": 4,
 "nbformat_minor": 5
}
