{
 "cells": [
  {
   "cell_type": "code",
   "execution_count": 1,
   "id": "e18d221e-a6b2-4247-b964-5223d0ecd74c",
   "metadata": {},
   "outputs": [
    {
     "name": "stdout",
     "output_type": "stream",
     "text": [
      "2024-06-16\n"
     ]
    }
   ],
   "source": [
    "from datetime import date\n",
    "print(date.today())"
   ]
  },
  {
   "cell_type": "code",
   "execution_count": 9,
   "id": "da25f85c-b2e8-48f2-9cf2-c33128b01f4c",
   "metadata": {},
   "outputs": [
    {
     "name": "stdout",
     "output_type": "stream",
     "text": [
      "16/06/2024 16-34-09\n",
      "16/06/2024 04-34-09\n"
     ]
    }
   ],
   "source": [
    "import time\n",
    "# help(time)\n",
    "print(time.strftime(\"%d/%m/%Y %H-%M-%S\",time.localtime()))\n",
    "print(time.strftime(\"%d/%m/%Y %I-%M-%S\",time.localtime()))"
   ]
  },
  {
   "cell_type": "code",
   "execution_count": 10,
   "id": "b44ac05c-abf2-4c3b-a04c-92e16c5986bb",
   "metadata": {},
   "outputs": [],
   "source": [
    "import numpy as np"
   ]
  },
  {
   "cell_type": "markdown",
   "id": "d6dee62a-117d-4920-a045-036a92ea7fdd",
   "metadata": {},
   "source": [
    "### Diff b/w Numpy Array and a list :\n",
    "NumPy gives you an enormous range of fast and efficient ways of creating arrays and manipulating numerical data inside them. While a Python list can contain different data types within a single list, all of the elements in a NumPy array should be homogeneous. The mathematical operations that are meant to be performed on arrays would be extremely inefficient if the arrays weren’t homogeneous."
   ]
  },
  {
   "cell_type": "code",
   "execution_count": 11,
   "id": "020ec3ff-da5d-4081-80b2-d2c387d23985",
   "metadata": {},
   "outputs": [
    {
     "name": "stdout",
     "output_type": "stream",
     "text": [
      "[1 2 3 4 5 6 7 8 9]\n"
     ]
    }
   ],
   "source": [
    "a=np.array([1,2,3,4,5,6,7,8,9])\n",
    "print(a)"
   ]
  },
  {
   "cell_type": "code",
   "execution_count": 22,
   "id": "3f2a4261-363e-413f-a4a8-15db419b7654",
   "metadata": {},
   "outputs": [
    {
     "name": "stdout",
     "output_type": "stream",
     "text": [
      "<class 'numpy.ndarray'>\n",
      "[[1 2 3]\n",
      " [4 5 6]\n",
      " [7 8 9]]\n",
      "The elements at 0 index are \n",
      "[1 2 3]\n"
     ]
    }
   ],
   "source": [
    "a=np.array([[1,2,3],[4,5,6],[7,8,9]])\n",
    "print(type(a))\n",
    "print(a)\n",
    "print(f\"The elements at 0 index are \")\n",
    "print(a[0])"
   ]
  },
  {
   "cell_type": "code",
   "execution_count": 23,
   "id": "e2237dee-b39b-412b-8833-5f4f7406255b",
   "metadata": {},
   "outputs": [
    {
     "name": "stdout",
     "output_type": "stream",
     "text": [
      "[0. 0. 0.]\n"
     ]
    }
   ],
   "source": [
    "print(np.zeros(3))"
   ]
  },
  {
   "cell_type": "code",
   "execution_count": 24,
   "id": "f35787c1-4759-456d-9fb9-51fa7415bab7",
   "metadata": {},
   "outputs": [
    {
     "name": "stdout",
     "output_type": "stream",
     "text": [
      "[1. 1.]\n"
     ]
    }
   ],
   "source": [
    "print(np.ones(2))"
   ]
  },
  {
   "cell_type": "code",
   "execution_count": 31,
   "id": "d7baefb1-0c04-423c-bc74-402d1d5e49d9",
   "metadata": {},
   "outputs": [
    {
     "name": "stdout",
     "output_type": "stream",
     "text": [
      "[1. 1.]\n",
      "[1.0862431e-311 1.0862431e-311 1.0862431e-311]\n",
      "[0.0000000e+000 1.0862431e-311 1.0862431e-311 1.0862431e-311]\n"
     ]
    }
   ],
   "source": [
    "# Create an empty array with 3 elements\n",
    "print(np.empty(2))\n",
    "print(np.empty(3))\n",
    "print(np.empty(4))\n",
    "# the elements inside the arrays may vary"
   ]
  },
  {
   "cell_type": "code",
   "execution_count": 34,
   "id": "3eb5eb28-7a2e-41bb-9685-5bd9419bf525",
   "metadata": {},
   "outputs": [
    {
     "name": "stdout",
     "output_type": "stream",
     "text": [
      "[0 1 2 3 4 5 6 7 8 9]\n"
     ]
    }
   ],
   "source": [
    "# arange\n",
    "print(np.arange(10))\n",
    "# The range starts from 0 and ends with range-1"
   ]
  },
  {
   "cell_type": "code",
   "execution_count": 39,
   "id": "64098b64-af83-4dcd-b44a-ff959e0d62f4",
   "metadata": {},
   "outputs": [
    {
     "name": "stdout",
     "output_type": "stream",
     "text": [
      "[ 2  4  6  8 10 12 14 16 18 20]\n",
      "[ 1  3  5  7  9 11 13 15 17 19]\n"
     ]
    }
   ],
   "source": [
    "# arange with step\n",
    "# np.arange(start,end,step)\n",
    "print(np.arange(2,21,2))\n",
    "print(np.arange(1,21,2))"
   ]
  },
  {
   "cell_type": "code",
   "execution_count": 50,
   "id": "780a6ad3-3e6b-43ea-ac28-80c4a6cb73c5",
   "metadata": {},
   "outputs": [
    {
     "name": "stdout",
     "output_type": "stream",
     "text": [
      "[ 0. 10.]\n",
      "[ 0.   2.5  5.   7.5 10. ]\n",
      "[ 0.  5. 10.]\n",
      "[ 0.  1.  2.  3.  4.  5.  6.  7.  8.  9. 10.]\n",
      "<class 'numpy.ndarray'>\n"
     ]
    },
    {
     "data": {
      "text/plain": [
       "'here the linspace divides the interval into num equal sizes '"
      ]
     },
     "execution_count": 50,
     "metadata": {},
     "output_type": "execute_result"
    }
   ],
   "source": [
    "# linspace()\n",
    "print(np.linspace(0, 10, num=2))\n",
    "print(np.linspace(0, 10, num=5))\n",
    "print(np.linspace(0, 10, num=3))\n",
    "print(np.linspace(0, 10, 11))\n",
    "print(type(np.linspace(0, 10, 11)))\n",
    "'''here the linspace divides the interval into num equal sizes '''"
   ]
  },
  {
   "cell_type": "code",
   "execution_count": 51,
   "id": "1a1c486d-8ffc-4ec3-8dba-e247ce8119f7",
   "metadata": {},
   "outputs": [
    {
     "name": "stdout",
     "output_type": "stream",
     "text": [
      "[1 2 3 4 5 6 7 8 9]\n"
     ]
    }
   ],
   "source": [
    "# sorting\n",
    "print(np.sort([4,5,8,6,1,2,9,7,3]))"
   ]
  },
  {
   "cell_type": "code",
   "execution_count": 6,
   "id": "2455d951-909e-4f18-ab02-c4d5a0cb2beb",
   "metadata": {},
   "outputs": [
    {
     "name": "stdout",
     "output_type": "stream",
     "text": [
      "[1 2 3 4 5 6]\n"
     ]
    }
   ],
   "source": [
    "# Concatenate\n",
    "import numpy as np\n",
    "a=np.array([1,2,3])\n",
    "b=np.array([4,5,6])\n",
    "print(np.concatenate((a,b)))\n"
   ]
  },
  {
   "cell_type": "code",
   "execution_count": 9,
   "id": "e553ef9a-bec0-40fa-bad0-89086bc92aa1",
   "metadata": {},
   "outputs": [
    {
     "name": "stdout",
     "output_type": "stream",
     "text": [
      "[[1 2]\n",
      " [3 4]\n",
      " [5 6]]\n"
     ]
    }
   ],
   "source": [
    "x = np.array([[1, 2], [3, 4]])\n",
    "y = np.array([[5, 6]])\n",
    "print(np.concatenate((x,y),axis=0))\n",
    "# print(np.concatenate((x,y),axis=1))  --not possible because : \n",
    "# all the input array dimensions except for the concatenation axis must match exactly, \n",
    "# but along dimension 0, the array at index 0 has size 2 and the array at index 1 has size 11"
   ]
  },
  {
   "cell_type": "code",
   "execution_count": 10,
   "id": "79daf2fa-99c3-41df-aa8d-af38848ea337",
   "metadata": {},
   "outputs": [
    {
     "name": "stdout",
     "output_type": "stream",
     "text": [
      "[[1 2 5 6]\n",
      " [3 4 8 9]]\n"
     ]
    }
   ],
   "source": [
    "x = np.array([[1, 2], [3, 4]])\n",
    "y = np.array([[5, 6],[8,9]])\n",
    "print(np.concatenate((x,y),axis=1)) "
   ]
  },
  {
   "cell_type": "code",
   "execution_count": 11,
   "id": "f96f037a-63cd-4943-b2e4-97537436a7b8",
   "metadata": {},
   "outputs": [
    {
     "name": "stdout",
     "output_type": "stream",
     "text": [
      "2\n"
     ]
    }
   ],
   "source": [
    "# dimensions --ndim\n",
    "print(x.ndim)"
   ]
  },
  {
   "cell_type": "code",
   "execution_count": 12,
   "id": "c6c9b545-a585-4d49-b42a-db97b47af024",
   "metadata": {},
   "outputs": [
    {
     "name": "stdout",
     "output_type": "stream",
     "text": [
      "4\n"
     ]
    }
   ],
   "source": [
    "# no of elements --size\n",
    "print(x.size)"
   ]
  },
  {
   "cell_type": "code",
   "execution_count": 13,
   "id": "853e1798-2e24-4a4c-b343-a072d902c7b3",
   "metadata": {},
   "outputs": [
    {
     "name": "stdout",
     "output_type": "stream",
     "text": [
      "(2, 2)\n"
     ]
    }
   ],
   "source": [
    "# shape\n",
    "print(x.shape)"
   ]
  },
  {
   "cell_type": "code",
   "execution_count": 14,
   "id": "7ae132c3-94c7-4f1a-b4bc-7f2eb94b6ab5",
   "metadata": {},
   "outputs": [],
   "source": [
    "array_example = np.array([[[0, 1, 2, 3],\n",
    "                           [4, 5, 6, 7]],\n",
    "\n",
    "                          [[0, 1, 2, 3],\n",
    "                           [4, 5, 6, 7]],\n",
    "\n",
    "                          [[0 ,1 ,2, 3],\n",
    "                           [4, 5, 6, 7]]])"
   ]
  },
  {
   "cell_type": "code",
   "execution_count": 17,
   "id": "02151640-69d1-4793-8e83-0d3c41e048ac",
   "metadata": {},
   "outputs": [
    {
     "data": {
      "text/plain": [
       "'Multi dimensional array'"
      ]
     },
     "execution_count": 17,
     "metadata": {},
     "output_type": "execute_result"
    }
   ],
   "source": [
    "'''Multi dimensional array'''"
   ]
  },
  {
   "cell_type": "code",
   "execution_count": 15,
   "id": "1dafaf92-3de8-4017-ab22-5c4ee97889a2",
   "metadata": {},
   "outputs": [
    {
     "name": "stdout",
     "output_type": "stream",
     "text": [
      "(3, 2, 4)\n"
     ]
    }
   ],
   "source": [
    "print(array_example.shape)"
   ]
  },
  {
   "cell_type": "code",
   "execution_count": 20,
   "id": "f51aca53-eb93-42bd-8876-c35aa6a3895a",
   "metadata": {},
   "outputs": [
    {
     "name": "stdout",
     "output_type": "stream",
     "text": [
      "[0 1 2 3 4 5 6 7 8 9]\n"
     ]
    }
   ],
   "source": [
    "a=np.arange(10)\n",
    "print(a)"
   ]
  },
  {
   "cell_type": "code",
   "execution_count": 21,
   "id": "9ae27f7c-7f8a-4e67-b417-7b0466f620ad",
   "metadata": {},
   "outputs": [
    {
     "name": "stdout",
     "output_type": "stream",
     "text": [
      "[[0 1]\n",
      " [2 3]\n",
      " [4 5]\n",
      " [6 7]\n",
      " [8 9]]\n"
     ]
    }
   ],
   "source": [
    "print(a.reshape(5,2))"
   ]
  },
  {
   "cell_type": "code",
   "execution_count": 22,
   "id": "d9db8b97-e19e-4c90-ac88-63716c61b708",
   "metadata": {},
   "outputs": [
    {
     "name": "stdout",
     "output_type": "stream",
     "text": [
      "[[0 1 2 3 4]\n",
      " [5 6 7 8 9]]\n"
     ]
    }
   ],
   "source": [
    "print(a.reshape(2,5))"
   ]
  },
  {
   "cell_type": "code",
   "execution_count": 24,
   "id": "8eef5199-c44f-430a-82b8-8f201567d136",
   "metadata": {},
   "outputs": [
    {
     "name": "stdout",
     "output_type": "stream",
     "text": [
      "[1 2 3 4]\n",
      "[[1 2]\n",
      " [3 4]]\n"
     ]
    }
   ],
   "source": [
    "# Reshape\n",
    "a=np.array([1,2,3,4])\n",
    "print(a)\n",
    "\n",
    "print(a.reshape(2,2))"
   ]
  },
  {
   "cell_type": "code",
   "execution_count": 28,
   "id": "479d7adc-a8ea-4643-8e76-66b578ad0662",
   "metadata": {},
   "outputs": [
    {
     "name": "stdout",
     "output_type": "stream",
     "text": [
      "[ 0  1  2  3  4  5  6  7  8  9 10 11]\n",
      "[[ 0  1  2]\n",
      " [ 3  4  5]\n",
      " [ 6  7  8]\n",
      " [ 9 10 11]]\n"
     ]
    }
   ],
   "source": [
    "a=np.arange(12)\n",
    "print(a)\n",
    "print(a.reshape(4,3))"
   ]
  },
  {
   "cell_type": "code",
   "execution_count": null,
   "id": "6291137d-c67d-473b-a77d-dae28ace2865",
   "metadata": {},
   "outputs": [],
   "source": []
  }
 ],
 "metadata": {
  "kernelspec": {
   "display_name": "Python 3 (ipykernel)",
   "language": "python",
   "name": "python3"
  },
  "language_info": {
   "codemirror_mode": {
    "name": "ipython",
    "version": 3
   },
   "file_extension": ".py",
   "mimetype": "text/x-python",
   "name": "python",
   "nbconvert_exporter": "python",
   "pygments_lexer": "ipython3",
   "version": "3.12.0"
  }
 },
 "nbformat": 4,
 "nbformat_minor": 5
}
