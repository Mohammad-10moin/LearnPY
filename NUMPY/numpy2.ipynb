{
 "cells": [
  {
   "cell_type": "code",
   "execution_count": 1,
   "id": "057d91b4-47f9-460d-8ea6-81de5fde88a8",
   "metadata": {},
   "outputs": [
    {
     "name": "stdout",
     "output_type": "stream",
     "text": [
      "2024-06-18\n"
     ]
    }
   ],
   "source": [
    "from datetime import date\n",
    "print(date.today())"
   ]
  },
  {
   "cell_type": "markdown",
   "id": "87cd1682-bfcc-4861-b8ab-06a3a156b853",
   "metadata": {},
   "source": [
    "### indexing and Slicing"
   ]
  },
  {
   "cell_type": "code",
   "execution_count": 6,
   "id": "79955d98-bd0e-4ffb-ad95-f808935bb291",
   "metadata": {},
   "outputs": [
    {
     "name": "stdout",
     "output_type": "stream",
     "text": [
      "[1 2 3 4 5 6]\n",
      "1\n",
      "(6,)\n",
      "(6, 1)\n",
      "[[1]\n",
      " [2]\n",
      " [3]\n",
      " [4]\n",
      " [5]\n",
      " [6]]\n",
      "[[1 2 3 4 5 6]]\n"
     ]
    }
   ],
   "source": [
    "import numpy as np\n",
    "a= np.array([1,2,3,4,5,6])\n",
    "print(a)\n",
    "print(a[0])\n",
    "print(a.shape)\n",
    "print(((a[:,np.newaxis]).shape))\n",
    "print(((a[:,np.newaxis])))\n",
    "print(((a[np.newaxis])))"
   ]
  },
  {
   "cell_type": "code",
   "execution_count": 7,
   "id": "551d9fae-c7a1-4848-a77a-3352b39eddc9",
   "metadata": {},
   "outputs": [
    {
     "name": "stdout",
     "output_type": "stream",
     "text": [
      "[1 2]\n"
     ]
    }
   ],
   "source": [
    "print(a[0:2])"
   ]
  },
  {
   "cell_type": "code",
   "execution_count": 8,
   "id": "14f48521-c7ec-4db8-b853-5033a832a35d",
   "metadata": {},
   "outputs": [
    {
     "name": "stdout",
     "output_type": "stream",
     "text": [
      "[1 2 3 4 5 6]\n"
     ]
    }
   ],
   "source": [
    "print(a[0:7])"
   ]
  },
  {
   "cell_type": "code",
   "execution_count": 9,
   "id": "be356a15-15e6-4322-9e79-684965ce1fbc",
   "metadata": {},
   "outputs": [
    {
     "name": "stdout",
     "output_type": "stream",
     "text": [
      "[1 2 3 4 5]\n"
     ]
    }
   ],
   "source": [
    "print(a[:-1])"
   ]
  },
  {
   "cell_type": "code",
   "execution_count": 10,
   "id": "5fd56433-4f67-4ecb-822e-13ea99de7d9a",
   "metadata": {},
   "outputs": [
    {
     "name": "stdout",
     "output_type": "stream",
     "text": [
      "[6]\n",
      "[1 2 3 4]\n",
      "[2 4 6]\n"
     ]
    }
   ],
   "source": [
    "print(a[a>5])\n",
    "print(a[a<5])\n",
    "print(a[a%2==0])"
   ]
  },
  {
   "cell_type": "code",
   "execution_count": 13,
   "id": "2c20f1a9-7ff4-44fb-b773-f8e7e7684ed4",
   "metadata": {},
   "outputs": [
    {
     "name": "stdout",
     "output_type": "stream",
     "text": [
      "[[1 2]\n",
      " [3 4]\n",
      " [5 6]\n",
      " [7 8]]\n",
      "[[1 2 5 6]\n",
      " [3 4 7 8]]\n"
     ]
    }
   ],
   "source": [
    "# vstack and hstack\n",
    "a1 = np.array([[1, 2],\n",
    "               [3, 4]])\n",
    "\n",
    "a2 = np.array([[5, 6],\n",
    "               [7, 8]])\n",
    "print(np.vstack((a1,a2)))\n",
    "print(np.hstack((a1,a2)))"
   ]
  },
  {
   "cell_type": "code",
   "execution_count": 26,
   "id": "83d45969-4abc-424d-a4bc-87c170e2b772",
   "metadata": {},
   "outputs": [
    {
     "name": "stdout",
     "output_type": "stream",
     "text": [
      "[array([0, 1, 2, 3, 4, 5, 6]), array([ 7,  8,  9, 10, 11, 12, 13]), array([14, 15, 16, 17, 18, 19, 20])]\n",
      "[[ 0  1  2  3  4  5  6]\n",
      " [ 7  8  9 10 11 12 13]\n",
      " [14 15 16 17 18 19 20]]\n",
      "[array([[0, 1, 2, 3, 4, 5, 6]]), array([[ 7,  8,  9, 10, 11, 12, 13]]), array([[14, 15, 16, 17, 18, 19, 20]])]\n"
     ]
    }
   ],
   "source": [
    "a=np.arange(21)\n",
    "print(np.hsplit(a,3))\n",
    "a=np.arange(21).reshape(3,7)\n",
    "print(a)\n",
    "print(np.vsplit(a,3))"
   ]
  },
  {
   "cell_type": "code",
   "execution_count": 27,
   "id": "816e7245-9ce4-4927-80ec-2404e1db532e",
   "metadata": {},
   "outputs": [
    {
     "name": "stdout",
     "output_type": "stream",
     "text": [
      "[ 0  1  2  3  4  5  6  7  8  9 10 11 12 13 14 15 16 17 18 19 20]\n"
     ]
    }
   ],
   "source": [
    "a=np.arange(21)\n",
    "b=a.copy()\n",
    "print(b)"
   ]
  },
  {
   "cell_type": "code",
   "execution_count": 35,
   "id": "c69d47ff-3a5e-49a9-896b-821190bd8ec5",
   "metadata": {},
   "outputs": [
    {
     "name": "stdout",
     "output_type": "stream",
     "text": [
      "[2. 3. 4.]\n"
     ]
    }
   ],
   "source": [
    "# Arithmetic operations using arrays\n",
    "num= np.array([1,2,3])\n",
    "one=np.ones(3)\n",
    "print(num+one)"
   ]
  },
  {
   "cell_type": "code",
   "execution_count": 36,
   "id": "dd95661a-aeca-4a19-a514-ba96b78eca92",
   "metadata": {},
   "outputs": [
    {
     "name": "stdout",
     "output_type": "stream",
     "text": [
      "[2 3 4]\n"
     ]
    }
   ],
   "source": [
    "num= np.array([1,2,3])\n",
    "one=np.ones(3,dtype=int)\n",
    "print(num+one)"
   ]
  },
  {
   "cell_type": "code",
   "execution_count": 37,
   "id": "92d77227-1d1a-4b8f-9fe4-4cfcbf833b94",
   "metadata": {},
   "outputs": [
    {
     "name": "stdout",
     "output_type": "stream",
     "text": [
      "210\n"
     ]
    }
   ],
   "source": [
    "a=np.arange(21)\n",
    "print(a.sum())"
   ]
  },
  {
   "cell_type": "code",
   "execution_count": 44,
   "id": "03cc92f8-5ac8-4895-ae7b-6f0bfe79c4e3",
   "metadata": {},
   "outputs": [
    {
     "name": "stdout",
     "output_type": "stream",
     "text": [
      "[ 0  1  2  3  4  5  6  7  8  9 10 11 12 13 14 15 16 17 18 19 20]\n",
      "[[ 0  1  2  3  4  5  6]\n",
      " [ 7  8  9 10 11 12 13]\n",
      " [14 15 16 17 18 19 20]]\n",
      "210\n",
      "[ 21  70 119]\n",
      "[21 24 27 30 33 36 39]\n"
     ]
    }
   ],
   "source": [
    "a.reshape(3,7)\n",
    "b=a.reshape(3,7).copy()\n",
    "print(a)\n",
    "print(b)\n",
    "print(a.sum(axis=0))\n",
    "print(b.sum(axis=1))\n",
    "print(b.sum(axis=0))"
   ]
  },
  {
   "cell_type": "code",
   "execution_count": 45,
   "id": "35b8d36b-f62b-43b7-9b90-55e119da82e8",
   "metadata": {},
   "outputs": [
    {
     "name": "stdout",
     "output_type": "stream",
     "text": [
      "20\n",
      "0\n"
     ]
    }
   ],
   "source": [
    "print(a.max())\n",
    "print(a.min())"
   ]
  },
  {
   "cell_type": "code",
   "execution_count": 54,
   "id": "2adb68f0-d865-4031-bb50-758eac314a47",
   "metadata": {},
   "outputs": [
    {
     "name": "stdout",
     "output_type": "stream",
     "text": [
      "[[3 8 4 1]\n",
      " [0 4 1 2]]\n"
     ]
    }
   ],
   "source": [
    "# Generating Random numbers\n",
    "rng = np.random.default_rng()\n",
    "print(rng.integers(10,size=(2,4)))"
   ]
  },
  {
   "cell_type": "code",
   "execution_count": 55,
   "id": "521abe19-6811-41df-b5eb-86f8eff5d4a1",
   "metadata": {},
   "outputs": [
    {
     "name": "stdout",
     "output_type": "stream",
     "text": [
      "[11 12 13 14 15 16 17 18 19 20]\n"
     ]
    }
   ],
   "source": [
    "a = np.array([11, 11, 12, 13, 14, 15, 16, 17, 12, 13, 11, 14, 18, 19, 20])\n",
    "print(np.unique(a))"
   ]
  },
  {
   "cell_type": "code",
   "execution_count": 57,
   "id": "25cb560a-80da-4423-b5ed-596666b624a8",
   "metadata": {},
   "outputs": [
    {
     "name": "stdout",
     "output_type": "stream",
     "text": [
      "[20 19 18 17 16 15 14 13 12 11]\n"
     ]
    }
   ],
   "source": [
    "# reverse array\n",
    "print(np.flip(np.unique(a)))"
   ]
  },
  {
   "cell_type": "code",
   "execution_count": 59,
   "id": "33138041-af9a-45fb-982a-bbd597b44dfd",
   "metadata": {},
   "outputs": [
    {
     "data": {
      "text/plain": [
       "array([ 0.,  1.,  2.,  3.,  4.,  5.,  6.,  7.,  8.,  9., 10., 11., 12.,\n",
       "       13., 14., 15., 16., 17., 18., 19., 20., 21., 22., 23., 24., 25.,\n",
       "       26., 27., 28., 29.])"
      ]
     },
     "execution_count": 59,
     "metadata": {},
     "output_type": "execute_result"
    }
   ],
   "source": [
    "'''You can save a NumPy array as a plain text file like a .csv or .txt file with np.savetxt'''\n",
    "csv_arr=np.arange(30)\n",
    "np.savetxt(\"newCSV.csv\",csv_arr)\n",
    "np.loadtxt('newCSV.csv')"
   ]
  },
  {
   "cell_type": "code",
   "execution_count": 60,
   "id": "327b2943-78b6-4661-81da-108a4d53e55c",
   "metadata": {},
   "outputs": [
    {
     "data": {
      "text/plain": [
       "'THis is the numpy i have learnt for 2day'"
      ]
     },
     "execution_count": 60,
     "metadata": {},
     "output_type": "execute_result"
    }
   ],
   "source": [
    "'''THis is the numpy i have learnt for 2day'''"
   ]
  },
  {
   "cell_type": "code",
   "execution_count": null,
   "id": "d3fb1d27-fd7c-49be-8609-f69548504d17",
   "metadata": {},
   "outputs": [],
   "source": []
  }
 ],
 "metadata": {
  "kernelspec": {
   "display_name": "Python 3 (ipykernel)",
   "language": "python",
   "name": "python3"
  },
  "language_info": {
   "codemirror_mode": {
    "name": "ipython",
    "version": 3
   },
   "file_extension": ".py",
   "mimetype": "text/x-python",
   "name": "python",
   "nbconvert_exporter": "python",
   "pygments_lexer": "ipython3",
   "version": "3.12.0"
  }
 },
 "nbformat": 4,
 "nbformat_minor": 5
}
