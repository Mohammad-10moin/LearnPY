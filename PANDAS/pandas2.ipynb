{
 "cells": [
  {
   "cell_type": "code",
   "execution_count": 10,
   "id": "77367bda-87b0-46a2-a9bd-b007204d284a",
   "metadata": {},
   "outputs": [
    {
     "name": "stdout",
     "output_type": "stream",
     "text": [
      "2024-06-22\n"
     ]
    }
   ],
   "source": [
    "from datetime import date\n",
    "print(date.today())"
   ]
  },
  {
   "cell_type": "markdown",
   "id": "d62c398b-18a1-4a36-8944-e05c7aee540e",
   "metadata": {},
   "source": [
    "### Reading from a CSV"
   ]
  },
  {
   "cell_type": "code",
   "execution_count": 11,
   "id": "cef4fb6a-b6c2-407c-827a-b01745cfe50e",
   "metadata": {},
   "outputs": [],
   "source": [
    "import pandas as pd"
   ]
  },
  {
   "cell_type": "code",
   "execution_count": 20,
   "id": "1a90047d-f1a8-423e-8e60-797654ccec4c",
   "metadata": {},
   "outputs": [
    {
     "name": "stdout",
     "output_type": "stream",
     "text": [
      "                                Track                        Album Name  \\\n",
      "0                 MILLION DOLLAR BABY      Million Dollar Baby - Single   \n",
      "1                         Not Like Us                       Not Like Us   \n",
      "2          i like the way you kiss me        I like the way you kiss me   \n",
      "3                             Flowers                  Flowers - Single   \n",
      "4                             Houdini                           Houdini   \n",
      "...                               ...                               ...   \n",
      "4595                For the Last Time                 For the Last Time   \n",
      "4596                 Dil Meri Na Sune  Dil Meri Na Sune (From \"Genius\")   \n",
      "4597            Grace (feat. 42 Dugg)                           My Turn   \n",
      "4598              Nashe Si Chadh Gayi             November Top 10 Songs   \n",
      "4599  Me Acostumbre (feat. Bad Bunny)   Me Acostumbre (feat. Bad Bunny)   \n",
      "\n",
      "              Artist Release Date          ISRC All Time Rank  Track Score  \\\n",
      "0      Tommy Richman    4/26/2024  QM24S2402528             1        725.4   \n",
      "1     Kendrick Lamar   05-04-2024  USUG12400910             2        545.9   \n",
      "2            Artemas    3/19/2024  QZJ842400387             3        538.4   \n",
      "3        Miley Cyrus   01-12-2023  USSM12209777             4        444.9   \n",
      "4             Eminem    5/31/2024  USUG12403398             5        423.3   \n",
      "...              ...          ...           ...           ...          ...   \n",
      "4595     $uicideboy$   09-05-2017  QM8DG1703420         4,585         19.4   \n",
      "4596      Atif Aslam    7/27/2018  INT101800122         4,575         19.4   \n",
      "4597        Lil Baby    2/28/2020  USUG12000043         4,571         19.4   \n",
      "4598    Arijit Singh   11-08-2016  INY091600067         4,591         19.4   \n",
      "4599       Arc¨«¨«   04-11-2017  USB271700107         4,593         19.4   \n",
      "\n",
      "     Spotify Streams Spotify Playlist Count Spotify Playlist Reach  ...  \\\n",
      "0       39,04,70,936                 30,716           19,66,31,588  ...   \n",
      "1       32,37,03,884                 28,113           17,45,97,137  ...   \n",
      "2       60,13,09,283                 54,331           21,16,07,669  ...   \n",
      "3     2,03,12,80,633               2,69,802           13,65,69,078  ...   \n",
      "4       10,70,34,922                  7,223           15,14,69,874  ...   \n",
      "...              ...                    ...                    ...  ...   \n",
      "4595    30,50,49,963                 65,770              51,03,054  ...   \n",
      "4596     5,22,82,360                  4,602              14,49,767  ...   \n",
      "4597    18,99,72,685                 72,066              67,04,802  ...   \n",
      "4598    14,54,67,020                 14,037              73,87,064  ...   \n",
      "4599    25,57,40,653                 32,138            1,40,66,526  ...   \n",
      "\n",
      "      SiriusXM Spins Deezer Playlist Count Deezer Playlist Reach  \\\n",
      "0                684                  62.0           1,75,98,718   \n",
      "1                  3                  67.0           1,04,22,430   \n",
      "2                536                 136.0           3,63,21,847   \n",
      "3              2,182                 264.0           2,46,84,248   \n",
      "4                  1                  82.0           1,76,60,624   \n",
      "...              ...                   ...                   ...   \n",
      "4595             NaN                   2.0                14,217   \n",
      "4596             NaN                   1.0                   927   \n",
      "4597             NaN                   1.0                    74   \n",
      "4598             NaN                   NaN                   NaN   \n",
      "4599             NaN                   4.0              1,27,479   \n",
      "\n",
      "     Amazon Playlist Count Pandora Streams Pandora Track Stations  \\\n",
      "0                    114.0     1,80,04,655                 22,931   \n",
      "1                    111.0       77,80,028                 28,444   \n",
      "2                    172.0       50,22,621                  5,639   \n",
      "3                    210.0    19,02,60,277               2,03,384   \n",
      "4                    105.0       44,93,884                  7,006   \n",
      "...                    ...             ...                    ...   \n",
      "4595                   NaN     2,01,04,066                 13,184   \n",
      "4596                   NaN             NaN                    NaN   \n",
      "4597                   6.0     8,44,26,740                 28,999   \n",
      "4598                   7.0       68,17,840                    NaN   \n",
      "4599                   4.0     6,90,06,739                 11,320   \n",
      "\n",
      "     Soundcloud Streams  Shazam Counts TIDAL Popularity Explicit Track  \n",
      "0             48,18,457      26,69,262              NaN              0  \n",
      "1             66,23,075      11,18,279              NaN              1  \n",
      "2             72,08,651      52,85,340              NaN              0  \n",
      "3                   NaN    1,18,22,942              NaN              0  \n",
      "4              2,07,179       4,57,017              NaN              1  \n",
      "...                 ...            ...              ...            ...  \n",
      "4595        5,06,33,006       6,56,337              NaN              1  \n",
      "4596                NaN       1,93,590              NaN              0  \n",
      "4597                NaN      11,35,998              NaN              1  \n",
      "4598                NaN       4,48,292              NaN              0  \n",
      "4599                NaN       7,67,006              NaN              1  \n",
      "\n",
      "[4600 rows x 29 columns]\n"
     ]
    }
   ],
   "source": [
    "# Try reading the CSV with a different encoding\n",
    "try:\n",
    "    df = pd.read_csv(\"C:\\\\Users\\\\DELL\\\\Downloads\\\\Compressed\\\\archive\\\\Spotifycsv.csv\", encoding='latin1')\n",
    "except UnicodeDecodeError:\n",
    "    print(\"Error: UnicodeDecodeError encountered. Trying another encoding...\")\n",
    "    df = pd.read_csv(\"C:\\\\Users\\\\DELL\\\\Downloads\\\\Compressed\\\\archive\\\\Spotifycsv.csv\", encoding='utf-16')\n",
    "\n",
    "# Printing the data inside the CSV\n",
    "print(df)"
   ]
  },
  {
   "cell_type": "code",
   "execution_count": 22,
   "id": "c26a7566-6cd2-46c7-a427-6249306a7d19",
   "metadata": {},
   "outputs": [
    {
     "name": "stdout",
     "output_type": "stream",
     "text": [
      "                                Track                        Album Name  \\\n",
      "0                 MILLION DOLLAR BABY      Million Dollar Baby - Single   \n",
      "1                         Not Like Us                       Not Like Us   \n",
      "2          i like the way you kiss me        I like the way you kiss me   \n",
      "3                             Flowers                  Flowers - Single   \n",
      "4                             Houdini                           Houdini   \n",
      "...                               ...                               ...   \n",
      "4595                For the Last Time                 For the Last Time   \n",
      "4596                 Dil Meri Na Sune  Dil Meri Na Sune (From \"Genius\")   \n",
      "4597            Grace (feat. 42 Dugg)                           My Turn   \n",
      "4598              Nashe Si Chadh Gayi             November Top 10 Songs   \n",
      "4599  Me Acostumbre (feat. Bad Bunny)   Me Acostumbre (feat. Bad Bunny)   \n",
      "\n",
      "              Artist Release Date          ISRC All Time Rank  Track Score  \\\n",
      "0      Tommy Richman    4/26/2024  QM24S2402528             1        725.4   \n",
      "1     Kendrick Lamar   05-04-2024  USUG12400910             2        545.9   \n",
      "2            Artemas    3/19/2024  QZJ842400387             3        538.4   \n",
      "3        Miley Cyrus   01-12-2023  USSM12209777             4        444.9   \n",
      "4             Eminem    5/31/2024  USUG12403398             5        423.3   \n",
      "...              ...          ...           ...           ...          ...   \n",
      "4595     $uicideboy$   09-05-2017  QM8DG1703420         4,585         19.4   \n",
      "4596      Atif Aslam    7/27/2018  INT101800122         4,575         19.4   \n",
      "4597        Lil Baby    2/28/2020  USUG12000043         4,571         19.4   \n",
      "4598    Arijit Singh   11-08-2016  INY091600067         4,591         19.4   \n",
      "4599       Arc¨«¨«   04-11-2017  USB271700107         4,593         19.4   \n",
      "\n",
      "     Spotify Streams Spotify Playlist Count Spotify Playlist Reach  ...  \\\n",
      "0       39,04,70,936                 30,716           19,66,31,588  ...   \n",
      "1       32,37,03,884                 28,113           17,45,97,137  ...   \n",
      "2       60,13,09,283                 54,331           21,16,07,669  ...   \n",
      "3     2,03,12,80,633               2,69,802           13,65,69,078  ...   \n",
      "4       10,70,34,922                  7,223           15,14,69,874  ...   \n",
      "...              ...                    ...                    ...  ...   \n",
      "4595    30,50,49,963                 65,770              51,03,054  ...   \n",
      "4596     5,22,82,360                  4,602              14,49,767  ...   \n",
      "4597    18,99,72,685                 72,066              67,04,802  ...   \n",
      "4598    14,54,67,020                 14,037              73,87,064  ...   \n",
      "4599    25,57,40,653                 32,138            1,40,66,526  ...   \n",
      "\n",
      "      SiriusXM Spins Deezer Playlist Count Deezer Playlist Reach  \\\n",
      "0                684                  62.0           1,75,98,718   \n",
      "1                  3                  67.0           1,04,22,430   \n",
      "2                536                 136.0           3,63,21,847   \n",
      "3              2,182                 264.0           2,46,84,248   \n",
      "4                  1                  82.0           1,76,60,624   \n",
      "...              ...                   ...                   ...   \n",
      "4595             NaN                   2.0                14,217   \n",
      "4596             NaN                   1.0                   927   \n",
      "4597             NaN                   1.0                    74   \n",
      "4598             NaN                   NaN                   NaN   \n",
      "4599             NaN                   4.0              1,27,479   \n",
      "\n",
      "     Amazon Playlist Count Pandora Streams Pandora Track Stations  \\\n",
      "0                    114.0     1,80,04,655                 22,931   \n",
      "1                    111.0       77,80,028                 28,444   \n",
      "2                    172.0       50,22,621                  5,639   \n",
      "3                    210.0    19,02,60,277               2,03,384   \n",
      "4                    105.0       44,93,884                  7,006   \n",
      "...                    ...             ...                    ...   \n",
      "4595                   NaN     2,01,04,066                 13,184   \n",
      "4596                   NaN             NaN                    NaN   \n",
      "4597                   6.0     8,44,26,740                 28,999   \n",
      "4598                   7.0       68,17,840                    NaN   \n",
      "4599                   4.0     6,90,06,739                 11,320   \n",
      "\n",
      "     Soundcloud Streams  Shazam Counts TIDAL Popularity Explicit Track  \n",
      "0             48,18,457      26,69,262              NaN              0  \n",
      "1             66,23,075      11,18,279              NaN              1  \n",
      "2             72,08,651      52,85,340              NaN              0  \n",
      "3                   NaN    1,18,22,942              NaN              0  \n",
      "4              2,07,179       4,57,017              NaN              1  \n",
      "...                 ...            ...              ...            ...  \n",
      "4595        5,06,33,006       6,56,337              NaN              1  \n",
      "4596                NaN       1,93,590              NaN              0  \n",
      "4597                NaN      11,35,998              NaN              1  \n",
      "4598                NaN       4,48,292              NaN              0  \n",
      "4599                NaN       7,67,006              NaN              1  \n",
      "\n",
      "[4600 rows x 29 columns]\n"
     ]
    }
   ],
   "source": [
    "df = pd.read_csv(\"C:\\\\Users\\\\DELL\\\\Downloads\\\\Compressed\\\\archive\\\\Spotifycsv.csv\",encoding='latin1')\n",
    "print(df)"
   ]
  },
  {
   "cell_type": "code",
   "execution_count": 27,
   "id": "888eece4-444a-4f0c-8ed8-e5a455fb026d",
   "metadata": {},
   "outputs": [
    {
     "name": "stdout",
     "output_type": "stream",
     "text": [
      "  Student  rollno  Marks\n",
      "0      s1     120     90\n",
      "1      s2     121     84\n",
      "2      s3     122     95\n",
      "3      s4     123     75\n",
      "4      s5     124     89\n",
      "5      s6     125     78\n",
      "6      s7     126     56\n",
      "7      s8     127     86\n",
      "8      s9     128     86\n",
      "9     s10     129     99\n"
     ]
    }
   ],
   "source": [
    "dframe=pd.read_csv(\"C:\\\\Users\\\\DELL\\\\OneDrive\\\\Desktop\\\\PdLearn.csv\")\n",
    "print(dframe)"
   ]
  },
  {
   "cell_type": "code",
   "execution_count": 28,
   "id": "ece17477-90cb-4b0a-93fa-9b959babe7d1",
   "metadata": {},
   "outputs": [
    {
     "name": "stdout",
     "output_type": "stream",
     "text": [
      "  Student  rollno  Marks\n",
      "0      s1     120     90\n",
      "1      s2     121     84\n",
      "2      s3     122     95\n",
      "3      s4     123     75\n",
      "4      s5     124     89\n"
     ]
    }
   ],
   "source": [
    "print(dframe.head())"
   ]
  },
  {
   "cell_type": "code",
   "execution_count": 29,
   "id": "31dfb25c-fcb8-4d69-a7a8-d260d72eafa6",
   "metadata": {},
   "outputs": [
    {
     "name": "stdout",
     "output_type": "stream",
     "text": [
      "  Student  rollno  Marks\n",
      "0      s1     120     90\n",
      "1      s2     121     84\n",
      "2      s3     122     95\n"
     ]
    }
   ],
   "source": [
    "print(dframe.head(3))"
   ]
  },
  {
   "cell_type": "code",
   "execution_count": 30,
   "id": "435fb489-6595-4e1a-9344-421b7abd54df",
   "metadata": {},
   "outputs": [
    {
     "name": "stdout",
     "output_type": "stream",
     "text": [
      "  Student  rollno  Marks\n",
      "5      s6     125     78\n",
      "6      s7     126     56\n",
      "7      s8     127     86\n",
      "8      s9     128     86\n",
      "9     s10     129     99\n"
     ]
    }
   ],
   "source": [
    "print(dframe.tail())"
   ]
  },
  {
   "cell_type": "code",
   "execution_count": 31,
   "id": "50e94cf2-7ad7-4a2d-b637-60cd313e593d",
   "metadata": {},
   "outputs": [
    {
     "name": "stdout",
     "output_type": "stream",
     "text": [
      "  Student  rollno  Marks\n",
      "8      s9     128     86\n",
      "9     s10     129     99\n"
     ]
    }
   ],
   "source": [
    "print(dframe.tail(2))"
   ]
  },
  {
   "cell_type": "markdown",
   "id": "f8749ce7-90c9-40c4-8cf8-3ca33b4e34f3",
   "metadata": {},
   "source": [
    "### Reading Excel"
   ]
  },
  {
   "cell_type": "code",
   "execution_count": 32,
   "id": "3e46e1b3-98f3-4bfb-9164-031dd9fbd065",
   "metadata": {},
   "outputs": [
    {
     "name": "stdout",
     "output_type": "stream",
     "text": [
      "Defaulting to user installation because normal site-packages is not writeable\n",
      "Collecting openpyxl\n",
      "  Downloading openpyxl-3.1.4-py2.py3-none-any.whl.metadata (2.5 kB)\n",
      "Collecting et-xmlfile (from openpyxl)\n",
      "  Downloading et_xmlfile-1.1.0-py3-none-any.whl.metadata (1.8 kB)\n",
      "Downloading openpyxl-3.1.4-py2.py3-none-any.whl (251 kB)\n",
      "   ---------------------------------------- 0.0/251.4 kB ? eta -:--:--\n",
      "   ---------------------------------------- 0.0/251.4 kB ? eta -:--:--\n",
      "   - -------------------------------------- 10.2/251.4 kB ? eta -:--:--\n",
      "   ---- ---------------------------------- 30.7/251.4 kB 330.3 kB/s eta 0:00:01\n",
      "   --------- ----------------------------- 61.4/251.4 kB 409.6 kB/s eta 0:00:01\n",
      "   --------------------- ---------------- 143.4/251.4 kB 774.0 kB/s eta 0:00:01\n",
      "   ---------------------------------------  245.8/251.4 kB 1.2 MB/s eta 0:00:01\n",
      "   ---------------------------------------- 251.4/251.4 kB 1.0 MB/s eta 0:00:00\n",
      "Downloading et_xmlfile-1.1.0-py3-none-any.whl (4.7 kB)\n",
      "Installing collected packages: et-xmlfile, openpyxl\n",
      "Successfully installed et-xmlfile-1.1.0 openpyxl-3.1.4\n",
      "Note: you may need to restart the kernel to use updated packages.\n"
     ]
    },
    {
     "name": "stderr",
     "output_type": "stream",
     "text": [
      "\n",
      "[notice] A new release of pip is available: 24.0 -> 24.1\n",
      "[notice] To update, run: python.exe -m pip install --upgrade pip\n"
     ]
    }
   ],
   "source": [
    "pip install openpyxl"
   ]
  },
  {
   "cell_type": "code",
   "execution_count": 34,
   "id": "5f2a6e91-18d2-49aa-962a-9eb4ff9893ac",
   "metadata": {},
   "outputs": [
    {
     "name": "stdout",
     "output_type": "stream",
     "text": [
      "Defaulting to user installation because normal site-packages is not writeableNote: you may need to restart the kernel to use updated packages.\n",
      "\n",
      "Requirement already satisfied: pip in c:\\users\\dell\\appdata\\roaming\\python\\python312\\site-packages (24.0)\n",
      "Collecting pip\n",
      "  Downloading pip-24.1-py3-none-any.whl.metadata (3.6 kB)\n",
      "Downloading pip-24.1-py3-none-any.whl (1.8 MB)\n",
      "   ---------------------------------------- 0.0/1.8 MB ? eta -:--:--\n",
      "   ---------------------------------------- 0.0/1.8 MB ? eta -:--:--\n",
      "   ---------------------------------------- 0.0/1.8 MB ? eta -:--:--\n",
      "    --------------------------------------- 0.0/1.8 MB 325.1 kB/s eta 0:00:06\n",
      "   - -------------------------------------- 0.1/1.8 MB 465.5 kB/s eta 0:00:04\n",
      "   --- ------------------------------------ 0.1/1.8 MB 847.9 kB/s eta 0:00:02\n",
      "   ----- ---------------------------------- 0.2/1.8 MB 1.2 MB/s eta 0:00:02\n",
      "   ----------- ---------------------------- 0.5/1.8 MB 2.0 MB/s eta 0:00:01\n",
      "   --------------- ------------------------ 0.7/1.8 MB 2.4 MB/s eta 0:00:01\n",
      "   --------------- ------------------------ 0.7/1.8 MB 2.4 MB/s eta 0:00:01\n",
      "   ---------------- ----------------------- 0.7/1.8 MB 1.9 MB/s eta 0:00:01\n",
      "   ----------------- ---------------------- 0.8/1.8 MB 1.8 MB/s eta 0:00:01\n",
      "   ----------------- ---------------------- 0.8/1.8 MB 1.8 MB/s eta 0:00:01\n",
      "   -------------------------- ------------- 1.2/1.8 MB 2.3 MB/s eta 0:00:01\n",
      "   ----------------------------- ---------- 1.4/1.8 MB 2.3 MB/s eta 0:00:01\n",
      "   ----------------------------- ---------- 1.4/1.8 MB 2.3 MB/s eta 0:00:01\n",
      "   ----------------------------- ---------- 1.4/1.8 MB 2.3 MB/s eta 0:00:01\n",
      "   ---------------------------------- ----- 1.6/1.8 MB 2.1 MB/s eta 0:00:01\n",
      "   -------------------------------------- - 1.8/1.8 MB 2.2 MB/s eta 0:00:01\n",
      "   ---------------------------------------- 1.8/1.8 MB 2.2 MB/s eta 0:00:00\n",
      "Installing collected packages: pip\n",
      "  Attempting uninstall: pip\n",
      "    Found existing installation: pip 24.0\n",
      "    Uninstalling pip-24.0:\n",
      "      Successfully uninstalled pip-24.0\n",
      "Successfully installed pip-24.1\n"
     ]
    }
   ],
   "source": [
    "pip install --upgrade pip"
   ]
  },
  {
   "cell_type": "code",
   "execution_count": 35,
   "id": "c3d52621-f707-4ce1-aea3-6ead11b2c337",
   "metadata": {},
   "outputs": [
    {
     "name": "stdout",
     "output_type": "stream",
     "text": [
      "                                Track                        Album Name  \\\n",
      "0                 MILLION DOLLAR BABY      Million Dollar Baby - Single   \n",
      "1                         Not Like Us                       Not Like Us   \n",
      "2          i like the way you kiss me        I like the way you kiss me   \n",
      "3                             Flowers                  Flowers - Single   \n",
      "4                             Houdini                           Houdini   \n",
      "...                               ...                               ...   \n",
      "4595                For the Last Time                 For the Last Time   \n",
      "4596                 Dil Meri Na Sune  Dil Meri Na Sune (From \"Genius\")   \n",
      "4597            Grace (feat. 42 Dugg)                           My Turn   \n",
      "4598              Nashe Si Chadh Gayi             November Top 10 Songs   \n",
      "4599  Me Acostumbre (feat. Bad Bunny)   Me Acostumbre (feat. Bad Bunny)   \n",
      "\n",
      "              Artist         Release Date          ISRC  All Time Rank  \\\n",
      "0      Tommy Richman            4/26/2024  QM24S2402528              1   \n",
      "1     Kendrick Lamar  2024-04-05 00:00:00  USUG12400910              2   \n",
      "2            Artemas            3/19/2024  QZJ842400387              3   \n",
      "3        Miley Cyrus  2023-12-01 00:00:00  USSM12209777              4   \n",
      "4             Eminem            5/31/2024  USUG12403398              5   \n",
      "...              ...                  ...           ...            ...   \n",
      "4595     $uicideboy$  2017-05-09 00:00:00  QM8DG1703420           4585   \n",
      "4596      Atif Aslam            7/27/2018  INT101800122           4575   \n",
      "4597        Lil Baby            2/28/2020  USUG12000043           4571   \n",
      "4598    Arijit Singh  2016-08-11 00:00:00  INY091600067           4591   \n",
      "4599       Arcï¿½ï¿½  2017-11-04 00:00:00  USB271700107           4593   \n",
      "\n",
      "      Track Score  Spotify Streams  Spotify Playlist Count  \\\n",
      "0           725.4     3.904709e+08                 30716.0   \n",
      "1           545.9     3.237039e+08                 28113.0   \n",
      "2           538.4     6.013093e+08                 54331.0   \n",
      "3           444.9     2.031281e+09                269802.0   \n",
      "4           423.3     1.070349e+08                  7223.0   \n",
      "...           ...              ...                     ...   \n",
      "4595         19.4     3.050500e+08                 65770.0   \n",
      "4596         19.4     5.228236e+07                  4602.0   \n",
      "4597         19.4     1.899727e+08                 72066.0   \n",
      "4598         19.4     1.454670e+08                 14037.0   \n",
      "4599         19.4     2.557407e+08                 32138.0   \n",
      "\n",
      "      Spotify Playlist Reach  ...  SiriusXM Spins  Deezer Playlist Count  \\\n",
      "0                196631588.0  ...           684.0                   62.0   \n",
      "1                174597137.0  ...             3.0                   67.0   \n",
      "2                211607669.0  ...           536.0                  136.0   \n",
      "3                136569078.0  ...          2182.0                  264.0   \n",
      "4                151469874.0  ...             1.0                   82.0   \n",
      "...                      ...  ...             ...                    ...   \n",
      "4595               5103054.0  ...             NaN                    2.0   \n",
      "4596               1449767.0  ...             NaN                    1.0   \n",
      "4597               6704802.0  ...             NaN                    1.0   \n",
      "4598               7387064.0  ...             NaN                    NaN   \n",
      "4599              14066526.0  ...             NaN                    4.0   \n",
      "\n",
      "      Deezer Playlist Reach  Amazon Playlist Count  Pandora Streams  \\\n",
      "0                17598718.0                  114.0       18004655.0   \n",
      "1                10422430.0                  111.0        7780028.0   \n",
      "2                36321847.0                  172.0        5022621.0   \n",
      "3                24684248.0                  210.0      190260277.0   \n",
      "4                17660624.0                  105.0        4493884.0   \n",
      "...                     ...                    ...              ...   \n",
      "4595                14217.0                    NaN       20104066.0   \n",
      "4596                  927.0                    NaN              NaN   \n",
      "4597                   74.0                    6.0       84426740.0   \n",
      "4598                    NaN                    7.0        6817840.0   \n",
      "4599               127479.0                    4.0       69006739.0   \n",
      "\n",
      "      Pandora Track Stations  Soundcloud Streams  Shazam Counts  \\\n",
      "0                    22931.0           4818457.0      2669262.0   \n",
      "1                    28444.0           6623075.0      1118279.0   \n",
      "2                     5639.0           7208651.0      5285340.0   \n",
      "3                   203384.0                 NaN     11822942.0   \n",
      "4                     7006.0            207179.0       457017.0   \n",
      "...                      ...                 ...            ...   \n",
      "4595                 13184.0          50633006.0       656337.0   \n",
      "4596                     NaN                 NaN       193590.0   \n",
      "4597                 28999.0                 NaN      1135998.0   \n",
      "4598                     NaN                 NaN       448292.0   \n",
      "4599                 11320.0                 NaN       767006.0   \n",
      "\n",
      "      TIDAL Popularity  Explicit Track  \n",
      "0                  NaN               0  \n",
      "1                  NaN               1  \n",
      "2                  NaN               0  \n",
      "3                  NaN               0  \n",
      "4                  NaN               1  \n",
      "...                ...             ...  \n",
      "4595               NaN               1  \n",
      "4596               NaN               0  \n",
      "4597               NaN               1  \n",
      "4598               NaN               0  \n",
      "4599               NaN               1  \n",
      "\n",
      "[4600 rows x 29 columns]\n"
     ]
    }
   ],
   "source": [
    "ed=pd.read_excel(\"C:\\\\Users\\\\DELL\\\\Downloads\\\\Compressed\\\\archive\\\\Most Streamed Spotify Songs 2024.xlsx\")\n",
    "print(ed)"
   ]
  },
  {
   "cell_type": "code",
   "execution_count": 36,
   "id": "4f78533e-bef6-4f97-a9b4-09ab3f8a636a",
   "metadata": {},
   "outputs": [
    {
     "name": "stdout",
     "output_type": "stream",
     "text": [
      "                        Track                    Album Name          Artist  \\\n",
      "0         MILLION DOLLAR BABY  Million Dollar Baby - Single   Tommy Richman   \n",
      "1                 Not Like Us                   Not Like Us  Kendrick Lamar   \n",
      "2  i like the way you kiss me    I like the way you kiss me         Artemas   \n",
      "3                     Flowers              Flowers - Single     Miley Cyrus   \n",
      "4                     Houdini                       Houdini          Eminem   \n",
      "\n",
      "          Release Date          ISRC  All Time Rank  Track Score  \\\n",
      "0            4/26/2024  QM24S2402528              1        725.4   \n",
      "1  2024-04-05 00:00:00  USUG12400910              2        545.9   \n",
      "2            3/19/2024  QZJ842400387              3        538.4   \n",
      "3  2023-12-01 00:00:00  USSM12209777              4        444.9   \n",
      "4            5/31/2024  USUG12403398              5        423.3   \n",
      "\n",
      "   Spotify Streams  Spotify Playlist Count  Spotify Playlist Reach  ...  \\\n",
      "0     3.904709e+08                 30716.0             196631588.0  ...   \n",
      "1     3.237039e+08                 28113.0             174597137.0  ...   \n",
      "2     6.013093e+08                 54331.0             211607669.0  ...   \n",
      "3     2.031281e+09                269802.0             136569078.0  ...   \n",
      "4     1.070349e+08                  7223.0             151469874.0  ...   \n",
      "\n",
      "   SiriusXM Spins  Deezer Playlist Count  Deezer Playlist Reach  \\\n",
      "0           684.0                   62.0             17598718.0   \n",
      "1             3.0                   67.0             10422430.0   \n",
      "2           536.0                  136.0             36321847.0   \n",
      "3          2182.0                  264.0             24684248.0   \n",
      "4             1.0                   82.0             17660624.0   \n",
      "\n",
      "   Amazon Playlist Count  Pandora Streams  Pandora Track Stations  \\\n",
      "0                  114.0       18004655.0                 22931.0   \n",
      "1                  111.0        7780028.0                 28444.0   \n",
      "2                  172.0        5022621.0                  5639.0   \n",
      "3                  210.0      190260277.0                203384.0   \n",
      "4                  105.0        4493884.0                  7006.0   \n",
      "\n",
      "   Soundcloud Streams  Shazam Counts  TIDAL Popularity  Explicit Track  \n",
      "0           4818457.0      2669262.0               NaN               0  \n",
      "1           6623075.0      1118279.0               NaN               1  \n",
      "2           7208651.0      5285340.0               NaN               0  \n",
      "3                 NaN     11822942.0               NaN               0  \n",
      "4            207179.0       457017.0               NaN               1  \n",
      "\n",
      "[5 rows x 29 columns]\n"
     ]
    }
   ],
   "source": [
    "print(ed.head())"
   ]
  },
  {
   "cell_type": "code",
   "execution_count": 37,
   "id": "e4fa385b-3093-4fde-acee-dd1247d8f4a2",
   "metadata": {},
   "outputs": [
    {
     "name": "stdout",
     "output_type": "stream",
     "text": [
      "                                Track                        Album Name  \\\n",
      "4595                For the Last Time                 For the Last Time   \n",
      "4596                 Dil Meri Na Sune  Dil Meri Na Sune (From \"Genius\")   \n",
      "4597            Grace (feat. 42 Dugg)                           My Turn   \n",
      "4598              Nashe Si Chadh Gayi             November Top 10 Songs   \n",
      "4599  Me Acostumbre (feat. Bad Bunny)   Me Acostumbre (feat. Bad Bunny)   \n",
      "\n",
      "            Artist         Release Date          ISRC  All Time Rank  \\\n",
      "4595   $uicideboy$  2017-05-09 00:00:00  QM8DG1703420           4585   \n",
      "4596    Atif Aslam            7/27/2018  INT101800122           4575   \n",
      "4597      Lil Baby            2/28/2020  USUG12000043           4571   \n",
      "4598  Arijit Singh  2016-08-11 00:00:00  INY091600067           4591   \n",
      "4599     Arcï¿½ï¿½  2017-11-04 00:00:00  USB271700107           4593   \n",
      "\n",
      "      Track Score  Spotify Streams  Spotify Playlist Count  \\\n",
      "4595         19.4      305049963.0                 65770.0   \n",
      "4596         19.4       52282360.0                  4602.0   \n",
      "4597         19.4      189972685.0                 72066.0   \n",
      "4598         19.4      145467020.0                 14037.0   \n",
      "4599         19.4      255740653.0                 32138.0   \n",
      "\n",
      "      Spotify Playlist Reach  ...  SiriusXM Spins  Deezer Playlist Count  \\\n",
      "4595               5103054.0  ...             NaN                    2.0   \n",
      "4596               1449767.0  ...             NaN                    1.0   \n",
      "4597               6704802.0  ...             NaN                    1.0   \n",
      "4598               7387064.0  ...             NaN                    NaN   \n",
      "4599              14066526.0  ...             NaN                    4.0   \n",
      "\n",
      "      Deezer Playlist Reach  Amazon Playlist Count  Pandora Streams  \\\n",
      "4595                14217.0                    NaN       20104066.0   \n",
      "4596                  927.0                    NaN              NaN   \n",
      "4597                   74.0                    6.0       84426740.0   \n",
      "4598                    NaN                    7.0        6817840.0   \n",
      "4599               127479.0                    4.0       69006739.0   \n",
      "\n",
      "      Pandora Track Stations  Soundcloud Streams  Shazam Counts  \\\n",
      "4595                 13184.0          50633006.0       656337.0   \n",
      "4596                     NaN                 NaN       193590.0   \n",
      "4597                 28999.0                 NaN      1135998.0   \n",
      "4598                     NaN                 NaN       448292.0   \n",
      "4599                 11320.0                 NaN       767006.0   \n",
      "\n",
      "      TIDAL Popularity  Explicit Track  \n",
      "4595               NaN               1  \n",
      "4596               NaN               0  \n",
      "4597               NaN               1  \n",
      "4598               NaN               0  \n",
      "4599               NaN               1  \n",
      "\n",
      "[5 rows x 29 columns]\n"
     ]
    }
   ],
   "source": [
    "print(ed.tail())"
   ]
  },
  {
   "cell_type": "markdown",
   "id": "f0f38e3c-6903-4c1f-9841-c715ac68f1fb",
   "metadata": {},
   "source": [
    "### Indexing"
   ]
  },
  {
   "cell_type": "code",
   "execution_count": 38,
   "id": "b5c532fb-350e-4c04-93cc-4163bb6b5e73",
   "metadata": {},
   "outputs": [
    {
     "name": "stdout",
     "output_type": "stream",
     "text": [
      "  Student  rollno  Marks\n",
      "0      s1     120     90\n",
      "1      s2     121     84\n",
      "2      s3     122     95\n",
      "3      s4     123     75\n",
      "4      s5     124     89\n",
      "5      s6     125     78\n",
      "6      s7     126     56\n",
      "7      s8     127     86\n",
      "8      s9     128     86\n",
      "9     s10     129     99\n"
     ]
    }
   ],
   "source": [
    "dframe=pd.read_csv(\"C:\\\\Users\\\\DELL\\\\OneDrive\\\\Desktop\\\\PdLearn.csv\")\n",
    "print(dframe)"
   ]
  },
  {
   "cell_type": "code",
   "execution_count": 48,
   "id": "e781db7a-2d0e-489a-86a2-bc24963f7a40",
   "metadata": {},
   "outputs": [
    {
     "name": "stdout",
     "output_type": "stream",
     "text": [
      "0    90\n",
      "1    84\n",
      "2    95\n",
      "3    75\n",
      "4    89\n",
      "5    78\n",
      "6    56\n",
      "7    86\n",
      "8    86\n",
      "9    99\n",
      "Name: Marks, dtype: int64\n"
     ]
    }
   ],
   "source": [
    "print(dframe[\"Marks\"])"
   ]
  },
  {
   "cell_type": "code",
   "execution_count": 49,
   "id": "4ab64074-acc8-44f6-9cfb-44b226f77b92",
   "metadata": {},
   "outputs": [
    {
     "name": "stdout",
     "output_type": "stream",
     "text": [
      "         rollno  Marks\n",
      "Student               \n",
      "s1          120     90\n",
      "s2          121     84\n",
      "s3          122     95\n",
      "s4          123     75\n",
      "s5          124     89\n",
      "s6          125     78\n",
      "s7          126     56\n",
      "s8          127     86\n",
      "s9          128     86\n",
      "s10         129     99\n"
     ]
    }
   ],
   "source": [
    "dframe=pd.read_csv(\"C:\\\\Users\\\\DELL\\\\OneDrive\\\\Desktop\\\\PdLearn.csv\",index_col='Student')\n",
    "print(dframe)"
   ]
  },
  {
   "cell_type": "code",
   "execution_count": 50,
   "id": "1860f69e-f5c8-406d-8ac3-467b67be92ea",
   "metadata": {},
   "outputs": [
    {
     "name": "stdout",
     "output_type": "stream",
     "text": [
      "Student\n",
      "s1     120\n",
      "s2     121\n",
      "s3     122\n",
      "s4     123\n",
      "s5     124\n",
      "s6     125\n",
      "s7     126\n",
      "s8     127\n",
      "s9     128\n",
      "s10    129\n",
      "Name: rollno, dtype: int64\n"
     ]
    }
   ],
   "source": [
    "print(dframe[\"rollno\"])"
   ]
  },
  {
   "cell_type": "code",
   "execution_count": 57,
   "id": "28af2535-6b2d-41b7-a6bd-cf2274ab3f87",
   "metadata": {},
   "outputs": [
    {
     "name": "stdout",
     "output_type": "stream",
     "text": [
      "rollno    121\n",
      "Marks      84\n",
      "Name: s2, dtype: int64\n"
     ]
    }
   ],
   "source": [
    "# Retrive the details of single Row: --loc[]\n",
    "print(dframe.loc['s2'])"
   ]
  },
  {
   "cell_type": "code",
   "execution_count": 59,
   "id": "002dc30f-6b13-4677-bcd0-f4470859f7c5",
   "metadata": {},
   "outputs": [
    {
     "name": "stdout",
     "output_type": "stream",
     "text": [
      "rollno    123\n",
      "Marks      75\n",
      "Name: s4, dtype: int64\n"
     ]
    }
   ],
   "source": [
    "# Retrive the details of rows and cols using position : --iloc[]\n",
    "print(dframe.iloc[3])"
   ]
  },
  {
   "cell_type": "code",
   "execution_count": null,
   "id": "df81f74a-1442-4833-82de-317ebed24a9d",
   "metadata": {},
   "outputs": [],
   "source": []
  }
 ],
 "metadata": {
  "kernelspec": {
   "display_name": "Python 3 (ipykernel)",
   "language": "python",
   "name": "python3"
  },
  "language_info": {
   "codemirror_mode": {
    "name": "ipython",
    "version": 3
   },
   "file_extension": ".py",
   "mimetype": "text/x-python",
   "name": "python",
   "nbconvert_exporter": "python",
   "pygments_lexer": "ipython3",
   "version": "3.12.0"
  }
 },
 "nbformat": 4,
 "nbformat_minor": 5
}
