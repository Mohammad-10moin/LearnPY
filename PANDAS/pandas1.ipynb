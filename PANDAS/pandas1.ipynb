{
 "cells": [
  {
   "cell_type": "code",
   "execution_count": 2,
   "id": "f757e3c5-e8cd-4b9b-b51a-3b20bf55b089",
   "metadata": {},
   "outputs": [
    {
     "name": "stdout",
     "output_type": "stream",
     "text": [
      "2024-06-19\n"
     ]
    }
   ],
   "source": [
    "from datetime import date\n",
    "print(date.today())"
   ]
  },
  {
   "cell_type": "code",
   "execution_count": 4,
   "id": "f71391e3-1e9d-487d-bb55-7db4d2479982",
   "metadata": {},
   "outputs": [],
   "source": [
    "import numpy as np \n",
    "import pandas as pd"
   ]
  },
  {
   "cell_type": "markdown",
   "id": "dd98b707-9133-4577-b9b5-f7e62de522d2",
   "metadata": {},
   "source": [
    "### Basic data structures in pandas\r\n",
    "Pandas provides two types of classes for handling data:\r\n",
    "\r\n",
    "Series: a one-dimensional labeled array holding data of any type\r\n",
    "such as integers, strings, Python objects etc.\r\n",
    "\r\n",
    "DataFrame: a two-dimensional data structure that holds data like a two-dimension array or a table with rows and columns."
   ]
  },
  {
   "cell_type": "code",
   "execution_count": 8,
   "id": "fa1740d5-8d6c-420d-989c-fab82bba5958",
   "metadata": {},
   "outputs": [
    {
     "name": "stdout",
     "output_type": "stream",
     "text": [
      "0    1.0\n",
      "1    2.0\n",
      "2    3.0\n",
      "3    4.0\n",
      "4    5.0\n",
      "5    NaN\n",
      "6    6.0\n",
      "dtype: float64\n"
     ]
    }
   ],
   "source": [
    "s=pd.Series([1,2,3,4,5,np.NaN,6])\n",
    "print(s)"
   ]
  },
  {
   "cell_type": "code",
   "execution_count": 11,
   "id": "8c91666c-0b31-48ce-8494-0ed41e21e330",
   "metadata": {},
   "outputs": [
    {
     "name": "stdout",
     "output_type": "stream",
     "text": [
      "DatetimeIndex(['2024-06-19', '2024-06-20', '2024-06-21', '2024-06-22',\n",
      "               '2024-06-23', '2024-06-24'],\n",
      "              dtype='datetime64[ns]', freq='D')\n"
     ]
    }
   ],
   "source": [
    "dates= pd.date_range(\"20240619\",periods=6)\n",
    "print(dates)"
   ]
  },
  {
   "cell_type": "code",
   "execution_count": 17,
   "id": "2e62055c-fbd3-4ad4-92ca-263e093264f9",
   "metadata": {},
   "outputs": [],
   "source": [
    "df = pd.DataFrame(np.random.randn(6, 4), index=dates, columns=list(\"ABCD\"))"
   ]
  },
  {
   "cell_type": "code",
   "execution_count": 18,
   "id": "bd1498a0-4962-48a7-91f6-7d3ef489e81e",
   "metadata": {},
   "outputs": [
    {
     "name": "stdout",
     "output_type": "stream",
     "text": [
      "                   A         B         C         D\n",
      "2024-06-19  0.350148 -0.499760 -0.346041  0.925568\n",
      "2024-06-20  0.342443  0.278519  1.145670 -0.643750\n",
      "2024-06-21 -1.888836  0.286179 -1.995846 -0.263313\n",
      "2024-06-22  0.898926  1.150242  1.407921  0.218522\n",
      "2024-06-23 -0.096270 -0.296235  0.087252 -0.706242\n",
      "2024-06-24  1.029155  0.665790 -1.186358  0.253723\n"
     ]
    }
   ],
   "source": [
    "print(df)"
   ]
  },
  {
   "cell_type": "code",
   "execution_count": 21,
   "id": "6ec36665-9597-4410-8886-6a3ce82d3a2a",
   "metadata": {},
   "outputs": [
    {
     "name": "stdout",
     "output_type": "stream",
     "text": [
      "1    0.449890\n",
      "2    1.946886\n",
      "3   -3.617834\n",
      "4   -1.234227\n",
      "5   -0.534875\n",
      "dtype: float64\n"
     ]
    }
   ],
   "source": [
    "s=pd.Series(np.random.randn(5),index=[1,2,3,4,5])\n",
    "print(s)"
   ]
  },
  {
   "cell_type": "code",
   "execution_count": 4,
   "id": "b2de7d1e-af6b-47bf-b324-475079f4cd25",
   "metadata": {},
   "outputs": [
    {
     "name": "stdout",
     "output_type": "stream",
     "text": [
      "  student  rank  marks\n",
      "0      s1     2     92\n",
      "1      s2     4     73\n",
      "2      s3     5     64\n",
      "3      s4     3     74\n",
      "4      s5     1     96\n"
     ]
    }
   ],
   "source": [
    "data={\n",
    "    'student':['s1','s2','s3','s4','s5'],\n",
    "    'rank':[2,4,5,3,1],\n",
    "    'marks':[92,73,64,74,96]\n",
    "}\n",
    "df= pd.DataFrame(data)\n",
    "print(df)"
   ]
  },
  {
   "cell_type": "code",
   "execution_count": 5,
   "id": "3bdfc7f3-28d6-4ae2-bb05-f17dc14cea31",
   "metadata": {},
   "outputs": [
    {
     "data": {
      "text/html": [
       "<div>\n",
       "<style scoped>\n",
       "    .dataframe tbody tr th:only-of-type {\n",
       "        vertical-align: middle;\n",
       "    }\n",
       "\n",
       "    .dataframe tbody tr th {\n",
       "        vertical-align: top;\n",
       "    }\n",
       "\n",
       "    .dataframe thead th {\n",
       "        text-align: right;\n",
       "    }\n",
       "</style>\n",
       "<table border=\"1\" class=\"dataframe\">\n",
       "  <thead>\n",
       "    <tr style=\"text-align: right;\">\n",
       "      <th></th>\n",
       "      <th>student</th>\n",
       "      <th>rank</th>\n",
       "      <th>marks</th>\n",
       "    </tr>\n",
       "  </thead>\n",
       "  <tbody>\n",
       "    <tr>\n",
       "      <th>a</th>\n",
       "      <td>s1</td>\n",
       "      <td>2</td>\n",
       "      <td>92</td>\n",
       "    </tr>\n",
       "    <tr>\n",
       "      <th>b</th>\n",
       "      <td>s2</td>\n",
       "      <td>4</td>\n",
       "      <td>73</td>\n",
       "    </tr>\n",
       "    <tr>\n",
       "      <th>c</th>\n",
       "      <td>s3</td>\n",
       "      <td>5</td>\n",
       "      <td>64</td>\n",
       "    </tr>\n",
       "    <tr>\n",
       "      <th>d</th>\n",
       "      <td>s4</td>\n",
       "      <td>3</td>\n",
       "      <td>74</td>\n",
       "    </tr>\n",
       "    <tr>\n",
       "      <th>e</th>\n",
       "      <td>s5</td>\n",
       "      <td>1</td>\n",
       "      <td>96</td>\n",
       "    </tr>\n",
       "  </tbody>\n",
       "</table>\n",
       "</div>"
      ],
      "text/plain": [
       "  student  rank  marks\n",
       "a      s1     2     92\n",
       "b      s2     4     73\n",
       "c      s3     5     64\n",
       "d      s4     3     74\n",
       "e      s5     1     96"
      ]
     },
     "execution_count": 5,
     "metadata": {},
     "output_type": "execute_result"
    }
   ],
   "source": [
    "df= pd.DataFrame(data,index=['a','b','c','d','e'])\n",
    "df"
   ]
  },
  {
   "cell_type": "code",
   "execution_count": 11,
   "id": "0201de3c-63ae-4480-b09b-75e2428ef4e7",
   "metadata": {},
   "outputs": [
    {
     "data": {
      "text/plain": [
       "'Accessing the values in dataframe using loc'"
      ]
     },
     "execution_count": 11,
     "metadata": {},
     "output_type": "execute_result"
    }
   ],
   "source": [
    "'''Accessing the values in dataframe using loc'''"
   ]
  },
  {
   "cell_type": "code",
   "execution_count": 8,
   "id": "8c76f7a4-f9af-4859-bb10-ac0e237edcda",
   "metadata": {},
   "outputs": [
    {
     "data": {
      "text/plain": [
       "'s1'"
      ]
     },
     "execution_count": 8,
     "metadata": {},
     "output_type": "execute_result"
    }
   ],
   "source": [
    "df.loc['a','student']"
   ]
  },
  {
   "cell_type": "code",
   "execution_count": 9,
   "id": "6a887a7f-972b-4030-90da-de51bb7177a6",
   "metadata": {},
   "outputs": [
    {
     "data": {
      "text/plain": [
       "2"
      ]
     },
     "execution_count": 9,
     "metadata": {},
     "output_type": "execute_result"
    }
   ],
   "source": [
    "df.loc['a','rank']"
   ]
  },
  {
   "cell_type": "code",
   "execution_count": 10,
   "id": "2d531c60-91f4-44dc-bb8f-8747c0b80ada",
   "metadata": {},
   "outputs": [
    {
     "data": {
      "text/plain": [
       "92"
      ]
     },
     "execution_count": 10,
     "metadata": {},
     "output_type": "execute_result"
    }
   ],
   "source": [
    "df.loc['a','marks']"
   ]
  },
  {
   "cell_type": "code",
   "execution_count": 13,
   "id": "f8d13745-8cef-4f3b-bce5-ccb3c0a865e2",
   "metadata": {},
   "outputs": [
    {
     "data": {
      "text/html": [
       "<div>\n",
       "<style scoped>\n",
       "    .dataframe tbody tr th:only-of-type {\n",
       "        vertical-align: middle;\n",
       "    }\n",
       "\n",
       "    .dataframe tbody tr th {\n",
       "        vertical-align: top;\n",
       "    }\n",
       "\n",
       "    .dataframe thead th {\n",
       "        text-align: right;\n",
       "    }\n",
       "</style>\n",
       "<table border=\"1\" class=\"dataframe\">\n",
       "  <thead>\n",
       "    <tr style=\"text-align: right;\">\n",
       "      <th></th>\n",
       "      <th>student</th>\n",
       "      <th>rank</th>\n",
       "      <th>marks</th>\n",
       "    </tr>\n",
       "  </thead>\n",
       "  <tbody>\n",
       "    <tr>\n",
       "      <th>b</th>\n",
       "      <td>s2</td>\n",
       "      <td>4</td>\n",
       "      <td>73</td>\n",
       "    </tr>\n",
       "    <tr>\n",
       "      <th>c</th>\n",
       "      <td>s3</td>\n",
       "      <td>5</td>\n",
       "      <td>64</td>\n",
       "    </tr>\n",
       "  </tbody>\n",
       "</table>\n",
       "</div>"
      ],
      "text/plain": [
       "  student  rank  marks\n",
       "b      s2     4     73\n",
       "c      s3     5     64"
      ]
     },
     "execution_count": 13,
     "metadata": {},
     "output_type": "execute_result"
    }
   ],
   "source": [
    "# Accessing rows and colums using integer positions\n",
    "df.iloc[[1,2]]"
   ]
  },
  {
   "cell_type": "code",
   "execution_count": 16,
   "id": "22cee09f-4036-4e52-98ff-965ce6533a9b",
   "metadata": {},
   "outputs": [
    {
     "name": "stdout",
     "output_type": "stream",
     "text": [
      "student\n",
      "rank\n",
      "marks\n"
     ]
    }
   ],
   "source": [
    "for col in df:\n",
    "    print(col)"
   ]
  },
  {
   "cell_type": "markdown",
   "id": "91f164a7-5c3a-4c99-b20d-ff47bacf94f9",
   "metadata": {},
   "source": [
    "### Attributes and Methods"
   ]
  },
  {
   "cell_type": "code",
   "execution_count": 22,
   "id": "b1b0909e-7662-4807-90ce-8716b587862b",
   "metadata": {},
   "outputs": [
    {
     "name": "stdout",
     "output_type": "stream",
     "text": [
      "datatypes:\n",
      " student    object\n",
      "rank        int64\n",
      "marks       int64\n",
      "dtype: object\n"
     ]
    }
   ],
   "source": [
    "# Attributes and Methods\n",
    "# To print the data types\n",
    "print(\"datatypes:\\n\",df.dtypes)"
   ]
  },
  {
   "cell_type": "code",
   "execution_count": 23,
   "id": "8eb88e60-0ea7-4320-ba9b-002452a3889b",
   "metadata": {},
   "outputs": [
    {
     "name": "stdout",
     "output_type": "stream",
     "text": [
      "2\n"
     ]
    }
   ],
   "source": [
    "# To get the dimensions\n",
    "print(df.ndim)"
   ]
  },
  {
   "cell_type": "code",
   "execution_count": 25,
   "id": "eb12bd1d-e370-4ca8-b307-195525041585",
   "metadata": {},
   "outputs": [
    {
     "name": "stdout",
     "output_type": "stream",
     "text": [
      "15\n"
     ]
    }
   ],
   "source": [
    "# size attribute\n",
    "print(df.size)\n",
    "# it gives the total no of elements in the dataframe"
   ]
  },
  {
   "cell_type": "code",
   "execution_count": 26,
   "id": "f8647483-1d80-4a0c-bff8-7c9b3e643859",
   "metadata": {},
   "outputs": [
    {
     "name": "stdout",
     "output_type": "stream",
     "text": [
      "(5, 3)\n"
     ]
    }
   ],
   "source": [
    "# shape of dataframe\n",
    "print(df.shape)"
   ]
  },
  {
   "cell_type": "code",
   "execution_count": 27,
   "id": "af45a594-3b8e-4794-8a51-7c547ae0e4ee",
   "metadata": {},
   "outputs": [],
   "source": [
    "# 5 --rows\n",
    "# 3 --columns"
   ]
  },
  {
   "cell_type": "code",
   "execution_count": 28,
   "id": "2ede02cc-4ac9-4ce5-b0bd-7d42ba0329df",
   "metadata": {},
   "outputs": [
    {
     "name": "stdout",
     "output_type": "stream",
     "text": [
      "Index(['a', 'b', 'c', 'd', 'e'], dtype='object')\n"
     ]
    }
   ],
   "source": [
    "# index\n",
    "print(df.index)"
   ]
  },
  {
   "cell_type": "code",
   "execution_count": 29,
   "id": "a0e1717d-9a13-4a8d-bc90-80b29ad9813f",
   "metadata": {},
   "outputs": [
    {
     "name": "stdout",
     "output_type": "stream",
     "text": [
      "          a   b   c   d   e\n",
      "student  s1  s2  s3  s4  s5\n",
      "rank      2   4   5   3   1\n",
      "marks    92  73  64  74  96\n"
     ]
    }
   ],
   "source": [
    "# to Transpose the data frame \n",
    "print(df.T)"
   ]
  },
  {
   "cell_type": "code",
   "execution_count": 31,
   "id": "db5a69f4-a71a-4120-8838-dc86ccbae6e0",
   "metadata": {},
   "outputs": [
    {
     "name": "stdout",
     "output_type": "stream",
     "text": [
      "(3, 5)\n"
     ]
    }
   ],
   "source": [
    "print(df.T.shape)"
   ]
  },
  {
   "cell_type": "code",
   "execution_count": 32,
   "id": "a71ac6fe-b40e-4964-8f42-6a9b99d00f19",
   "metadata": {},
   "outputs": [
    {
     "name": "stdout",
     "output_type": "stream",
     "text": [
      "  student  rank  marks\n",
      "a      s1     2     92\n",
      "b      s2     4     73\n",
      "c      s3     5     64\n"
     ]
    }
   ],
   "source": [
    "# head(n) --displays first n rows , default n=5\n",
    "print(df.head(3))"
   ]
  },
  {
   "cell_type": "code",
   "execution_count": 33,
   "id": "532041c9-150a-46ee-b59e-6527f69111fa",
   "metadata": {},
   "outputs": [
    {
     "name": "stdout",
     "output_type": "stream",
     "text": [
      "  student  rank  marks\n",
      "a      s1     2     92\n",
      "b      s2     4     73\n",
      "c      s3     5     64\n",
      "d      s4     3     74\n",
      "e      s5     1     96\n"
     ]
    }
   ],
   "source": [
    "# tail(n)\n",
    "print(df.tail())"
   ]
  },
  {
   "cell_type": "code",
   "execution_count": 34,
   "id": "6b26ec0f-07a5-4fb2-aab8-ffac16fffe0f",
   "metadata": {},
   "outputs": [
    {
     "name": "stdout",
     "output_type": "stream",
     "text": [
      "  student  rank  marks\n",
      "c      s3     5     64\n",
      "d      s4     3     74\n",
      "e      s5     1     96\n"
     ]
    }
   ],
   "source": [
    "print(df.tail(3))"
   ]
  },
  {
   "cell_type": "code",
   "execution_count": 36,
   "id": "adcc5074-8c43-4e53-9ec7-38adf66c3b26",
   "metadata": {},
   "outputs": [
    {
     "name": "stdout",
     "output_type": "stream",
     "text": [
      "  name  age\n",
      "0    a   12\n",
      "1    b   23\n",
      "2    c   34\n",
      "3    d   42\n",
      "  gender state\n",
      "0      m    ap\n",
      "1      f    up\n",
      "2      m    mp\n",
      "3      f    uk\n"
     ]
    }
   ],
   "source": [
    "# join\n",
    "d1={\n",
    "    'name':['a','b','c','d'],\n",
    "    'age':[12,23,34,42]\n",
    "}\n",
    "d2={\n",
    "    'gender':['m','f','m','f'],\n",
    "    'state':['ap','up','mp','uk']\n",
    "}\n",
    "df1=pd.DataFrame(d1)\n",
    "df2=pd.DataFrame(d2)\n",
    "print(df1)\n",
    "print(df2)"
   ]
  },
  {
   "cell_type": "code",
   "execution_count": 38,
   "id": "1d184bb3-d6f0-4975-b3e7-0dc057ef3a35",
   "metadata": {},
   "outputs": [
    {
     "name": "stdout",
     "output_type": "stream",
     "text": [
      "  name  age gender state\n",
      "0    a   12      m    ap\n",
      "1    b   23      f    up\n",
      "2    c   34      m    mp\n",
      "3    d   42      f    uk\n"
     ]
    }
   ],
   "source": [
    "print(df1.join(df2))"
   ]
  },
  {
   "cell_type": "code",
   "execution_count": 44,
   "id": "92a9e4b7-189d-491f-93a5-1ebaf388d0c2",
   "metadata": {},
   "outputs": [
    {
     "name": "stdout",
     "output_type": "stream",
     "text": [
      "  name   age gender state\n",
      "0    a  12.0    NaN   NaN\n",
      "1    b  23.0    NaN   NaN\n",
      "2    c  34.0    NaN   NaN\n",
      "3    d  42.0    NaN   NaN\n",
      "0  NaN   NaN      m    ap\n",
      "1  NaN   NaN      f    up\n",
      "2  NaN   NaN      m    mp\n",
      "3  NaN   NaN      f    uk\n"
     ]
    }
   ],
   "source": [
    "# concatenate \n",
    "print(pd.concat((df1,df2)))"
   ]
  },
  {
   "cell_type": "code",
   "execution_count": 46,
   "id": "5f5afb33-40a5-4b4e-972f-3cc1ba2510af",
   "metadata": {},
   "outputs": [
    {
     "name": "stdout",
     "output_type": "stream",
     "text": [
      "  gender state name   age\n",
      "0      m    ap  NaN   NaN\n",
      "1      f    up  NaN   NaN\n",
      "2      m    mp  NaN   NaN\n",
      "3      f    uk  NaN   NaN\n",
      "0    NaN   NaN    a  12.0\n",
      "1    NaN   NaN    b  23.0\n",
      "2    NaN   NaN    c  34.0\n",
      "3    NaN   NaN    d  42.0\n"
     ]
    }
   ],
   "source": [
    "print(pd.concat([df2,df1]))"
   ]
  },
  {
   "cell_type": "code",
   "execution_count": 47,
   "id": "5e5792d8-8a98-4def-a366-c561a5d78a94",
   "metadata": {},
   "outputs": [
    {
     "data": {
      "text/plain": [
       "'Series --one dimensional labled array'"
      ]
     },
     "execution_count": 47,
     "metadata": {},
     "output_type": "execute_result"
    }
   ],
   "source": [
    "'''Series --one dimensional labled array'''"
   ]
  },
  {
   "cell_type": "code",
   "execution_count": 5,
   "id": "2a3c3951-44ac-4aed-ada7-2cce4f26556d",
   "metadata": {},
   "outputs": [
    {
     "name": "stdout",
     "output_type": "stream",
     "text": [
      "0    1\n",
      "1    2\n",
      "2    3\n",
      "3    4\n",
      "4    5\n",
      "dtype: int64\n"
     ]
    }
   ],
   "source": [
    "data=[1,2,3,4,5]\n",
    "s=pd.Series(data)\n",
    "print(s)"
   ]
  },
  {
   "cell_type": "code",
   "execution_count": 49,
   "id": "5b0d1519-308e-4a08-b267-78fd51325063",
   "metadata": {},
   "outputs": [
    {
     "name": "stdout",
     "output_type": "stream",
     "text": [
      "1\n",
      "2\n"
     ]
    }
   ],
   "source": [
    "# Accessing value from series\n",
    "print(s[0])\n",
    "print(s[1])"
   ]
  },
  {
   "cell_type": "code",
   "execution_count": 50,
   "id": "4a7ba848-8a7a-4bca-9aa3-76cc2f48c2b1",
   "metadata": {},
   "outputs": [
    {
     "name": "stdout",
     "output_type": "stream",
     "text": [
      "a    1\n",
      "b    2\n",
      "c    3\n",
      "d    4\n",
      "e    5\n",
      "dtype: int32\n"
     ]
    }
   ],
   "source": [
    "s1=pd.Series(data,index=['a','b','c','d','e'],dtype=int)\n",
    "print(s1)"
   ]
  },
  {
   "cell_type": "code",
   "execution_count": 52,
   "id": "3b29981f-f086-4354-a393-bbd9e0752f3d",
   "metadata": {},
   "outputs": [
    {
     "name": "stdout",
     "output_type": "stream",
     "text": [
      "1\n"
     ]
    }
   ],
   "source": [
    "print(s1['a'])"
   ]
  },
  {
   "cell_type": "code",
   "execution_count": 1,
   "id": "f28f0a69-c28a-4d98-b1cb-655efd96fcdd",
   "metadata": {},
   "outputs": [
    {
     "data": {
      "text/plain": [
       "'Series Attributes'"
      ]
     },
     "execution_count": 1,
     "metadata": {},
     "output_type": "execute_result"
    }
   ],
   "source": [
    "'''Series Attributes'''"
   ]
  },
  {
   "cell_type": "code",
   "execution_count": 6,
   "id": "5c8ad31e-1749-4085-8db1-bebb2c38f4ec",
   "metadata": {},
   "outputs": [
    {
     "name": "stdout",
     "output_type": "stream",
     "text": [
      "int64\n"
     ]
    }
   ],
   "source": [
    "# datatype\n",
    "print(s.dtype)"
   ]
  },
  {
   "cell_type": "code",
   "execution_count": 7,
   "id": "ff344399-d802-47bf-86d6-c715c095b5f1",
   "metadata": {},
   "outputs": [
    {
     "name": "stdout",
     "output_type": "stream",
     "text": [
      "1\n"
     ]
    }
   ],
   "source": [
    "# dimensions\n",
    "print(s.ndim)"
   ]
  },
  {
   "cell_type": "code",
   "execution_count": 9,
   "id": "07b4a4e1-e349-4366-b83a-e127279d2d4d",
   "metadata": {},
   "outputs": [
    {
     "name": "stdout",
     "output_type": "stream",
     "text": [
      "5\n"
     ]
    }
   ],
   "source": [
    "# TOTAL elements\n",
    "print(s.size)"
   ]
  },
  {
   "cell_type": "code",
   "execution_count": 10,
   "id": "9d5f74d0-2ccd-4ede-8c66-9c3a5e34ef3d",
   "metadata": {},
   "outputs": [
    {
     "name": "stdout",
     "output_type": "stream",
     "text": [
      "0    1\n",
      "1    2\n",
      "2    3\n",
      "3    4\n",
      "4    5\n",
      "Name: series5, dtype: int64\n",
      "series5\n"
     ]
    }
   ],
   "source": [
    "# name --we can also give a name to series \n",
    "s=pd.Series([1,2,3,4,5],name=\"series5\")\n",
    "print(s)\n",
    "print(s.name)"
   ]
  },
  {
   "cell_type": "code",
   "execution_count": 12,
   "id": "f921d500-c660-453f-afd7-e2a12abba0a3",
   "metadata": {},
   "outputs": [
    {
     "name": "stdout",
     "output_type": "stream",
     "text": [
      "False\n"
     ]
    }
   ],
   "source": [
    "# hasNan\n",
    "print(s.hasnans)"
   ]
  },
  {
   "cell_type": "code",
   "execution_count": 15,
   "id": "c10d4c11-240a-4e1c-8b18-d655f7e330b2",
   "metadata": {},
   "outputs": [
    {
     "name": "stdout",
     "output_type": "stream",
     "text": [
      "True\n"
     ]
    }
   ],
   "source": [
    "s=pd.Series([1,2,3,4,5,np.nan],name=\"series5\")\n",
    "print(s.hasnans)"
   ]
  },
  {
   "cell_type": "code",
   "execution_count": 17,
   "id": "afb9c33a-6158-4f29-90c3-2821c87802f0",
   "metadata": {},
   "outputs": [
    {
     "name": "stdout",
     "output_type": "stream",
     "text": [
      "Index(['a', 'b', 'c', 'd', 'e'], dtype='object')\n"
     ]
    }
   ],
   "source": [
    "s=pd.Series([1,2,3,4,5],index=['a','b','c','d','e'],name=\"series5\")\n",
    "print(s.index)"
   ]
  },
  {
   "cell_type": "code",
   "execution_count": 18,
   "id": "90b8c7cc-1be0-48c1-93fb-7ce9ccc6455f",
   "metadata": {},
   "outputs": [
    {
     "name": "stdout",
     "output_type": "stream",
     "text": [
      "a    1\n",
      "b    2\n",
      "c    3\n",
      "d    4\n",
      "e    5\n",
      "Name: series5, dtype: int64\n"
     ]
    }
   ],
   "source": [
    "# head\n",
    "print(s.head())"
   ]
  },
  {
   "cell_type": "code",
   "execution_count": 19,
   "id": "fb1b5b28-b45f-43e5-8bb6-921f73f180e4",
   "metadata": {},
   "outputs": [
    {
     "name": "stdout",
     "output_type": "stream",
     "text": [
      "a    1\n",
      "b    2\n",
      "c    3\n",
      "Name: series5, dtype: int64\n"
     ]
    }
   ],
   "source": [
    "print(s.head(3))"
   ]
  },
  {
   "cell_type": "code",
   "execution_count": 20,
   "id": "f7b3411b-c588-403b-8be6-90bfe897a3e3",
   "metadata": {},
   "outputs": [
    {
     "name": "stdout",
     "output_type": "stream",
     "text": [
      "a    1\n",
      "b    2\n",
      "c    3\n",
      "d    4\n",
      "e    5\n",
      "Name: series5, dtype: int64\n"
     ]
    }
   ],
   "source": [
    "# tail\n",
    "print(s.tail())"
   ]
  },
  {
   "cell_type": "code",
   "execution_count": 21,
   "id": "b0215f80-cef8-4557-a400-8604491f3a3a",
   "metadata": {},
   "outputs": [
    {
     "name": "stdout",
     "output_type": "stream",
     "text": [
      "c    3\n",
      "d    4\n",
      "e    5\n",
      "Name: series5, dtype: int64\n"
     ]
    }
   ],
   "source": [
    "print(s.tail(3))"
   ]
  },
  {
   "cell_type": "code",
   "execution_count": 22,
   "id": "30fa2f21-0d9e-4cec-a728-4f7d147ed301",
   "metadata": {},
   "outputs": [],
   "source": [
    "# info()"
   ]
  },
  {
   "cell_type": "code",
   "execution_count": 23,
   "id": "6af74168-55fc-4826-babe-abb5fd76eee7",
   "metadata": {},
   "outputs": [
    {
     "name": "stdout",
     "output_type": "stream",
     "text": [
      "<class 'pandas.core.series.Series'>\n",
      "Index: 5 entries, a to e\n",
      "Series name: series5\n",
      "Non-Null Count  Dtype\n",
      "--------------  -----\n",
      "5 non-null      int64\n",
      "dtypes: int64(1)\n",
      "memory usage: 80.0+ bytes\n",
      "None\n"
     ]
    }
   ],
   "source": [
    "print(s.info())"
   ]
  },
  {
   "cell_type": "code",
   "execution_count": 24,
   "id": "0491074c-d507-4a62-b05d-c0ca74ae90dd",
   "metadata": {},
   "outputs": [
    {
     "name": "stdout",
     "output_type": "stream",
     "text": [
      "<class 'pandas.core.series.Series'>\n",
      "Index: 5 entries, a to e\n",
      "Series name: series5\n",
      "Non-Null Count  Dtype\n",
      "--------------  -----\n",
      "5 non-null      int64\n",
      "dtypes: int64(1)\n",
      "memory usage: 80.0+ bytes\n",
      "Help on NoneType object:\n",
      "\n",
      "class NoneType(object)\n",
      " |  Methods defined here:\n",
      " |\n",
      " |  __bool__(self, /)\n",
      " |      True if self else False\n",
      " |\n",
      " |  __hash__(self, /)\n",
      " |      Return hash(self).\n",
      " |\n",
      " |  __repr__(self, /)\n",
      " |      Return repr(self).\n",
      " |\n",
      " |  ----------------------------------------------------------------------\n",
      " |  Static methods defined here:\n",
      " |\n",
      " |  __new__(*args, **kwargs) from builtins.type\n",
      " |      Create and return a new object.  See help(type) for accurate signature.\n",
      "\n"
     ]
    }
   ],
   "source": [
    "help(s.info())"
   ]
  },
  {
   "cell_type": "code",
   "execution_count": 32,
   "id": "f9a4bba6-de3a-40c1-b015-87408d7f41da",
   "metadata": {},
   "outputs": [
    {
     "name": "stdout",
     "output_type": "stream",
     "text": [
      "0    4\n",
      "1    5\n",
      "2    6\n",
      "dtype: int64\n"
     ]
    }
   ],
   "source": [
    "# combining Series using function\n",
    "s1=pd.Series([1,2,3])\n",
    "s2=pd.Series([4,5,6])\n",
    "def lar(a,b):\n",
    "    if a>b:\n",
    "        return a\n",
    "    return b\n",
    "print(s1.combine(s2,lar))"
   ]
  },
  {
   "cell_type": "code",
   "execution_count": 34,
   "id": "c8aff187-2b08-4d04-a6a1-81eb25a588cb",
   "metadata": {},
   "outputs": [
    {
     "name": "stdout",
     "output_type": "stream",
     "text": [
      "0    a\n",
      "1    b\n",
      "2    c\n",
      "3    d\n",
      "dtype: category\n",
      "Categories (4, object): ['a', 'b', 'c', 'd']\n"
     ]
    }
   ],
   "source": [
    "# Categorial Series\n",
    "c=pd.Series(['a','b','c','d'],dtype='category')\n",
    "print(c)"
   ]
  },
  {
   "cell_type": "code",
   "execution_count": 37,
   "id": "156065c8-dd47-4dda-86dd-7678d7a02d4e",
   "metadata": {},
   "outputs": [
    {
     "name": "stdout",
     "output_type": "stream",
     "text": [
      "   0  1  2  3\n",
      "0  a  b  c  d\n",
      "\n",
      " 0    category\n",
      "1    category\n",
      "2    category\n",
      "3    category\n",
      "dtype: object\n"
     ]
    }
   ],
   "source": [
    "# Categorial DataFrame\n",
    "cd=pd.DataFrame({0:['a'],1:['b'],2:['c'],3:['d']},dtype='category')\n",
    "print(cd)\n",
    "print(\"\\n\",cd.dtypes)"
   ]
  },
  {
   "cell_type": "code",
   "execution_count": 45,
   "id": "c4adcfc0-2cfd-41ab-bdf2-eca69940fd6f",
   "metadata": {},
   "outputs": [
    {
     "name": "stdout",
     "output_type": "stream",
     "text": [
      "0    a\n",
      "1    b\n",
      "2    c\n",
      "3    d\n",
      "dtype: category\n",
      "Categories (7, object): ['a', 'b', 'c', 'd', 'e', 'f', 'g']\n"
     ]
    }
   ],
   "source": [
    "# Append new Category\n",
    "c=c.cat.add_categories('g')\n",
    "print(c)"
   ]
  },
  {
   "cell_type": "code",
   "execution_count": 49,
   "id": "5893edca-20a1-420f-8e82-e22f95ef3ce1",
   "metadata": {},
   "outputs": [
    {
     "name": "stdout",
     "output_type": "stream",
     "text": [
      "0    a\n",
      "1    b\n",
      "2    c\n",
      "3    d\n",
      "dtype: category\n",
      "Categories (4, object): ['a', 'b', 'c', 'd']\n"
     ]
    }
   ],
   "source": [
    "c=c.cat.remove_categories('g')\n",
    "print(c)"
   ]
  },
  {
   "cell_type": "code",
   "execution_count": null,
   "id": "355819ca-780a-4f4b-912c-b4a507916c76",
   "metadata": {},
   "outputs": [],
   "source": []
  }
 ],
 "metadata": {
  "kernelspec": {
   "display_name": "Python 3 (ipykernel)",
   "language": "python",
   "name": "python3"
  },
  "language_info": {
   "codemirror_mode": {
    "name": "ipython",
    "version": 3
   },
   "file_extension": ".py",
   "mimetype": "text/x-python",
   "name": "python",
   "nbconvert_exporter": "python",
   "pygments_lexer": "ipython3",
   "version": "3.12.0"
  }
 },
 "nbformat": 4,
 "nbformat_minor": 5
}
