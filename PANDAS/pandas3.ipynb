{
 "cells": [
  {
   "cell_type": "code",
   "execution_count": 1,
   "id": "7a51da75-6f0b-4094-8623-f1de9e7ecb5f",
   "metadata": {},
   "outputs": [
    {
     "name": "stdout",
     "output_type": "stream",
     "text": [
      "2024-06-23\n"
     ]
    }
   ],
   "source": [
    "from datetime import date\n",
    "print(date.today())"
   ]
  },
  {
   "cell_type": "code",
   "execution_count": 2,
   "id": "24a071a4-60e1-4adf-9147-7b4f40ee2337",
   "metadata": {},
   "outputs": [],
   "source": [
    "# select multiple columns in pandas"
   ]
  },
  {
   "cell_type": "code",
   "execution_count": 4,
   "id": "bef64204-0fab-413b-8216-a8676f366ecf",
   "metadata": {},
   "outputs": [],
   "source": [
    "import pandas as pd"
   ]
  },
  {
   "cell_type": "code",
   "execution_count": 48,
   "id": "ce61e614-10de-4dc9-afd4-ac34d2a954dc",
   "metadata": {},
   "outputs": [
    {
     "name": "stdout",
     "output_type": "stream",
     "text": [
      "  name  age gender state\n",
      "0    a   12      m    ap\n",
      "1    b   53      f    up\n",
      "2    c   34      m    mp\n",
      "3    d   42      f    uk\n"
     ]
    }
   ],
   "source": [
    "d1={\n",
    "    'name':['a','b','c','d'],\n",
    "    'age':[12,53,34,42],\n",
    "    'gender':['m','f','m','f'],\n",
    "    'state':['ap','up','mp','uk']\n",
    "}\n",
    "df=pd.DataFrame(d1)\n",
    "print(df)"
   ]
  },
  {
   "cell_type": "code",
   "execution_count": 16,
   "id": "68d00250-3283-4f3b-8722-dadeaeb86fc2",
   "metadata": {},
   "outputs": [
    {
     "name": "stdout",
     "output_type": "stream",
     "text": [
      "  name gender\n",
      "0    a      m\n",
      "1    b      f\n",
      "2    c      m\n",
      "3    d      f\n"
     ]
    }
   ],
   "source": [
    "print(df[['name','gender']])"
   ]
  },
  {
   "cell_type": "code",
   "execution_count": 20,
   "id": "f829c610-e886-4cef-a97e-49caf55baf0f",
   "metadata": {},
   "outputs": [
    {
     "name": "stdout",
     "output_type": "stream",
     "text": [
      "   age  roll\n",
      "0   12    10\n",
      "1   23    11\n",
      "2   34    12\n",
      "3   42    13\n"
     ]
    }
   ],
   "source": [
    "# selecting coloumns in range\n",
    "print(df[df.columns[1:3]])\n"
   ]
  },
  {
   "cell_type": "code",
   "execution_count": 19,
   "id": "0e747c34-20f2-4dea-8528-10630f320439",
   "metadata": {},
   "outputs": [
    {
     "name": "stdout",
     "output_type": "stream",
     "text": [
      "  name  age  roll gender state\n",
      "0    a   12    10      m    ap\n",
      "1    b   23    11      f    up\n",
      "2    c   34    12      m    mp\n",
      "3    d   42    13      f    uk\n"
     ]
    }
   ],
   "source": [
    "# insert column --add column at particular position\n",
    "# assign column --add column as end\n",
    "# insert(position,col name, col)\n",
    "\n",
    "df.insert(2,\"roll\",[10,11,12,13])\n",
    "print(df)"
   ]
  },
  {
   "cell_type": "code",
   "execution_count": 25,
   "id": "d37d517e-ad89-4bc2-a352-ebc2c3b79641",
   "metadata": {},
   "outputs": [
    {
     "data": {
      "text/html": [
       "<div>\n",
       "<style scoped>\n",
       "    .dataframe tbody tr th:only-of-type {\n",
       "        vertical-align: middle;\n",
       "    }\n",
       "\n",
       "    .dataframe tbody tr th {\n",
       "        vertical-align: top;\n",
       "    }\n",
       "\n",
       "    .dataframe thead th {\n",
       "        text-align: right;\n",
       "    }\n",
       "</style>\n",
       "<table border=\"1\" class=\"dataframe\">\n",
       "  <thead>\n",
       "    <tr style=\"text-align: right;\">\n",
       "      <th></th>\n",
       "      <th>name</th>\n",
       "      <th>age</th>\n",
       "      <th>roll</th>\n",
       "      <th>gender</th>\n",
       "      <th>state</th>\n",
       "      <th>rating</th>\n",
       "    </tr>\n",
       "  </thead>\n",
       "  <tbody>\n",
       "    <tr>\n",
       "      <th>0</th>\n",
       "      <td>a</td>\n",
       "      <td>12</td>\n",
       "      <td>10</td>\n",
       "      <td>m</td>\n",
       "      <td>ap</td>\n",
       "      <td>1</td>\n",
       "    </tr>\n",
       "    <tr>\n",
       "      <th>1</th>\n",
       "      <td>b</td>\n",
       "      <td>23</td>\n",
       "      <td>11</td>\n",
       "      <td>f</td>\n",
       "      <td>up</td>\n",
       "      <td>2</td>\n",
       "    </tr>\n",
       "    <tr>\n",
       "      <th>2</th>\n",
       "      <td>c</td>\n",
       "      <td>34</td>\n",
       "      <td>12</td>\n",
       "      <td>m</td>\n",
       "      <td>mp</td>\n",
       "      <td>3</td>\n",
       "    </tr>\n",
       "    <tr>\n",
       "      <th>3</th>\n",
       "      <td>d</td>\n",
       "      <td>42</td>\n",
       "      <td>13</td>\n",
       "      <td>f</td>\n",
       "      <td>uk</td>\n",
       "      <td>4</td>\n",
       "    </tr>\n",
       "  </tbody>\n",
       "</table>\n",
       "</div>"
      ],
      "text/plain": [
       "  name  age  roll gender state  rating\n",
       "0    a   12    10      m    ap       1\n",
       "1    b   23    11      f    up       2\n",
       "2    c   34    12      m    mp       3\n",
       "3    d   42    13      f    uk       4"
      ]
     },
     "execution_count": 25,
     "metadata": {},
     "output_type": "execute_result"
    }
   ],
   "source": [
    "df.assign(rating=[1,2,3,4])"
   ]
  },
  {
   "cell_type": "code",
   "execution_count": 27,
   "id": "0b18492e-12b1-4ce6-b451-43b12261fa70",
   "metadata": {},
   "outputs": [
    {
     "name": "stdout",
     "output_type": "stream",
     "text": [
      "  name  age  roll gender state  rating\n",
      "0    a   12    10      m    ap       1\n",
      "1    b   23    11      f    up       2\n",
      "2    c   34    12      m    mp       3\n",
      "3    d   42    13      f    uk       4\n"
     ]
    }
   ],
   "source": [
    "print(df.assign(rating=[1,2,3,4]))"
   ]
  },
  {
   "cell_type": "code",
   "execution_count": 31,
   "id": "b2e7dda0-576d-4477-a38c-dc4ea1c8783a",
   "metadata": {},
   "outputs": [
    {
     "data": {
      "text/html": [
       "<div>\n",
       "<style scoped>\n",
       "    .dataframe tbody tr th:only-of-type {\n",
       "        vertical-align: middle;\n",
       "    }\n",
       "\n",
       "    .dataframe tbody tr th {\n",
       "        vertical-align: top;\n",
       "    }\n",
       "\n",
       "    .dataframe thead th {\n",
       "        text-align: right;\n",
       "    }\n",
       "</style>\n",
       "<table border=\"1\" class=\"dataframe\">\n",
       "  <thead>\n",
       "    <tr style=\"text-align: right;\">\n",
       "      <th></th>\n",
       "      <th>name</th>\n",
       "      <th>age</th>\n",
       "      <th>roll</th>\n",
       "      <th>gender</th>\n",
       "    </tr>\n",
       "  </thead>\n",
       "  <tbody>\n",
       "    <tr>\n",
       "      <th>0</th>\n",
       "      <td>a</td>\n",
       "      <td>12</td>\n",
       "      <td>10</td>\n",
       "      <td>m</td>\n",
       "    </tr>\n",
       "    <tr>\n",
       "      <th>1</th>\n",
       "      <td>b</td>\n",
       "      <td>23</td>\n",
       "      <td>11</td>\n",
       "      <td>f</td>\n",
       "    </tr>\n",
       "    <tr>\n",
       "      <th>2</th>\n",
       "      <td>c</td>\n",
       "      <td>34</td>\n",
       "      <td>12</td>\n",
       "      <td>m</td>\n",
       "    </tr>\n",
       "    <tr>\n",
       "      <th>3</th>\n",
       "      <td>d</td>\n",
       "      <td>42</td>\n",
       "      <td>13</td>\n",
       "      <td>f</td>\n",
       "    </tr>\n",
       "  </tbody>\n",
       "</table>\n",
       "</div>"
      ],
      "text/plain": [
       "  name  age  roll gender\n",
       "0    a   12    10      m\n",
       "1    b   23    11      f\n",
       "2    c   34    12      m\n",
       "3    d   42    13      f"
      ]
     },
     "execution_count": 31,
     "metadata": {},
     "output_type": "execute_result"
    }
   ],
   "source": [
    "# Delete ROws and Columns using Drop\n",
    "df.drop('state',axis='columns')\n"
   ]
  },
  {
   "cell_type": "code",
   "execution_count": 35,
   "id": "18b60526-7cce-49ca-8cf1-6bdecd1919a9",
   "metadata": {},
   "outputs": [
    {
     "data": {
      "text/html": [
       "<div>\n",
       "<style scoped>\n",
       "    .dataframe tbody tr th:only-of-type {\n",
       "        vertical-align: middle;\n",
       "    }\n",
       "\n",
       "    .dataframe tbody tr th {\n",
       "        vertical-align: top;\n",
       "    }\n",
       "\n",
       "    .dataframe thead th {\n",
       "        text-align: right;\n",
       "    }\n",
       "</style>\n",
       "<table border=\"1\" class=\"dataframe\">\n",
       "  <thead>\n",
       "    <tr style=\"text-align: right;\">\n",
       "      <th></th>\n",
       "      <th>name</th>\n",
       "      <th>roll</th>\n",
       "      <th>gender</th>\n",
       "      <th>state</th>\n",
       "    </tr>\n",
       "  </thead>\n",
       "  <tbody>\n",
       "    <tr>\n",
       "      <th>0</th>\n",
       "      <td>a</td>\n",
       "      <td>10</td>\n",
       "      <td>m</td>\n",
       "      <td>ap</td>\n",
       "    </tr>\n",
       "    <tr>\n",
       "      <th>1</th>\n",
       "      <td>b</td>\n",
       "      <td>11</td>\n",
       "      <td>f</td>\n",
       "      <td>up</td>\n",
       "    </tr>\n",
       "    <tr>\n",
       "      <th>2</th>\n",
       "      <td>c</td>\n",
       "      <td>12</td>\n",
       "      <td>m</td>\n",
       "      <td>mp</td>\n",
       "    </tr>\n",
       "    <tr>\n",
       "      <th>3</th>\n",
       "      <td>d</td>\n",
       "      <td>13</td>\n",
       "      <td>f</td>\n",
       "      <td>uk</td>\n",
       "    </tr>\n",
       "  </tbody>\n",
       "</table>\n",
       "</div>"
      ],
      "text/plain": [
       "  name  roll gender state\n",
       "0    a    10      m    ap\n",
       "1    b    11      f    up\n",
       "2    c    12      m    mp\n",
       "3    d    13      f    uk"
      ]
     },
     "execution_count": 35,
     "metadata": {},
     "output_type": "execute_result"
    }
   ],
   "source": [
    "df.drop('age',axis=1)\n",
    "# to drop columns mention the column name and axis=1"
   ]
  },
  {
   "cell_type": "code",
   "execution_count": 36,
   "id": "69db05f9-a1d2-46fb-ab61-6391fbaeed96",
   "metadata": {},
   "outputs": [
    {
     "data": {
      "text/html": [
       "<div>\n",
       "<style scoped>\n",
       "    .dataframe tbody tr th:only-of-type {\n",
       "        vertical-align: middle;\n",
       "    }\n",
       "\n",
       "    .dataframe tbody tr th {\n",
       "        vertical-align: top;\n",
       "    }\n",
       "\n",
       "    .dataframe thead th {\n",
       "        text-align: right;\n",
       "    }\n",
       "</style>\n",
       "<table border=\"1\" class=\"dataframe\">\n",
       "  <thead>\n",
       "    <tr style=\"text-align: right;\">\n",
       "      <th></th>\n",
       "      <th>name</th>\n",
       "      <th>age</th>\n",
       "      <th>roll</th>\n",
       "      <th>gender</th>\n",
       "      <th>state</th>\n",
       "    </tr>\n",
       "  </thead>\n",
       "  <tbody>\n",
       "    <tr>\n",
       "      <th>0</th>\n",
       "      <td>a</td>\n",
       "      <td>12</td>\n",
       "      <td>10</td>\n",
       "      <td>m</td>\n",
       "      <td>ap</td>\n",
       "    </tr>\n",
       "    <tr>\n",
       "      <th>1</th>\n",
       "      <td>b</td>\n",
       "      <td>23</td>\n",
       "      <td>11</td>\n",
       "      <td>f</td>\n",
       "      <td>up</td>\n",
       "    </tr>\n",
       "    <tr>\n",
       "      <th>3</th>\n",
       "      <td>d</td>\n",
       "      <td>42</td>\n",
       "      <td>13</td>\n",
       "      <td>f</td>\n",
       "      <td>uk</td>\n",
       "    </tr>\n",
       "  </tbody>\n",
       "</table>\n",
       "</div>"
      ],
      "text/plain": [
       "  name  age  roll gender state\n",
       "0    a   12    10      m    ap\n",
       "1    b   23    11      f    up\n",
       "3    d   42    13      f    uk"
      ]
     },
     "execution_count": 36,
     "metadata": {},
     "output_type": "execute_result"
    }
   ],
   "source": [
    "df.drop(2,axis=0)\n",
    "# to drop the rows mention the index and the axis=0"
   ]
  },
  {
   "cell_type": "code",
   "execution_count": 38,
   "id": "e0aee7f1-2f3a-476f-b145-52245cd51efa",
   "metadata": {},
   "outputs": [],
   "source": [
    "# Iterate ROWS and COLUMNS\n",
    "# --iterrows\n",
    "# --itertuples"
   ]
  },
  {
   "cell_type": "code",
   "execution_count": 39,
   "id": "425dc068-68d0-4939-b08e-98f54f2db605",
   "metadata": {},
   "outputs": [
    {
     "name": "stdout",
     "output_type": "stream",
     "text": [
      "  name  age  roll gender state\n",
      "0    a   12    10      m    ap\n",
      "1    b   23    11      f    up\n",
      "2    c   34    12      m    mp\n",
      "3    d   42    13      f    uk\n"
     ]
    }
   ],
   "source": [
    "print(df)"
   ]
  },
  {
   "cell_type": "code",
   "execution_count": 40,
   "id": "3d252db1-b02d-42ca-870f-ca84d64f96f7",
   "metadata": {},
   "outputs": [
    {
     "name": "stdout",
     "output_type": "stream",
     "text": [
      "(0, name       a\n",
      "age       12\n",
      "roll      10\n",
      "gender     m\n",
      "state     ap\n",
      "Name: 0, dtype: object)\n",
      "(1, name       b\n",
      "age       23\n",
      "roll      11\n",
      "gender     f\n",
      "state     up\n",
      "Name: 1, dtype: object)\n",
      "(2, name       c\n",
      "age       34\n",
      "roll      12\n",
      "gender     m\n",
      "state     mp\n",
      "Name: 2, dtype: object)\n",
      "(3, name       d\n",
      "age       42\n",
      "roll      13\n",
      "gender     f\n",
      "state     uk\n",
      "Name: 3, dtype: object)\n"
     ]
    }
   ],
   "source": [
    "for row in df.iterrows():\n",
    "    print(row)"
   ]
  },
  {
   "cell_type": "code",
   "execution_count": 41,
   "id": "7295f7b8-943b-4a6e-b9c1-a7f5a4555d83",
   "metadata": {},
   "outputs": [
    {
     "name": "stdout",
     "output_type": "stream",
     "text": [
      "Pandas(Index=0, name='a', age=12, roll=10, gender='m', state='ap')\n",
      "Pandas(Index=1, name='b', age=23, roll=11, gender='f', state='up')\n",
      "Pandas(Index=2, name='c', age=34, roll=12, gender='m', state='mp')\n",
      "Pandas(Index=3, name='d', age=42, roll=13, gender='f', state='uk')\n"
     ]
    }
   ],
   "source": [
    "for tuple in df.itertuples():\n",
    "    print(tuple)"
   ]
  },
  {
   "cell_type": "code",
   "execution_count": 43,
   "id": "e5d35163-2ba1-4f9d-af1b-8db5fa6a1430",
   "metadata": {},
   "outputs": [
    {
     "name": "stdout",
     "output_type": "stream",
     "text": [
      "('name', 0    a\n",
      "1    b\n",
      "2    c\n",
      "3    d\n",
      "Name: name, dtype: object)\n",
      "('age', 0    12\n",
      "1    23\n",
      "2    34\n",
      "3    42\n",
      "Name: age, dtype: int64)\n",
      "('roll', 0    10\n",
      "1    11\n",
      "2    12\n",
      "3    13\n",
      "Name: roll, dtype: int64)\n",
      "('gender', 0    m\n",
      "1    f\n",
      "2    m\n",
      "3    f\n",
      "Name: gender, dtype: object)\n",
      "('state', 0    ap\n",
      "1    up\n",
      "2    mp\n",
      "3    uk\n",
      "Name: state, dtype: object)\n"
     ]
    }
   ],
   "source": [
    "# Iteration over columns using items()\n",
    "for col in df.items():\n",
    "    print(col)"
   ]
  },
  {
   "cell_type": "code",
   "execution_count": 44,
   "id": "5a51d2d6-f124-4cec-9379-d387bd3b09dd",
   "metadata": {},
   "outputs": [
    {
     "name": "stdout",
     "output_type": "stream",
     "text": [
      "name\n",
      "0    a\n",
      "1    b\n",
      "2    c\n",
      "3    d\n",
      "Name: name, dtype: object\n",
      "age\n",
      "0    12\n",
      "1    23\n",
      "2    34\n",
      "3    42\n",
      "Name: age, dtype: int64\n",
      "roll\n",
      "0    10\n",
      "1    11\n",
      "2    12\n",
      "3    13\n",
      "Name: roll, dtype: int64\n",
      "gender\n",
      "0    m\n",
      "1    f\n",
      "2    m\n",
      "3    f\n",
      "Name: gender, dtype: object\n",
      "state\n",
      "0    ap\n",
      "1    up\n",
      "2    mp\n",
      "3    uk\n",
      "Name: state, dtype: object\n"
     ]
    }
   ],
   "source": [
    "for a,b in df.items():\n",
    "    print(a)\n",
    "    print(b)"
   ]
  },
  {
   "cell_type": "code",
   "execution_count": 49,
   "id": "0ddc39e6-6ec0-426c-8f63-bb1bbf833d4b",
   "metadata": {},
   "outputs": [
    {
     "name": "stdout",
     "output_type": "stream",
     "text": [
      "  name  age gender state\n",
      "0    a   12      m    ap\n",
      "1    b   53      f    up\n",
      "2    c   34      m    mp\n",
      "3    d   42      f    uk\n",
      "  name  age gender state\n",
      "0    a   12      m    ap\n",
      "2    c   34      m    mp\n",
      "3    d   42      f    uk\n",
      "1    b   53      f    up\n"
     ]
    }
   ],
   "source": [
    "# Sorting in Pandas\n",
    "print(df)\n",
    "print(df.sort_values(by='age'))"
   ]
  },
  {
   "cell_type": "code",
   "execution_count": 58,
   "id": "56e5dddb-b48a-40d5-873b-ca77ca28a55a",
   "metadata": {},
   "outputs": [
    {
     "name": "stdout",
     "output_type": "stream",
     "text": [
      "  name  age gender state\n",
      "1    b   53      f    up\n",
      "3    d   42      f    uk\n",
      "2    c   34      m    mp\n",
      "0    a   12      m    ap\n"
     ]
    }
   ],
   "source": [
    "print(df.sort_values(by='age' , ascending=False))"
   ]
  },
  {
   "cell_type": "code",
   "execution_count": 59,
   "id": "122d2e0e-2917-4b3c-8bfb-bb51a7346016",
   "metadata": {},
   "outputs": [
    {
     "name": "stdout",
     "output_type": "stream",
     "text": [
      "  name  marks\n",
      "0    a     88\n",
      "1    b     94\n",
      "2    c     34\n",
      "3    d     99\n",
      "4    e     88\n"
     ]
    }
   ],
   "source": [
    "data={\n",
    "    'name':['a','b','c','d','e'],\n",
    "    'marks':[88,94,34,99,88]\n",
    "}\n",
    "dframe=pd.DataFrame(data)\n",
    "print(dframe)"
   ]
  },
  {
   "cell_type": "code",
   "execution_count": 61,
   "id": "9571f0bf-0aa8-4dbf-b05c-71dcffdd4988",
   "metadata": {},
   "outputs": [
    {
     "name": "stdout",
     "output_type": "stream",
     "text": [
      "0    False\n",
      "1    False\n",
      "2    False\n",
      "3    False\n",
      "4     True\n",
      "Name: marks, dtype: bool\n"
     ]
    }
   ],
   "source": [
    "print(dframe['marks'].duplicated())"
   ]
  },
  {
   "cell_type": "code",
   "execution_count": 63,
   "id": "1d367d62-d51d-43bd-a271-58944170a22e",
   "metadata": {},
   "outputs": [
    {
     "name": "stdout",
     "output_type": "stream",
     "text": [
      "0    False\n",
      "1    False\n",
      "2    False\n",
      "3    False\n",
      "4    False\n",
      "dtype: bool\n"
     ]
    }
   ],
   "source": [
    "print(dframe.duplicated())"
   ]
  },
  {
   "cell_type": "code",
   "execution_count": 68,
   "id": "9324d379-1f53-4fff-aa7a-4acdb7358375",
   "metadata": {},
   "outputs": [
    {
     "data": {
      "text/plain": [
       "0    88\n",
       "1    94\n",
       "2    34\n",
       "3    99\n",
       "Name: marks, dtype: int64"
      ]
     },
     "execution_count": 68,
     "metadata": {},
     "output_type": "execute_result"
    }
   ],
   "source": [
    "dframe['marks'].drop_duplicates()"
   ]
  },
  {
   "cell_type": "markdown",
   "id": "9f4764f6-69ae-4f7d-9c7d-f98f36ce136c",
   "metadata": {},
   "source": [
    "### Data Cleaning"
   ]
  },
  {
   "cell_type": "code",
   "execution_count": 71,
   "id": "e26c9110-9335-463b-baf8-01040f6ca877",
   "metadata": {},
   "outputs": [
    {
     "name": "stdout",
     "output_type": "stream",
     "text": [
      "  name  marks\n",
      "0    a   75.0\n",
      "1    b   46.0\n",
      "2    c   97.0\n",
      "3    d   57.0\n",
      "4    e   72.0\n",
      "5    f    NaN\n",
      "6    g   62.0\n",
      "7    h    NaN\n",
      "8    i   86.0\n",
      "9    j    NaN\n"
     ]
    }
   ],
   "source": [
    "dc=pd.read_csv(\"C:\\\\Users\\\\DELL\\\\OneDrive\\\\Desktop\\\\Clean.csv\")\n",
    "print(pd.read_csv(\"C:\\\\Users\\\\DELL\\\\OneDrive\\\\Desktop\\\\Clean.csv\"))"
   ]
  },
  {
   "cell_type": "code",
   "execution_count": 70,
   "id": "95a30574-61b6-4dfd-8835-444071419b0b",
   "metadata": {},
   "outputs": [],
   "source": [
    "# isnull() --replaces null values with True\n",
    "# notnull() --replaces not null values with True\n",
    "# dropna() --drops the rows with null values\n",
    "# fillna(value) --fills the null values with specific value"
   ]
  },
  {
   "cell_type": "code",
   "execution_count": 72,
   "id": "0603f552-ed8e-4acc-8b05-0af6c66314ea",
   "metadata": {},
   "outputs": [
    {
     "name": "stdout",
     "output_type": "stream",
     "text": [
      "    name  marks\n",
      "0  False  False\n",
      "1  False  False\n",
      "2  False  False\n",
      "3  False  False\n",
      "4  False  False\n",
      "5  False   True\n",
      "6  False  False\n",
      "7  False   True\n",
      "8  False  False\n",
      "9  False   True\n"
     ]
    }
   ],
   "source": [
    "print(dc.isnull())"
   ]
  },
  {
   "cell_type": "code",
   "execution_count": 73,
   "id": "44244d44-e0dd-44d6-9be5-62db1734006d",
   "metadata": {},
   "outputs": [
    {
     "name": "stdout",
     "output_type": "stream",
     "text": [
      "0    False\n",
      "1    False\n",
      "2    False\n",
      "3    False\n",
      "4    False\n",
      "5     True\n",
      "6    False\n",
      "7     True\n",
      "8    False\n",
      "9     True\n",
      "Name: marks, dtype: bool\n"
     ]
    }
   ],
   "source": [
    "print(dc['marks'].isnull())"
   ]
  },
  {
   "cell_type": "code",
   "execution_count": 75,
   "id": "2b1bdea8-7007-4ac8-b881-8332663ae681",
   "metadata": {},
   "outputs": [
    {
     "name": "stdout",
     "output_type": "stream",
     "text": [
      "0     True\n",
      "1     True\n",
      "2     True\n",
      "3     True\n",
      "4     True\n",
      "5    False\n",
      "6     True\n",
      "7    False\n",
      "8     True\n",
      "9    False\n",
      "Name: marks, dtype: bool\n"
     ]
    }
   ],
   "source": [
    "print(dc['marks'].notnull())"
   ]
  },
  {
   "cell_type": "code",
   "execution_count": 76,
   "id": "711eab30-3d2b-437f-8f4d-99d58f75b178",
   "metadata": {},
   "outputs": [
    {
     "name": "stdout",
     "output_type": "stream",
     "text": [
      "0    75.0\n",
      "1    46.0\n",
      "2    97.0\n",
      "3    57.0\n",
      "4    72.0\n",
      "6    62.0\n",
      "8    86.0\n",
      "Name: marks, dtype: float64\n"
     ]
    }
   ],
   "source": [
    "print(dc['marks'].dropna())"
   ]
  },
  {
   "cell_type": "code",
   "execution_count": 77,
   "id": "dc13ca85-7189-48ca-b6f8-0abbdae3e2f1",
   "metadata": {},
   "outputs": [
    {
     "name": "stdout",
     "output_type": "stream",
     "text": [
      "0    75.0\n",
      "1    46.0\n",
      "2    97.0\n",
      "3    57.0\n",
      "4    72.0\n",
      "5     0.0\n",
      "6    62.0\n",
      "7     0.0\n",
      "8    86.0\n",
      "9     0.0\n",
      "Name: marks, dtype: float64\n"
     ]
    }
   ],
   "source": [
    "print(dc['marks'].fillna(0))"
   ]
  },
  {
   "cell_type": "code",
   "execution_count": 78,
   "id": "2af04e39-30b3-456a-973a-cade8a830444",
   "metadata": {},
   "outputs": [
    {
     "name": "stdout",
     "output_type": "stream",
     "text": [
      "0    75.0\n",
      "1    46.0\n",
      "2    97.0\n",
      "3    57.0\n",
      "4    72.0\n",
      "5      AB\n",
      "6    62.0\n",
      "7      AB\n",
      "8    86.0\n",
      "9      AB\n",
      "Name: marks, dtype: object\n"
     ]
    }
   ],
   "source": [
    "print(dc['marks'].fillna('AB'))"
   ]
  },
  {
   "cell_type": "code",
   "execution_count": 79,
   "id": "99179b1c-b3e6-46bf-ba58-7a262e81fefd",
   "metadata": {},
   "outputs": [
    {
     "name": "stdout",
     "output_type": "stream",
     "text": [
      "0    Alice\n",
      "1     Alex\n",
      "2      BoB\n",
      "3      cat\n",
      "4     Doll\n",
      "dtype: object\n"
     ]
    }
   ],
   "source": [
    "# OPERATIONS ON STRING\n",
    "series=['Alice','Alex','BoB','cat','Doll']\n",
    "sp=pd.Series(series)\n",
    "print(sp)"
   ]
  },
  {
   "cell_type": "code",
   "execution_count": 80,
   "id": "9a9e9cbf-7554-4b8f-b95e-7c4cdcb49717",
   "metadata": {},
   "outputs": [
    {
     "name": "stdout",
     "output_type": "stream",
     "text": [
      "0    alice\n",
      "1     alex\n",
      "2      bob\n",
      "3      cat\n",
      "4     doll\n",
      "dtype: object\n"
     ]
    }
   ],
   "source": [
    "print(sp.str.lower())"
   ]
  },
  {
   "cell_type": "code",
   "execution_count": 81,
   "id": "b8a4cbf1-d9c6-43f7-8442-8f5adecf0c18",
   "metadata": {},
   "outputs": [
    {
     "name": "stdout",
     "output_type": "stream",
     "text": [
      "0    ALICE\n",
      "1     ALEX\n",
      "2      BOB\n",
      "3      CAT\n",
      "4     DOLL\n",
      "dtype: object\n"
     ]
    }
   ],
   "source": [
    "print(sp.str.upper())"
   ]
  },
  {
   "cell_type": "code",
   "execution_count": 82,
   "id": "071405ef-c58c-4b7d-ad2a-3561d08ce146",
   "metadata": {},
   "outputs": [
    {
     "name": "stdout",
     "output_type": "stream",
     "text": [
      "0    Alice\n",
      "1     Alex\n",
      "2      Bob\n",
      "3      Cat\n",
      "4     Doll\n",
      "dtype: object\n"
     ]
    }
   ],
   "source": [
    "print(sp.str.title())\n"
   ]
  },
  {
   "cell_type": "code",
   "execution_count": 84,
   "id": "c22f62e6-e1e4-4954-a079-585cd5c877d5",
   "metadata": {},
   "outputs": [
    {
     "name": "stdout",
     "output_type": "stream",
     "text": [
      "0    5\n",
      "1    4\n",
      "2    3\n",
      "3    3\n",
      "4    4\n",
      "dtype: int64\n"
     ]
    }
   ],
   "source": [
    "print(sp.str.len())\n",
    "# Gives the length of the String"
   ]
  },
  {
   "cell_type": "code",
   "execution_count": 86,
   "id": "c1f14957-78bc-4b6b-9d3f-9c4c67eb2582",
   "metadata": {},
   "outputs": [
    {
     "name": "stdout",
     "output_type": "stream",
     "text": [
      "5\n"
     ]
    }
   ],
   "source": [
    "# count() --counts the non null values \n",
    "print(sp.count())"
   ]
  },
  {
   "cell_type": "code",
   "execution_count": 92,
   "id": "51732f46-dd18-4dfa-98a7-3ae0ce5fe8d5",
   "metadata": {},
   "outputs": [
    {
     "name": "stdout",
     "output_type": "stream",
     "text": [
      "0    False\n",
      "1     True\n",
      "2    False\n",
      "3    False\n",
      "4    False\n",
      "dtype: bool\n",
      "\n",
      " 0    False\n",
      "1    False\n",
      "2    False\n",
      "3    False\n",
      "4    False\n",
      "dtype: bool\n"
     ]
    }
   ],
   "source": [
    "# contains() --to search for a value\n",
    "print(sp.str.contains('Alex'))\n",
    "# contains() is case sensitive\n",
    "print(\"\\n\",sp.str.contains('alex'))"
   ]
  },
  {
   "cell_type": "markdown",
   "id": "4957fb55-ee5c-435c-a6fb-557a5e48b86c",
   "metadata": {},
   "source": [
    "### Date and Time in Pandas"
   ]
  },
  {
   "cell_type": "code",
   "execution_count": 93,
   "id": "7eefbdc7-b357-4567-ab3a-39dcef2349ed",
   "metadata": {},
   "outputs": [
    {
     "name": "stdout",
     "output_type": "stream",
     "text": [
      "2024-06-23 23:37:49.430560\n"
     ]
    }
   ],
   "source": [
    "print(pd.Timestamp.now())"
   ]
  },
  {
   "cell_type": "code",
   "execution_count": 100,
   "id": "9953f2bb-4b5e-4db4-9650-79c13cd8032f",
   "metadata": {},
   "outputs": [
    {
     "name": "stdout",
     "output_type": "stream",
     "text": [
      "6\n"
     ]
    }
   ],
   "source": [
    "timestamp=pd.Timestamp.now()\n",
    "print(timestamp.dayofweek)"
   ]
  },
  {
   "cell_type": "code",
   "execution_count": 101,
   "id": "26f5da79-934a-47fa-acd3-5cc2507edb6f",
   "metadata": {},
   "outputs": [
    {
     "name": "stdout",
     "output_type": "stream",
     "text": [
      "175\n"
     ]
    }
   ],
   "source": [
    "print(timestamp.dayofyear)"
   ]
  },
  {
   "cell_type": "code",
   "execution_count": 103,
   "id": "1f214a09-ee14-42e2-b23a-fc191f2c2c46",
   "metadata": {},
   "outputs": [
    {
     "name": "stdout",
     "output_type": "stream",
     "text": [
      "30\n"
     ]
    }
   ],
   "source": [
    "print(timestamp.daysinmonth)"
   ]
  },
  {
   "cell_type": "code",
   "execution_count": 107,
   "id": "2478bcbe-9748-4807-811a-ffa26930d10e",
   "metadata": {},
   "outputs": [
    {
     "name": "stdout",
     "output_type": "stream",
     "text": [
      "True\n"
     ]
    }
   ],
   "source": [
    "print(timestamp.is_leap_year)"
   ]
  },
  {
   "cell_type": "code",
   "execution_count": 108,
   "id": "d9d94b2a-56b0-45c5-a95c-f86e399ebe47",
   "metadata": {},
   "outputs": [
    {
     "name": "stdout",
     "output_type": "stream",
     "text": [
      "False\n"
     ]
    }
   ],
   "source": [
    "print(timestamp.is_month_end)"
   ]
  },
  {
   "cell_type": "code",
   "execution_count": 109,
   "id": "bf7e48fb-0d5d-4a73-94bc-d80550e63c8f",
   "metadata": {},
   "outputs": [
    {
     "name": "stdout",
     "output_type": "stream",
     "text": [
      "False\n"
     ]
    }
   ],
   "source": [
    "print(timestamp.is_month_start)"
   ]
  },
  {
   "cell_type": "code",
   "execution_count": 110,
   "id": "d5288b76-4298-456a-8037-d86111138e1a",
   "metadata": {},
   "outputs": [
    {
     "name": "stdout",
     "output_type": "stream",
     "text": [
      "False\n"
     ]
    }
   ],
   "source": [
    "print(timestamp.is_year_end)"
   ]
  },
  {
   "cell_type": "code",
   "execution_count": 112,
   "id": "9a1d74d3-0b9f-48a9-95f5-6ab39bf08669",
   "metadata": {},
   "outputs": [
    {
     "name": "stdout",
     "output_type": "stream",
     "text": [
      "False\n"
     ]
    }
   ],
   "source": [
    "print(timestamp.is_year_start)"
   ]
  },
  {
   "cell_type": "code",
   "execution_count": 113,
   "id": "8ed570c2-04a7-4477-8e50-a1a701d065d7",
   "metadata": {},
   "outputs": [
    {
     "data": {
      "text/plain": [
       "'Remove whiteSpace or character in series or DataFrame'"
      ]
     },
     "execution_count": 113,
     "metadata": {},
     "output_type": "execute_result"
    }
   ],
   "source": [
    "'''Remove whiteSpace or character in series or DataFrame'''"
   ]
  },
  {
   "cell_type": "code",
   "execution_count": 115,
   "id": "5771522f-402f-44e0-9b17-1564f0864d4f",
   "metadata": {},
   "outputs": [
    {
     "name": "stdout",
     "output_type": "stream",
     "text": [
      "0    \\t Alice \\t\n",
      "1         Alex\\t\n",
      "2          \\tBoB\n",
      "3        \\t\\tcat\n",
      "4       Doll\\t\\t\n",
      "dtype: object\n"
     ]
    }
   ],
   "source": [
    "# using --strip() --lstrip() --rstrip()\n",
    "series=[\"\\t Alice \\t\",'Alex\\t','\\tBoB','\\t\\tcat','Doll\\t\\t']\n",
    "sp=pd.Series(series)\n",
    "print(sp)"
   ]
  },
  {
   "cell_type": "code",
   "execution_count": 116,
   "id": "3fb6661b-bcf0-44a5-9baf-d98f61deccbd",
   "metadata": {},
   "outputs": [
    {
     "name": "stdout",
     "output_type": "stream",
     "text": [
      "0    Alice\n",
      "1     Alex\n",
      "2      BoB\n",
      "3      cat\n",
      "4     Doll\n",
      "dtype: object\n"
     ]
    }
   ],
   "source": [
    "print(sp.str.strip())"
   ]
  },
  {
   "cell_type": "code",
   "execution_count": 117,
   "id": "0022cf21-f8a6-4448-bec4-90caea2cc1d2",
   "metadata": {},
   "outputs": [
    {
     "name": "stdout",
     "output_type": "stream",
     "text": [
      "0    Alice \\t\n",
      "1      Alex\\t\n",
      "2         BoB\n",
      "3         cat\n",
      "4    Doll\\t\\t\n",
      "dtype: object\n"
     ]
    }
   ],
   "source": [
    "print(sp.str.lstrip())"
   ]
  },
  {
   "cell_type": "code",
   "execution_count": 118,
   "id": "b4effc25-6f38-4b31-b360-e947d30fab30",
   "metadata": {},
   "outputs": [
    {
     "name": "stdout",
     "output_type": "stream",
     "text": [
      "0    \\t Alice\n",
      "1        Alex\n",
      "2       \\tBoB\n",
      "3     \\t\\tcat\n",
      "4        Doll\n",
      "dtype: object\n"
     ]
    }
   ],
   "source": [
    "print(sp.str.rstrip())"
   ]
  },
  {
   "cell_type": "code",
   "execution_count": 119,
   "id": "6026060e-a020-4933-a9b9-39926859add8",
   "metadata": {},
   "outputs": [
    {
     "name": "stdout",
     "output_type": "stream",
     "text": [
      "  name  age  roll state\n",
      "0    a   12     1    ap\n",
      "1    b   53     2    up\n",
      "2    c   34     3    mp\n",
      "3    d   42     4    uk\n"
     ]
    }
   ],
   "source": [
    "# Grouping the data\n",
    "d1={\n",
    "    'name':['a','b','c','d'],\n",
    "    'age':[12,53,34,42],\n",
    "    'roll':[1,2,3,4],\n",
    "    'state':['ap','up','mp','uk']\n",
    "}\n",
    "df=pd.DataFrame(d1)\n",
    "print(df)"
   ]
  },
  {
   "cell_type": "code",
   "execution_count": null,
   "id": "8de3d113-deec-446e-a03f-db7bcede2080",
   "metadata": {},
   "outputs": [],
   "source": []
  }
 ],
 "metadata": {
  "kernelspec": {
   "display_name": "Python 3 (ipykernel)",
   "language": "python",
   "name": "python3"
  },
  "language_info": {
   "codemirror_mode": {
    "name": "ipython",
    "version": 3
   },
   "file_extension": ".py",
   "mimetype": "text/x-python",
   "name": "python",
   "nbconvert_exporter": "python",
   "pygments_lexer": "ipython3",
   "version": "3.12.0"
  }
 },
 "nbformat": 4,
 "nbformat_minor": 5
}
