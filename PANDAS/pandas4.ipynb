{
 "cells": [
  {
   "cell_type": "code",
   "execution_count": 3,
   "id": "25c14ac7-e760-464f-b880-2250641f165f",
   "metadata": {},
   "outputs": [],
   "source": [
    "import pandas as pd"
   ]
  },
  {
   "cell_type": "code",
   "execution_count": 3,
   "id": "65f7c59e-5fb2-41e3-a297-ee41012a7ee3",
   "metadata": {},
   "outputs": [
    {
     "name": "stdout",
     "output_type": "stream",
     "text": [
      "2024-06-24 12:56:20.611211\n"
     ]
    }
   ],
   "source": [
    "import pandas as pd\n",
    "print(pd.Timestamp.now())"
   ]
  },
  {
   "cell_type": "code",
   "execution_count": 4,
   "id": "95a0cd14-51ec-46f4-95df-ab7417bceb15",
   "metadata": {},
   "outputs": [
    {
     "name": "stdout",
     "output_type": "stream",
     "text": [
      "  name  age  roll state\n",
      "0    a   12     1    ap\n",
      "1    b   53     2    up\n",
      "2    c   34     3    mp\n",
      "3    d   42     4    uk\n"
     ]
    }
   ],
   "source": [
    "# Grouping the data\n",
    "d1={\n",
    "    'name':['a','b','c','d'],\n",
    "    'age':[12,53,34,42],\n",
    "    'roll':[1,2,3,4],\n",
    "    'state':['ap','up','mp','uk']\n",
    "}\n",
    "df=pd.DataFrame(d1)\n",
    "print(df)"
   ]
  },
  {
   "cell_type": "code",
   "execution_count": 9,
   "id": "6f6988e2-0a47-480c-ba32-68b0b0d4bfd3",
   "metadata": {},
   "outputs": [
    {
     "name": "stdout",
     "output_type": "stream",
     "text": [
      "    name  roll state\n",
      "age                 \n",
      "12     a     1    ap\n",
      "34     c     3    mp\n",
      "42     d     4    uk\n",
      "53     b     2    up\n"
     ]
    }
   ],
   "source": [
    "print(df.groupby('age').first())\n",
    "# --gives first five entries"
   ]
  },
  {
   "cell_type": "code",
   "execution_count": 10,
   "id": "9e0e2389-d8c2-4320-ba68-6a2c94d8450d",
   "metadata": {},
   "outputs": [
    {
     "name": "stdout",
     "output_type": "stream",
     "text": [
      "    name  roll state\n",
      "age                 \n",
      "12     a     1    ap\n",
      "34     c     3    mp\n",
      "42     d     4    uk\n",
      "53     b     2    up\n"
     ]
    }
   ],
   "source": [
    "print(df.groupby('age').last())\n",
    "# --gives last five entries"
   ]
  },
  {
   "cell_type": "markdown",
   "id": "311eee95-9f47-46e1-82d6-58b8451eccfc",
   "metadata": {},
   "source": [
    "#### Iterate the Group"
   ]
  },
  {
   "cell_type": "code",
   "execution_count": 15,
   "id": "cfc3a37f-46ff-4618-be42-fdd156e7eb88",
   "metadata": {},
   "outputs": [
    {
     "name": "stdout",
     "output_type": "stream",
     "text": [
      "  name  age  roll state\n",
      "0    a   12     1    ap\n",
      "  name  age  roll state\n",
      "2    c   34     3    mp\n",
      "  name  age  roll state\n",
      "3    d   42     4    uk\n",
      "  name  age  roll state\n",
      "1    b   53     2    up\n"
     ]
    }
   ],
   "source": [
    "for a,b in df.groupby('age'):\n",
    "    # print(a)\n",
    "    print(b)"
   ]
  },
  {
   "cell_type": "code",
   "execution_count": 16,
   "id": "b413feaf-b723-4d2a-b32d-408407606949",
   "metadata": {},
   "outputs": [
    {
     "name": "stdout",
     "output_type": "stream",
     "text": [
      "12\n",
      "  name  age  roll state\n",
      "0    a   12     1    ap\n",
      "34\n",
      "  name  age  roll state\n",
      "2    c   34     3    mp\n",
      "42\n",
      "  name  age  roll state\n",
      "3    d   42     4    uk\n",
      "53\n",
      "  name  age  roll state\n",
      "1    b   53     2    up\n"
     ]
    }
   ],
   "source": [
    "for a,b in df.groupby('age'):\n",
    "    print(a)\n",
    "    print(b)"
   ]
  },
  {
   "cell_type": "code",
   "execution_count": 18,
   "id": "32a5eb94-7a60-48b3-b40c-83aae0a7494d",
   "metadata": {},
   "outputs": [
    {
     "name": "stdout",
     "output_type": "stream",
     "text": [
      "{12: [0], 34: [2], 42: [3], 53: [1]}\n"
     ]
    }
   ],
   "source": [
    "print(df.groupby('age').groups)\n",
    "# --it is returing the index after grouping them by age"
   ]
  },
  {
   "cell_type": "markdown",
   "id": "e3e22c7c-fa3d-48f7-b943-4a136d3645b2",
   "metadata": {},
   "source": [
    "#### Aggregation Operations"
   ]
  },
  {
   "cell_type": "code",
   "execution_count": 6,
   "id": "569f8aba-ac24-48ce-be15-6be0db5e2dc7",
   "metadata": {},
   "outputs": [
    {
     "name": "stdout",
     "output_type": "stream",
     "text": [
      "roll\n",
      "1    12.0\n",
      "2    53.0\n",
      "3    34.0\n",
      "4    42.0\n",
      "Name: age, dtype: float64\n"
     ]
    },
    {
     "name": "stderr",
     "output_type": "stream",
     "text": [
      "C:\\Users\\DELL\\AppData\\Local\\Temp\\ipykernel_18816\\523894890.py:5: FutureWarning: The provided callable <function mean at 0x0000020F6E15D9E0> is currently using SeriesGroupBy.mean. In a future version of pandas, the provided callable will be used directly. To keep current behavior pass the string \"mean\" instead.\n",
      "  print(res['age'].agg(np.mean))\n"
     ]
    }
   ],
   "source": [
    "# mean\n",
    "# size\n",
    "import numpy as np\n",
    "res=df.groupby('roll')\n",
    "print(res['age'].agg(np.mean))"
   ]
  },
  {
   "cell_type": "code",
   "execution_count": 7,
   "id": "f78164be-bfa1-4198-9c7d-7c1214cee4e9",
   "metadata": {},
   "outputs": [
    {
     "name": "stdout",
     "output_type": "stream",
     "text": [
      "roll\n",
      "1    12.0\n",
      "2    53.0\n",
      "3    34.0\n",
      "4    42.0\n",
      "Name: age, dtype: float64\n"
     ]
    }
   ],
   "source": [
    "# mean\n",
    "# size\n",
    "import numpy as np\n",
    "res=df.groupby('roll')\n",
    "print(res['age'].agg('mean'))"
   ]
  },
  {
   "cell_type": "code",
   "execution_count": 8,
   "id": "fbb9b665-4778-4042-991b-c8d2dc8e256a",
   "metadata": {},
   "outputs": [
    {
     "name": "stdout",
     "output_type": "stream",
     "text": [
      "roll\n",
      "1    1\n",
      "2    1\n",
      "3    1\n",
      "4    1\n",
      "Name: age, dtype: int64\n"
     ]
    }
   ],
   "source": [
    "# mean\n",
    "# size\n",
    "import numpy as np\n",
    "res=df.groupby('roll')\n",
    "print(res['age'].agg(np.size))"
   ]
  },
  {
   "cell_type": "code",
   "execution_count": 9,
   "id": "4f70d442-e05b-4759-8388-a50196050db0",
   "metadata": {},
   "outputs": [
    {
     "name": "stdout",
     "output_type": "stream",
     "text": [
      "roll\n",
      "1    1\n",
      "2    1\n",
      "3    1\n",
      "4    1\n",
      "Name: age, dtype: int64\n"
     ]
    }
   ],
   "source": [
    "# mean\n",
    "# size\n",
    "import numpy as np\n",
    "res=df.groupby('roll')\n",
    "print(res['age'].agg('size'))"
   ]
  },
  {
   "cell_type": "markdown",
   "id": "b56ac174-378c-471a-8c4b-4f0db2c8f179",
   "metadata": {},
   "source": [
    "### Statistical Functions"
   ]
  },
  {
   "cell_type": "code",
   "execution_count": 11,
   "id": "96a9459b-d472-4cb6-b650-b12b3abd2fef",
   "metadata": {},
   "outputs": [
    {
     "name": "stdout",
     "output_type": "stream",
     "text": [
      "   c  py  cpp  java\n",
      "0  1  11  111    10\n",
      "1  2  12  222    20\n",
      "2  3  13  333    30\n",
      "3  4  14  444    40\n",
      "4  5  15  555    50\n",
      "5  6  16  666    60\n",
      "6  7  17  777    70\n",
      "7  8  18  888    80\n",
      "8  9  19  999    90\n"
     ]
    }
   ],
   "source": [
    "d={\n",
    "    'c':[1,2,3,4,5,6,7,8,9],\n",
    "    'py':[11,12,13,14,15,16,17,18,19],\n",
    "    'cpp':[111,222,333,444,555,666,777,888,999],\n",
    "    'java':[10,20,30,40,50,60,70,80,90]\n",
    "}\n",
    "dataf=pd.DataFrame(d)\n",
    "print(dataf)"
   ]
  },
  {
   "cell_type": "code",
   "execution_count": 12,
   "id": "30a340b7-0da3-4a15-8aff-971b7491e492",
   "metadata": {},
   "outputs": [
    {
     "name": "stdout",
     "output_type": "stream",
     "text": [
      "c         45\n",
      "py       135\n",
      "cpp     4995\n",
      "java     450\n",
      "dtype: int64\n"
     ]
    }
   ],
   "source": [
    "print(dataf.sum())"
   ]
  },
  {
   "cell_type": "code",
   "execution_count": 13,
   "id": "0a0c825b-ffde-4224-bff3-ce290aba7d94",
   "metadata": {},
   "outputs": [
    {
     "name": "stdout",
     "output_type": "stream",
     "text": [
      "c       9\n",
      "py      9\n",
      "cpp     9\n",
      "java    9\n",
      "dtype: int64\n"
     ]
    }
   ],
   "source": [
    "print(dataf.count())"
   ]
  },
  {
   "cell_type": "code",
   "execution_count": 14,
   "id": "3c0de107-c737-43ac-9e3b-d5e619cddea1",
   "metadata": {},
   "outputs": [
    {
     "name": "stdout",
     "output_type": "stream",
     "text": [
      "c         9\n",
      "py       19\n",
      "cpp     999\n",
      "java     90\n",
      "dtype: int64\n"
     ]
    }
   ],
   "source": [
    "print(dataf.max())"
   ]
  },
  {
   "cell_type": "code",
   "execution_count": 15,
   "id": "2a9c1707-f342-46b3-9005-5d3091bdd343",
   "metadata": {},
   "outputs": [
    {
     "name": "stdout",
     "output_type": "stream",
     "text": [
      "c         1\n",
      "py       11\n",
      "cpp     111\n",
      "java     10\n",
      "dtype: int64\n"
     ]
    }
   ],
   "source": [
    "print(dataf.min())"
   ]
  },
  {
   "cell_type": "code",
   "execution_count": 16,
   "id": "e6d17c86-0644-4131-b5f0-6ea31e42a58a",
   "metadata": {},
   "outputs": [
    {
     "name": "stdout",
     "output_type": "stream",
     "text": [
      "c         5.0\n",
      "py       15.0\n",
      "cpp     555.0\n",
      "java     50.0\n",
      "dtype: float64\n"
     ]
    }
   ],
   "source": [
    "print(dataf.mean())"
   ]
  },
  {
   "cell_type": "code",
   "execution_count": 17,
   "id": "5b5599cd-40a5-4ef2-8dad-d5e658e75ad6",
   "metadata": {},
   "outputs": [
    {
     "name": "stdout",
     "output_type": "stream",
     "text": [
      "c         5.0\n",
      "py       15.0\n",
      "cpp     555.0\n",
      "java     50.0\n",
      "dtype: float64\n"
     ]
    }
   ],
   "source": [
    "print(dataf.median())"
   ]
  },
  {
   "cell_type": "code",
   "execution_count": 20,
   "id": "2e6fcdb6-7bf9-4369-84db-c88b3067c5d4",
   "metadata": {},
   "outputs": [
    {
     "name": "stdout",
     "output_type": "stream",
     "text": [
      "              c         py         cpp       java\n",
      "count  9.000000   9.000000    9.000000   9.000000\n",
      "mean   5.000000  15.000000  555.000000  50.000000\n",
      "std    2.738613   2.738613  303.986019  27.386128\n",
      "min    1.000000  11.000000  111.000000  10.000000\n",
      "25%    3.000000  13.000000  333.000000  30.000000\n",
      "50%    5.000000  15.000000  555.000000  50.000000\n",
      "75%    7.000000  17.000000  777.000000  70.000000\n",
      "max    9.000000  19.000000  999.000000  90.000000\n"
     ]
    }
   ],
   "source": [
    "print(dataf.describe())\n",
    "# returns the summary"
   ]
  },
  {
   "cell_type": "code",
   "execution_count": 21,
   "id": "6b40e1d6-3643-48dd-883a-28e7387d2b15",
   "metadata": {},
   "outputs": [
    {
     "name": "stdout",
     "output_type": "stream",
     "text": [
      "c         2.738613\n",
      "py        2.738613\n",
      "cpp     303.986019\n",
      "java     27.386128\n",
      "dtype: float64\n"
     ]
    }
   ],
   "source": [
    "print(dataf.std())\n",
    "# returns the standard deviation"
   ]
  },
  {
   "cell_type": "markdown",
   "id": "01b3b46e-efed-4095-ac5a-dd56917006ed",
   "metadata": {},
   "source": [
    "## Plotting"
   ]
  },
  {
   "cell_type": "code",
   "execution_count": 22,
   "id": "215ed1da-5fcc-4f53-b3de-375b0a0a4c63",
   "metadata": {},
   "outputs": [
    {
     "name": "stdout",
     "output_type": "stream",
     "text": [
      "Defaulting to user installation because normal site-packages is not writeable\n",
      "Requirement already satisfied: matplotlib in c:\\users\\dell\\appdata\\roaming\\python\\python312\\site-packages (3.8.2)\n",
      "Requirement already satisfied: contourpy>=1.0.1 in c:\\users\\dell\\appdata\\roaming\\python\\python312\\site-packages (from matplotlib) (1.2.0)\n",
      "Requirement already satisfied: cycler>=0.10 in c:\\users\\dell\\appdata\\roaming\\python\\python312\\site-packages (from matplotlib) (0.12.1)\n",
      "Requirement already satisfied: fonttools>=4.22.0 in c:\\users\\dell\\appdata\\roaming\\python\\python312\\site-packages (from matplotlib) (4.46.0)\n",
      "Requirement already satisfied: kiwisolver>=1.3.1 in c:\\users\\dell\\appdata\\roaming\\python\\python312\\site-packages (from matplotlib) (1.4.5)\n",
      "Requirement already satisfied: numpy<2,>=1.21 in c:\\users\\dell\\appdata\\roaming\\python\\python312\\site-packages (from matplotlib) (1.26.2)\n",
      "Requirement already satisfied: packaging>=20.0 in c:\\users\\dell\\appdata\\roaming\\python\\python312\\site-packages (from matplotlib) (23.2)\n",
      "Requirement already satisfied: pillow>=8 in c:\\users\\dell\\appdata\\roaming\\python\\python312\\site-packages (from matplotlib) (10.1.0)\n",
      "Requirement already satisfied: pyparsing>=2.3.1 in c:\\users\\dell\\appdata\\roaming\\python\\python312\\site-packages (from matplotlib) (3.1.1)\n",
      "Requirement already satisfied: python-dateutil>=2.7 in c:\\users\\dell\\appdata\\roaming\\python\\python312\\site-packages (from matplotlib) (2.8.2)\n",
      "Requirement already satisfied: six>=1.5 in c:\\users\\dell\\appdata\\roaming\\python\\python312\\site-packages (from python-dateutil>=2.7->matplotlib) (1.16.0)\n",
      "Note: you may need to restart the kernel to use updated packages.\n"
     ]
    }
   ],
   "source": [
    "pip install matplotlib"
   ]
  },
  {
   "cell_type": "code",
   "execution_count": 24,
   "id": "369a0b19-a912-4e30-808c-c9e6c15088d4",
   "metadata": {},
   "outputs": [],
   "source": [
    "import matplotlib"
   ]
  },
  {
   "cell_type": "code",
   "execution_count": 25,
   "id": "abdf0688-f3e2-4834-bc88-ca056313b332",
   "metadata": {},
   "outputs": [
    {
     "data": {
      "text/plain": [
       "['ExecutableNotFoundError',\n",
       " 'MatplotlibDeprecationWarning',\n",
       " 'MutableMapping',\n",
       " 'Parameter',\n",
       " 'Path',\n",
       " 'RcParams',\n",
       " '_ExecInfo',\n",
       " '_VersionInfo',\n",
       " '__all__',\n",
       " '__bibtex__',\n",
       " '__builtins__',\n",
       " '__cached__',\n",
       " '__doc__',\n",
       " '__file__',\n",
       " '__getattr__',\n",
       " '__loader__',\n",
       " '__name__',\n",
       " '__package__',\n",
       " '__path__',\n",
       " '__spec__',\n",
       " '_add_data_doc',\n",
       " '_api',\n",
       " '_c_internal_utils',\n",
       " '_check_versions',\n",
       " '_cm',\n",
       " '_cm_listed',\n",
       " '_color_data',\n",
       " '_deprecated_ignore_map',\n",
       " '_deprecated_map',\n",
       " '_deprecated_remain_as_none',\n",
       " '_docstring',\n",
       " '_ensure_handler',\n",
       " '_enums',\n",
       " '_fontconfig_pattern',\n",
       " '_get_config_or_cache_dir',\n",
       " '_get_executable_info',\n",
       " '_get_ssl_context',\n",
       " '_get_version',\n",
       " '_get_xdg_cache_dir',\n",
       " '_get_xdg_config_dir',\n",
       " '_init_tests',\n",
       " '_label_from_arg',\n",
       " '_log',\n",
       " '_logged_cached',\n",
       " '_open_file_or_url',\n",
       " '_parse_to_version_info',\n",
       " '_path',\n",
       " '_preprocess_data',\n",
       " '_rc_params_in_file',\n",
       " '_replacer',\n",
       " '_val_or_rc',\n",
       " '_version',\n",
       " 'atexit',\n",
       " 'bezier',\n",
       " 'cbook',\n",
       " 'cm',\n",
       " 'color_sequences',\n",
       " 'colormaps',\n",
       " 'colors',\n",
       " 'contextlib',\n",
       " 'cycler',\n",
       " 'defaultParams',\n",
       " 'ft2font',\n",
       " 'functools',\n",
       " 'get_backend',\n",
       " 'get_cachedir',\n",
       " 'get_configdir',\n",
       " 'get_data_path',\n",
       " 'importlib',\n",
       " 'inspect',\n",
       " 'interactive',\n",
       " 'is_interactive',\n",
       " 'locale',\n",
       " 'logging',\n",
       " 'matplotlib_fname',\n",
       " 'namedtuple',\n",
       " 'numpy',\n",
       " 'os',\n",
       " 'parse_version',\n",
       " 'path',\n",
       " 'pprint',\n",
       " 'rc',\n",
       " 'rcParams',\n",
       " 'rcParamsDefault',\n",
       " 'rcParamsOrig',\n",
       " 'rc_context',\n",
       " 'rc_file',\n",
       " 'rc_file_defaults',\n",
       " 'rc_params',\n",
       " 'rc_params_from_file',\n",
       " 'rcdefaults',\n",
       " 'rcsetup',\n",
       " 're',\n",
       " 'sanitize_sequence',\n",
       " 'scale',\n",
       " 'set_loglevel',\n",
       " 'shutil',\n",
       " 'subprocess',\n",
       " 'sys',\n",
       " 'tempfile',\n",
       " 'ticker',\n",
       " 'transforms',\n",
       " 'use',\n",
       " 'validate_backend',\n",
       " 'warnings']"
      ]
     },
     "execution_count": 25,
     "metadata": {},
     "output_type": "execute_result"
    }
   ],
   "source": [
    "dir(matplotlib)"
   ]
  },
  {
   "cell_type": "code",
   "execution_count": 26,
   "id": "6f75fc79-64d9-4d08-ac60-9aa65450d7f3",
   "metadata": {},
   "outputs": [],
   "source": [
    "import matplotlib.pyplot as plt"
   ]
  },
  {
   "cell_type": "code",
   "execution_count": 34,
   "id": "46d4c4b6-7044-47d0-844f-9d52d9820a3e",
   "metadata": {},
   "outputs": [
    {
     "name": "stdout",
     "output_type": "stream",
     "text": [
      "   c  cpp   py  java\n",
      "0  1   11  121    10\n",
      "1  2   14  242    21\n",
      "2  3   13  393    37\n",
      "3  4   24  404    40\n",
      "4  5   15  565    53\n",
      "5  6   56  657    66\n",
      "6  7   17  787    70\n",
      "7  8   87  899    89\n",
      "8  9   19  999    93\n"
     ]
    }
   ],
   "source": [
    "d={\n",
    "    'c':[1,2,3,4,5,6,7,8,9],\n",
    "    'cpp':[11,14,13,24,15,56,17,87,19],\n",
    "    'py':[121,242,393,404,565,657,787,899,999],\n",
    "    'java':[10,21,37,40,53,66,70,89,93]\n",
    "}\n",
    "md=pd.DataFrame(d)\n",
    "print(md)"
   ]
  },
  {
   "cell_type": "code",
   "execution_count": 35,
   "id": "3d1cfe3f-58be-44ed-b5d7-ff195c370ad2",
   "metadata": {},
   "outputs": [
    {
     "data": {
      "image/png": "[encoded data removed]",
      "text/plain": [
       "<Figure size 640x480 with 1 Axes>"
      ]
     },
     "metadata": {},
     "output_type": "display_data"
    }
   ],
   "source": [
    "# to plot\n",
    "md.plot()\n",
    "# to show\n",
    "plt.show()"
   ]
  },
  {
   "cell_type": "code",
   "execution_count": 36,
   "id": "d384cdb8-f8b9-4a41-825e-c5f88f66e43e",
   "metadata": {},
   "outputs": [
    {
     "data": {
      "image/png": "[encoded data removed]",
      "text/plain": [
       "<Figure size 640x480 with 1 Axes>"
      ]
     },
     "metadata": {},
     "output_type": "display_data"
    }
   ],
   "source": [
    "# Histogram\n",
    "md['py'].plot(kind='hist')\n",
    "plt.show()"
   ]
  },
  {
   "cell_type": "code",
   "execution_count": 37,
   "id": "b769d953-4c6c-4428-858d-9fdccd939c0e",
   "metadata": {},
   "outputs": [
    {
     "data": {
      "image/png": "[encoded data removed]",
      "text/plain": [
       "<Figure size 640x480 with 1 Axes>"
      ]
     },
     "metadata": {},
     "output_type": "display_data"
    }
   ],
   "source": [
    "# Histogram\n",
    "md['java'].plot(kind='hist')\n",
    "plt.show()"
   ]
  },
  {
   "cell_type": "code",
   "execution_count": 38,
   "id": "ef55cc0a-cdc6-439e-a035-de26ce7e0ab6",
   "metadata": {},
   "outputs": [],
   "source": [
    "# histogram gives the frequency chart"
   ]
  },
  {
   "cell_type": "code",
   "execution_count": 39,
   "id": "3fc2390e-e563-400f-b174-6f9bf1a2a75f",
   "metadata": {},
   "outputs": [
    {
     "data": {
      "image/png": "[encoded data removed]",
      "text/plain": [
       "<Figure size 640x480 with 1 Axes>"
      ]
     },
     "metadata": {},
     "output_type": "display_data"
    }
   ],
   "source": [
    "md.plot.pie(y='py')\n",
    "# here we need to mention the Y-axis\n",
    "plt.show()"
   ]
  },
  {
   "cell_type": "code",
   "execution_count": 40,
   "id": "21ed8ece-add1-4826-8ce7-c3974548e555",
   "metadata": {},
   "outputs": [
    {
     "data": {
      "text/plain": [
       "'if we mention the index while creating the dataframe , then here the indices will be displaced instead of 0,1,2..'"
      ]
     },
     "execution_count": 40,
     "metadata": {},
     "output_type": "execute_result"
    }
   ],
   "source": [
    "'''if we mention the index while creating the dataframe , then here the indices will be displaced instead of 0,1,2..'''"
   ]
  },
  {
   "cell_type": "code",
   "execution_count": 41,
   "id": "0520571e-4130-4d37-bb1a-5c292e0b30e2",
   "metadata": {},
   "outputs": [
    {
     "data": {
      "image/png": "[encoded data removed]",
      "text/plain": [
       "<Figure size 640x480 with 1 Axes>"
      ]
     },
     "metadata": {},
     "output_type": "display_data"
    }
   ],
   "source": [
    "md.plot.scatter(x='py',y='java')\n",
    "plt.show()"
   ]
  },
  {
   "cell_type": "code",
   "execution_count": 42,
   "id": "047d8470-d583-411c-ae0c-4c31638b14bd",
   "metadata": {},
   "outputs": [
    {
     "data": {
      "image/png": "[encoded data removed]",
      "text/plain": [
       "<Figure size 640x480 with 1 Axes>"
      ]
     },
     "metadata": {},
     "output_type": "display_data"
    }
   ],
   "source": [
    "md.plot.area()\n",
    "plt.show()"
   ]
  },
  {
   "cell_type": "code",
   "execution_count": null,
   "id": "5ef7718b-81f2-4557-bc07-276c34aa2c65",
   "metadata": {},
   "outputs": [],
   "source": []
  }
 ],
 "metadata": {
  "kernelspec": {
   "display_name": "Python 3 (ipykernel)",
   "language": "python",
   "name": "python3"
  },
  "language_info": {
   "codemirror_mode": {
    "name": "ipython",
    "version": 3
   },
   "file_extension": ".py",
   "mimetype": "text/x-python",
   "name": "python",
   "nbconvert_exporter": "python",
   "pygments_lexer": "ipython3",
   "version": "3.12.0"
  }
 },
 "nbformat": 4,
 "nbformat_minor": 5
}
